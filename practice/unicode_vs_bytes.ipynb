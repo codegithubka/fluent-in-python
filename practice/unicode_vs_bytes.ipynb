{
 "cells": [
  {
   "cell_type": "code",
   "id": "initial_id",
   "metadata": {
    "collapsed": true,
    "ExecuteTime": {
     "end_time": "2024-11-17T23:47:28.671825Z",
     "start_time": "2024-11-17T23:47:28.668211Z"
    }
   },
   "source": [
    "#Charatcer Issues\n",
    "\n",
    "s = 'cafe'\n",
    "len(s)\n"
   ],
   "outputs": [
    {
     "data": {
      "text/plain": [
       "4"
      ]
     },
     "execution_count": 1,
     "metadata": {},
     "output_type": "execute_result"
    }
   ],
   "execution_count": 1
  },
  {
   "metadata": {
    "ExecuteTime": {
     "end_time": "2024-11-17T23:48:01.717402Z",
     "start_time": "2024-11-17T23:48:01.713689Z"
    }
   },
   "cell_type": "code",
   "source": [
    "b = s.encode('utf-8')\n",
    "b"
   ],
   "id": "cd4a52455f67e222",
   "outputs": [
    {
     "data": {
      "text/plain": [
       "b'cafe'"
      ]
     },
     "execution_count": 6,
     "metadata": {},
     "output_type": "execute_result"
    }
   ],
   "execution_count": 6
  },
  {
   "metadata": {
    "ExecuteTime": {
     "end_time": "2024-11-17T23:48:09.747537Z",
     "start_time": "2024-11-17T23:48:09.739506Z"
    }
   },
   "cell_type": "code",
   "source": "len(b)",
   "id": "27bbc5f5578cb3c4",
   "outputs": [
    {
     "data": {
      "text/plain": [
       "4"
      ]
     },
     "execution_count": 7,
     "metadata": {},
     "output_type": "execute_result"
    }
   ],
   "execution_count": 7
  },
  {
   "metadata": {
    "ExecuteTime": {
     "end_time": "2024-11-17T23:48:18.567122Z",
     "start_time": "2024-11-17T23:48:18.562136Z"
    }
   },
   "cell_type": "code",
   "source": "b.decode('utf8')",
   "id": "d49cc022f3667c42",
   "outputs": [
    {
     "data": {
      "text/plain": [
       "'cafe'"
      ]
     },
     "execution_count": 8,
     "metadata": {},
     "output_type": "execute_result"
    }
   ],
   "execution_count": 8
  },
  {
   "metadata": {
    "ExecuteTime": {
     "end_time": "2024-11-17T23:50:05.302679Z",
     "start_time": "2024-11-17T23:50:05.299201Z"
    }
   },
   "cell_type": "code",
   "source": [
    "#Byte essentials\n",
    "\n",
    "cafe = bytes('cafe', encoding = 'utf-8')\n",
    "cafe"
   ],
   "id": "be785b314e765be5",
   "outputs": [
    {
     "data": {
      "text/plain": [
       "b'cafe'"
      ]
     },
     "execution_count": 10,
     "metadata": {},
     "output_type": "execute_result"
    }
   ],
   "execution_count": 10
  },
  {
   "metadata": {
    "ExecuteTime": {
     "end_time": "2024-11-17T23:50:09.943599Z",
     "start_time": "2024-11-17T23:50:09.938004Z"
    }
   },
   "cell_type": "code",
   "source": "cafe[0]",
   "id": "913779ff6718c0f3",
   "outputs": [
    {
     "data": {
      "text/plain": [
       "99"
      ]
     },
     "execution_count": 11,
     "metadata": {},
     "output_type": "execute_result"
    }
   ],
   "execution_count": 11
  },
  {
   "metadata": {
    "ExecuteTime": {
     "end_time": "2024-11-17T23:50:15.396087Z",
     "start_time": "2024-11-17T23:50:15.389920Z"
    }
   },
   "cell_type": "code",
   "source": "cafe[:1]",
   "id": "ed8848d310d0e5bd",
   "outputs": [
    {
     "data": {
      "text/plain": [
       "b'c'"
      ]
     },
     "execution_count": 12,
     "metadata": {},
     "output_type": "execute_result"
    }
   ],
   "execution_count": 12
  },
  {
   "metadata": {
    "ExecuteTime": {
     "end_time": "2024-11-17T23:51:10.913772Z",
     "start_time": "2024-11-17T23:51:10.908626Z"
    }
   },
   "cell_type": "code",
   "source": [
    "cafe_arr = bytearray(cafe)\n",
    "cafe_arr"
   ],
   "id": "b13ba61059ac121f",
   "outputs": [
    {
     "data": {
      "text/plain": [
       "bytearray(b'cafe')"
      ]
     },
     "execution_count": 13,
     "metadata": {},
     "output_type": "execute_result"
    }
   ],
   "execution_count": 13
  },
  {
   "metadata": {
    "ExecuteTime": {
     "end_time": "2024-11-17T23:51:22.063108Z",
     "start_time": "2024-11-17T23:51:22.055220Z"
    }
   },
   "cell_type": "code",
   "source": "cafe_arr[-1:]",
   "id": "593a2444a609bb32",
   "outputs": [
    {
     "data": {
      "text/plain": [
       "bytearray(b'e')"
      ]
     },
     "execution_count": 14,
     "metadata": {},
     "output_type": "execute_result"
    }
   ],
   "execution_count": 14
  },
  {
   "metadata": {
    "ExecuteTime": {
     "end_time": "2024-11-17T23:54:15.490433Z",
     "start_time": "2024-11-17T23:54:15.480848Z"
    }
   },
   "cell_type": "code",
   "source": "bytes.fromhex('31 4B CE A9')",
   "id": "e54868ad067075c",
   "outputs": [
    {
     "data": {
      "text/plain": [
       "b'1K\\xce\\xa9'"
      ]
     },
     "execution_count": 15,
     "metadata": {},
     "output_type": "execute_result"
    }
   ],
   "execution_count": 15
  },
  {
   "metadata": {
    "ExecuteTime": {
     "end_time": "2024-11-17T23:56:06.449555Z",
     "start_time": "2024-11-17T23:56:06.438018Z"
    }
   },
   "cell_type": "code",
   "source": [
    "#Binary from buffer like object\n",
    "\n",
    "import array\n",
    "numbers = array.array('h', [-2, -1, 0, 1, 2])\n",
    "octets = bytes(numbers)\n",
    "octets"
   ],
   "id": "2423677aeea5d620",
   "outputs": [
    {
     "data": {
      "text/plain": [
       "b'\\xfe\\xff\\xff\\xff\\x00\\x00\\x01\\x00\\x02\\x00'"
      ]
     },
     "execution_count": 16,
     "metadata": {},
     "output_type": "execute_result"
    }
   ],
   "execution_count": 16
  },
  {
   "metadata": {
    "ExecuteTime": {
     "end_time": "2024-11-18T00:01:18.889800Z",
     "start_time": "2024-11-18T00:01:18.881259Z"
    }
   },
   "cell_type": "code",
   "source": [
    "#UnicodeEncodeError\n",
    "city = 'Sao Paolo'\n",
    "city.encode('utf8')\n"
   ],
   "id": "a1a43bac0d766162",
   "outputs": [
    {
     "data": {
      "text/plain": [
       "b'Sao Paolo'"
      ]
     },
     "execution_count": 19,
     "metadata": {},
     "output_type": "execute_result"
    }
   ],
   "execution_count": 19
  },
  {
   "metadata": {
    "ExecuteTime": {
     "end_time": "2024-11-18T00:01:30.711601Z",
     "start_time": "2024-11-18T00:01:30.700039Z"
    }
   },
   "cell_type": "code",
   "source": "city.encode('utf16')",
   "id": "44cdb2c58dd3635e",
   "outputs": [
    {
     "data": {
      "text/plain": [
       "b'\\xff\\xfeS\\x00a\\x00o\\x00 \\x00P\\x00a\\x00o\\x00l\\x00o\\x00'"
      ]
     },
     "execution_count": 20,
     "metadata": {},
     "output_type": "execute_result"
    }
   ],
   "execution_count": 20
  },
  {
   "metadata": {
    "ExecuteTime": {
     "end_time": "2024-11-18T00:01:43.438719Z",
     "start_time": "2024-11-18T00:01:43.422181Z"
    }
   },
   "cell_type": "code",
   "source": "city.encode('iso-8859-1')",
   "id": "70aa40493dcf55b0",
   "outputs": [
    {
     "data": {
      "text/plain": [
       "b'Sao Paolo'"
      ]
     },
     "execution_count": 21,
     "metadata": {},
     "output_type": "execute_result"
    }
   ],
   "execution_count": 21
  },
  {
   "metadata": {
    "ExecuteTime": {
     "end_time": "2024-11-18T00:02:26.281472Z",
     "start_time": "2024-11-18T00:02:26.277326Z"
    }
   },
   "cell_type": "code",
   "source": "city.encode('cp437', errors='ignore')",
   "id": "7965eef4749f8e27",
   "outputs": [
    {
     "data": {
      "text/plain": [
       "b'Sao Paolo'"
      ]
     },
     "execution_count": 25,
     "metadata": {},
     "output_type": "execute_result"
    }
   ],
   "execution_count": 25
  },
  {
   "metadata": {
    "ExecuteTime": {
     "end_time": "2024-11-18T00:02:59.899712Z",
     "start_time": "2024-11-18T00:02:59.886912Z"
    }
   },
   "cell_type": "code",
   "source": "city.encode('cp437', errors='replace')",
   "id": "4bb30773b0485de9",
   "outputs": [
    {
     "data": {
      "text/plain": [
       "b'Sao Paolo'"
      ]
     },
     "execution_count": 26,
     "metadata": {},
     "output_type": "execute_result"
    }
   ],
   "execution_count": 26
  },
  {
   "metadata": {
    "ExecuteTime": {
     "end_time": "2024-11-18T00:03:27.211197Z",
     "start_time": "2024-11-18T00:03:27.200091Z"
    }
   },
   "cell_type": "code",
   "source": "city.encode('cp437', errors='xmlcharrefreplace')",
   "id": "298285233a488083",
   "outputs": [
    {
     "data": {
      "text/plain": [
       "b'Sao Paolo'"
      ]
     },
     "execution_count": 27,
     "metadata": {},
     "output_type": "execute_result"
    }
   ],
   "execution_count": 27
  },
  {
   "metadata": {
    "ExecuteTime": {
     "end_time": "2024-11-18T00:05:51.344878Z",
     "start_time": "2024-11-18T00:05:51.334960Z"
    }
   },
   "cell_type": "code",
   "source": [
    "#UnicodeDecodeError\n",
    "octets = b'Montr\\xe9al'\n",
    "octets.decode('cp1252')"
   ],
   "id": "b4106792ca73c793",
   "outputs": [
    {
     "data": {
      "text/plain": [
       "'Montréal'"
      ]
     },
     "execution_count": 29,
     "metadata": {},
     "output_type": "execute_result"
    }
   ],
   "execution_count": 29
  },
  {
   "metadata": {
    "ExecuteTime": {
     "end_time": "2024-11-18T00:06:01.203034Z",
     "start_time": "2024-11-18T00:06:01.198266Z"
    }
   },
   "cell_type": "code",
   "source": "octets.decode('iso-8859-1')",
   "id": "ff26872f7d616c04",
   "outputs": [
    {
     "data": {
      "text/plain": [
       "'Montréal'"
      ]
     },
     "execution_count": 30,
     "metadata": {},
     "output_type": "execute_result"
    }
   ],
   "execution_count": 30
  },
  {
   "metadata": {
    "ExecuteTime": {
     "end_time": "2024-11-18T00:06:10.580542Z",
     "start_time": "2024-11-18T00:06:10.559713Z"
    }
   },
   "cell_type": "code",
   "source": "octets.decode('utf8')",
   "id": "6550bf4528853675",
   "outputs": [
    {
     "ename": "UnicodeDecodeError",
     "evalue": "'utf-8' codec can't decode byte 0xe9 in position 5: invalid continuation byte",
     "output_type": "error",
     "traceback": [
      "\u001B[0;31m---------------------------------------------------------------------------\u001B[0m",
      "\u001B[0;31mUnicodeDecodeError\u001B[0m                        Traceback (most recent call last)",
      "Cell \u001B[0;32mIn[31], line 1\u001B[0m\n\u001B[0;32m----> 1\u001B[0m \u001B[43moctets\u001B[49m\u001B[38;5;241;43m.\u001B[39;49m\u001B[43mdecode\u001B[49m\u001B[43m(\u001B[49m\u001B[38;5;124;43m'\u001B[39;49m\u001B[38;5;124;43mutf8\u001B[39;49m\u001B[38;5;124;43m'\u001B[39;49m\u001B[43m)\u001B[49m\n",
      "\u001B[0;31mUnicodeDecodeError\u001B[0m: 'utf-8' codec can't decode byte 0xe9 in position 5: invalid continuation byte"
     ]
    }
   ],
   "execution_count": 31
  },
  {
   "metadata": {
    "ExecuteTime": {
     "end_time": "2024-11-18T00:35:25.123128Z",
     "start_time": "2024-11-18T00:35:25.110170Z"
    }
   },
   "cell_type": "code",
   "source": [
    "#Handling text files\n",
    "open('cafe.txt', 'w', encoding = 'utf8').write('cafe')"
   ],
   "id": "f4d2004fc51907c9",
   "outputs": [
    {
     "data": {
      "text/plain": [
       "4"
      ]
     },
     "execution_count": 33,
     "metadata": {},
     "output_type": "execute_result"
    }
   ],
   "execution_count": 33
  },
  {
   "metadata": {
    "ExecuteTime": {
     "end_time": "2024-11-18T00:35:42.748309Z",
     "start_time": "2024-11-18T00:35:42.739750Z"
    }
   },
   "cell_type": "code",
   "source": "open('cafe.txt').read() #Works on macOS",
   "id": "e1b76d815c7d6aa3",
   "outputs": [
    {
     "data": {
      "text/plain": [
       "'cafe'"
      ]
     },
     "execution_count": 35,
     "metadata": {},
     "output_type": "execute_result"
    }
   ],
   "execution_count": 35
  },
  {
   "metadata": {
    "ExecuteTime": {
     "end_time": "2024-11-18T00:37:16.338254Z",
     "start_time": "2024-11-18T00:37:16.331269Z"
    }
   },
   "cell_type": "code",
   "source": [
    "fp = open('cafe.txt', 'w', encoding = 'utf-8')\n",
    "fp"
   ],
   "id": "1d8fc58b5dd28d2d",
   "outputs": [
    {
     "data": {
      "text/plain": [
       "<_io.TextIOWrapper name='cafe.txt' mode='w' encoding='utf-8'>"
      ]
     },
     "execution_count": 36,
     "metadata": {},
     "output_type": "execute_result"
    }
   ],
   "execution_count": 36
  },
  {
   "metadata": {
    "ExecuteTime": {
     "end_time": "2024-11-18T00:37:25.657683Z",
     "start_time": "2024-11-18T00:37:25.645605Z"
    }
   },
   "cell_type": "code",
   "source": "fp.write('cafe')",
   "id": "e27b6e592d6fb01c",
   "outputs": [
    {
     "data": {
      "text/plain": [
       "4"
      ]
     },
     "execution_count": 37,
     "metadata": {},
     "output_type": "execute_result"
    }
   ],
   "execution_count": 37
  },
  {
   "metadata": {
    "ExecuteTime": {
     "end_time": "2024-11-18T00:37:30.345748Z",
     "start_time": "2024-11-18T00:37:30.340970Z"
    }
   },
   "cell_type": "code",
   "source": "fp.close()",
   "id": "537a9bfdc1ed73ea",
   "outputs": [],
   "execution_count": 38
  },
  {
   "metadata": {
    "ExecuteTime": {
     "end_time": "2024-11-18T00:37:44.098980Z",
     "start_time": "2024-11-18T00:37:44.088964Z"
    }
   },
   "cell_type": "code",
   "source": [
    "import os\n",
    "os.stat('cafe.txt').st_size"
   ],
   "id": "19de1a1b4607c663",
   "outputs": [
    {
     "data": {
      "text/plain": [
       "4"
      ]
     },
     "execution_count": 39,
     "metadata": {},
     "output_type": "execute_result"
    }
   ],
   "execution_count": 39
  },
  {
   "metadata": {},
   "cell_type": "code",
   "outputs": [],
   "execution_count": null,
   "source": "",
   "id": "c112ce83da7c0287"
  }
 ],
 "metadata": {
  "kernelspec": {
   "display_name": "Python 3",
   "language": "python",
   "name": "python3"
  },
  "language_info": {
   "codemirror_mode": {
    "name": "ipython",
    "version": 2
   },
   "file_extension": ".py",
   "mimetype": "text/x-python",
   "name": "python",
   "nbconvert_exporter": "python",
   "pygments_lexer": "ipython2",
   "version": "2.7.6"
  }
 },
 "nbformat": 4,
 "nbformat_minor": 5
}
