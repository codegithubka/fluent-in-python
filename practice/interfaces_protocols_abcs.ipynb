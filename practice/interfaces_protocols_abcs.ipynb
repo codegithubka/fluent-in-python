{
 "cells": [
  {
   "metadata": {
    "ExecuteTime": {
     "end_time": "2024-11-19T05:13:18.262220Z",
     "start_time": "2024-11-19T05:13:18.257100Z"
    }
   },
   "cell_type": "code",
   "source": [
    "class Vowels:\n",
    "    def __getitem__(self, i):\n",
    "        return 'AEIOU'[i]\n",
    "    \n",
    "v = Vowels()\n",
    "v[0]"
   ],
   "id": "758c5449cec5856e",
   "outputs": [
    {
     "data": {
      "text/plain": [
       "'A'"
      ]
     },
     "execution_count": 1,
     "metadata": {},
     "output_type": "execute_result"
    }
   ],
   "execution_count": 1
  },
  {
   "metadata": {
    "ExecuteTime": {
     "end_time": "2024-11-19T05:13:20.762485Z",
     "start_time": "2024-11-19T05:13:20.757962Z"
    }
   },
   "cell_type": "code",
   "source": "v[-1]",
   "id": "b0b313f86a06a845",
   "outputs": [
    {
     "data": {
      "text/plain": [
       "'U'"
      ]
     },
     "execution_count": 2,
     "metadata": {},
     "output_type": "execute_result"
    }
   ],
   "execution_count": 2
  },
  {
   "metadata": {
    "ExecuteTime": {
     "end_time": "2024-11-19T05:13:30.730433Z",
     "start_time": "2024-11-19T05:13:30.724954Z"
    }
   },
   "cell_type": "code",
   "source": "for c in v: print(c)",
   "id": "b1af1dce8fd9962b",
   "outputs": [
    {
     "name": "stdout",
     "output_type": "stream",
     "text": [
      "A\n",
      "E\n",
      "I\n",
      "O\n",
      "U\n"
     ]
    }
   ],
   "execution_count": 3
  },
  {
   "metadata": {
    "ExecuteTime": {
     "end_time": "2024-11-19T06:35:37.278002Z",
     "start_time": "2024-11-19T06:35:37.249086Z"
    }
   },
   "cell_type": "code",
   "source": "'E' in v",
   "id": "a9f1cdb024fef0bf",
   "outputs": [
    {
     "data": {
      "text/plain": [
       "True"
      ]
     },
     "execution_count": 4,
     "metadata": {},
     "output_type": "execute_result"
    }
   ],
   "execution_count": 4
  },
  {
   "metadata": {
    "ExecuteTime": {
     "end_time": "2024-11-19T06:35:42.924237Z",
     "start_time": "2024-11-19T06:35:42.920586Z"
    }
   },
   "cell_type": "code",
   "source": "'Z' in v",
   "id": "60a05adc88a6e0c4",
   "outputs": [
    {
     "data": {
      "text/plain": [
       "False"
      ]
     },
     "execution_count": 5,
     "metadata": {},
     "output_type": "execute_result"
    }
   ],
   "execution_count": 5
  },
  {
   "metadata": {
    "ExecuteTime": {
     "end_time": "2024-11-19T19:05:32.471142Z",
     "start_time": "2024-11-19T19:05:32.467590Z"
    }
   },
   "cell_type": "code",
   "source": [
    "import collections\n",
    "\n",
    "Card = collections.namedtuple('Card', ['rank', 'suit'])\n",
    "\n",
    "class FrenchDeck:\n",
    "    ranks = [str(n) for n in range(2, 11)] + list('JQKA')\n",
    "    suits = 'spades diamonds clubs hearts'.split()\n",
    "\n",
    "    def __init__(self):\n",
    "        self._cards = [Card(rank, suit) for suit in self.suits\n",
    "                                        for rank in self.ranks]\n",
    "\n",
    "    def __len__(self):\n",
    "        return len(self._cards)\n",
    "\n",
    "    def __getitem__(self, position):\n",
    "        return self._cards[position]"
   ],
   "id": "ab9333ee0e02ae7b",
   "outputs": [],
   "execution_count": 1
  },
  {
   "metadata": {
    "ExecuteTime": {
     "end_time": "2024-11-19T19:07:59.823455Z",
     "start_time": "2024-11-19T19:07:59.813359Z"
    }
   },
   "cell_type": "code",
   "source": [
    "#monkey patching\n",
    "from random import shuffle\n",
    "l = list (range(10))\n",
    "shuffle(l)\n",
    "l\n"
   ],
   "id": "c768c231ebdae23d",
   "outputs": [
    {
     "data": {
      "text/plain": [
       "[7, 9, 1, 2, 3, 4, 0, 6, 8, 5]"
      ]
     },
     "execution_count": 2,
     "metadata": {},
     "output_type": "execute_result"
    }
   ],
   "execution_count": 2
  },
  {
   "metadata": {
    "ExecuteTime": {
     "end_time": "2024-11-19T19:08:26.640614Z",
     "start_time": "2024-11-19T19:08:26.514836Z"
    }
   },
   "cell_type": "code",
   "source": [
    "deck = FrenchDeck()\n",
    "shuffle(deck)"
   ],
   "id": "1ebe06b3d1e2294b",
   "outputs": [
    {
     "ename": "TypeError",
     "evalue": "'FrenchDeck' object does not support item assignment",
     "output_type": "error",
     "traceback": [
      "\u001B[0;31m---------------------------------------------------------------------------\u001B[0m",
      "\u001B[0;31mTypeError\u001B[0m                                 Traceback (most recent call last)",
      "Cell \u001B[0;32mIn[3], line 2\u001B[0m\n\u001B[1;32m      1\u001B[0m deck \u001B[38;5;241m=\u001B[39m FrenchDeck()\n\u001B[0;32m----> 2\u001B[0m \u001B[43mshuffle\u001B[49m\u001B[43m(\u001B[49m\u001B[43mdeck\u001B[49m\u001B[43m)\u001B[49m\n",
      "File \u001B[0;32m/Library/Frameworks/Python.framework/Versions/3.12/lib/python3.12/random.py:357\u001B[0m, in \u001B[0;36mRandom.shuffle\u001B[0;34m(self, x)\u001B[0m\n\u001B[1;32m    354\u001B[0m \u001B[38;5;28;01mfor\u001B[39;00m i \u001B[38;5;129;01min\u001B[39;00m \u001B[38;5;28mreversed\u001B[39m(\u001B[38;5;28mrange\u001B[39m(\u001B[38;5;241m1\u001B[39m, \u001B[38;5;28mlen\u001B[39m(x))):\n\u001B[1;32m    355\u001B[0m     \u001B[38;5;66;03m# pick an element in x[:i+1] with which to exchange x[i]\u001B[39;00m\n\u001B[1;32m    356\u001B[0m     j \u001B[38;5;241m=\u001B[39m randbelow(i \u001B[38;5;241m+\u001B[39m \u001B[38;5;241m1\u001B[39m)\n\u001B[0;32m--> 357\u001B[0m     \u001B[43mx\u001B[49m\u001B[43m[\u001B[49m\u001B[43mi\u001B[49m\u001B[43m]\u001B[49m, x[j] \u001B[38;5;241m=\u001B[39m x[j], x[i]\n",
      "\u001B[0;31mTypeError\u001B[0m: 'FrenchDeck' object does not support item assignment"
     ]
    }
   ],
   "execution_count": 3
  },
  {
   "metadata": {
    "ExecuteTime": {
     "end_time": "2024-11-19T19:10:42.932471Z",
     "start_time": "2024-11-19T19:10:42.924678Z"
    }
   },
   "cell_type": "code",
   "source": [
    "def set_card(deck, position,card):\n",
    "    deck._cards[position] = card\n",
    "\n",
    "FrenchDeck.__setitem__ = set_card\n",
    "shuffle(deck)\n",
    "deck[:5]"
   ],
   "id": "cc0faa9c7f1dcf12",
   "outputs": [
    {
     "data": {
      "text/plain": [
       "[Card(rank='10', suit='hearts'),\n",
       " Card(rank='6', suit='hearts'),\n",
       " Card(rank='10', suit='spades'),\n",
       " Card(rank='10', suit='clubs'),\n",
       " Card(rank='4', suit='clubs')]"
      ]
     },
     "execution_count": 4,
     "metadata": {},
     "output_type": "execute_result"
    }
   ],
   "execution_count": 4
  },
  {
   "metadata": {
    "ExecuteTime": {
     "end_time": "2024-11-19T19:18:34.343047Z",
     "start_time": "2024-11-19T19:18:34.336766Z"
    }
   },
   "cell_type": "code",
   "source": [
    "#defensive programming and \"fail fast\"\n",
    "def __init__(self, iterable):\n",
    "    self._balls = list(iterable)"
   ],
   "id": "a8a57748190d7cf2",
   "outputs": [],
   "execution_count": 7
  },
  {
   "metadata": {
    "ExecuteTime": {
     "end_time": "2024-11-19T19:31:35.860470Z",
     "start_time": "2024-11-19T19:31:35.849669Z"
    }
   },
   "cell_type": "code",
   "source": [
    "#Goose typing\n",
    "from collections.abc import Sequence\n",
    "Sequence.register(FrenchDeck)"
   ],
   "id": "69f03eba54071849",
   "outputs": [
    {
     "data": {
      "text/plain": [
       "__main__.FrenchDeck"
      ]
     },
     "execution_count": 8,
     "metadata": {},
     "output_type": "execute_result"
    }
   ],
   "execution_count": 8
  },
  {
   "metadata": {
    "ExecuteTime": {
     "end_time": "2024-11-19T19:39:46.166921Z",
     "start_time": "2024-11-19T19:39:46.158702Z"
    }
   },
   "cell_type": "code",
   "source": [
    "#subclassing an ABC\n",
    "from collections import namedtuple, abc\n",
    "\n",
    "Card = namedtuple('Card', ['rank', 'suit'])\n",
    "\n",
    "class FrenchDeck2(abc.MutableSequence):\n",
    "    ranks = [str(n) for n in range(2, 11)] + list('JQKA')\n",
    "    suits = 'spades diamonds clubs hearts'.split()\n",
    "\n",
    "    def __init__(self):\n",
    "        self._cards = [Card(rank, suit) for suit in self.suits\n",
    "                       for rank in self.ranks]\n",
    "    \n",
    "    def __len__(self):\n",
    "        return len(self._cards)\n",
    "\n",
    "    def __getitem__(self, position):\n",
    "        return self._cards[position]\n",
    "\n",
    "    def __setitem__(self, position, value):  \n",
    "        self._cards[position] = value\n",
    "\n",
    "    def __delitem__(self, position):  \n",
    "        del self._cards[position]\n",
    "\n",
    "    def insert(self, position, value):  \n",
    "        self._cards.insert(position, value)\n"
   ],
   "id": "8619df3ae1dbef5e",
   "outputs": [],
   "execution_count": 9
  },
  {
   "metadata": {
    "ExecuteTime": {
     "end_time": "2024-11-19T23:59:50.309461Z",
     "start_time": "2024-11-19T23:59:50.291702Z"
    }
   },
   "cell_type": "code",
   "source": [
    "import abc\n",
    "\n",
    "class Tombola(abc.ABC):\n",
    "    \n",
    "    @abc.abstractmethod\n",
    "    def load(self, iterable):\n",
    "        \"\"\"Add items from iterable\"\"\"\n",
    "        \n",
    "    @abc.abstractmethod\n",
    "    def pick(self):\n",
    "        \"\"\"Remove item at random, returning it\n",
    "        \n",
    "        This method should raise LookUpError when the instance is empty\n",
    "        \"\"\"\n",
    "    \n",
    "    def loaded(self):\n",
    "        \"\"\"\"Return True if there is at least 1 item.\"\"\"\n",
    "        return bool(self.inspect())\n",
    "    \n",
    "    def inspect(self):\n",
    "        \"\"\"return a sorted tuple with the items currently inside\"\"\"\n",
    "        items = []\n",
    "        while True:\n",
    "            try:\n",
    "                items.append(self.pick())\n",
    "            except LookupError:\n",
    "                break\n",
    "        self.load(items)\n",
    "        return tuple(items)\n",
    "                "
   ],
   "id": "367d92f16dc05031",
   "outputs": [],
   "execution_count": 10
  },
  {
   "metadata": {
    "ExecuteTime": {
     "end_time": "2024-11-20T00:07:51.642545Z",
     "start_time": "2024-11-20T00:07:51.631620Z"
    }
   },
   "cell_type": "code",
   "source": [
    "class Fake(Tombola):\n",
    "    \n",
    "    def pick(self):\n",
    "        return 13\n",
    "\n",
    "Fake\n",
    "    "
   ],
   "id": "7d5d548a32a3d6d1",
   "outputs": [
    {
     "data": {
      "text/plain": [
       "__main__.Fake"
      ]
     },
     "execution_count": 11,
     "metadata": {},
     "output_type": "execute_result"
    }
   ],
   "execution_count": 11
  },
  {
   "metadata": {
    "ExecuteTime": {
     "end_time": "2024-11-20T00:08:14.200184Z",
     "start_time": "2024-11-20T00:08:14.150548Z"
    }
   },
   "cell_type": "code",
   "source": "f = Fake()",
   "id": "4882715ebc34efa7",
   "outputs": [
    {
     "ename": "TypeError",
     "evalue": "Can't instantiate abstract class Fake without an implementation for abstract method 'load'",
     "output_type": "error",
     "traceback": [
      "\u001B[0;31m---------------------------------------------------------------------------\u001B[0m",
      "\u001B[0;31mTypeError\u001B[0m                                 Traceback (most recent call last)",
      "Cell \u001B[0;32mIn[12], line 1\u001B[0m\n\u001B[0;32m----> 1\u001B[0m f \u001B[38;5;241m=\u001B[39m \u001B[43mFake\u001B[49m\u001B[43m(\u001B[49m\u001B[43m)\u001B[49m\n",
      "\u001B[0;31mTypeError\u001B[0m: Can't instantiate abstract class Fake without an implementation for abstract method 'load'"
     ]
    }
   ],
   "execution_count": 12
  },
  {
   "metadata": {
    "ExecuteTime": {
     "end_time": "2024-11-20T00:11:30.147781Z",
     "start_time": "2024-11-20T00:11:30.142163Z"
    }
   },
   "cell_type": "code",
   "source": [
    "#ABC Syntax details\n",
    "class MyABC(abc.ABC):\n",
    "    @classmethod\n",
    "    @abc.abstractmethod #innermost decorator\n",
    "    \n",
    "    def an_abstract_class_method(cls,_):\n",
    "        pass"
   ],
   "id": "2a4cdb1555d99b95",
   "outputs": [],
   "execution_count": 13
  },
  {
   "metadata": {
    "ExecuteTime": {
     "end_time": "2024-11-20T00:33:36.107043Z",
     "start_time": "2024-11-20T00:33:36.090978Z"
    }
   },
   "cell_type": "code",
   "source": [
    "#Subclassing an ABC\n",
    "\n",
    "import random\n",
    "\n",
    "class BingoCage(Tombola):\n",
    "    \n",
    "    def __init__(self, items):\n",
    "        self._randomizer = random.SystemRandom()\n",
    "        self._items = []\n",
    "        self.load(items)\n",
    "        \n",
    "    def load(self, items):\n",
    "        self._items.extend(items)\n",
    "        self._randomizer.shuffle(self._items)\n",
    "        \n",
    "    def pick(self):\n",
    "        try:\n",
    "            return self._items.pop()\n",
    "        except IndexError:\n",
    "            raise LookupError('empty cage')\n",
    "    \n",
    "def __call__(self):\n",
    "    self.pick()"
   ],
   "id": "643faaac8a3fa1d1",
   "outputs": [],
   "execution_count": 15
  },
  {
   "metadata": {
    "ExecuteTime": {
     "end_time": "2024-11-20T00:33:37.653480Z",
     "start_time": "2024-11-20T00:33:37.648336Z"
    }
   },
   "cell_type": "code",
   "source": [
    "class LottoBlower(Tombola):\n",
    "    \n",
    "    def __init__(self, iterable):\n",
    "        self._balls = list(iterable)\n",
    "        \n",
    "    def load(self, iterable):\n",
    "        self._balls.extend(iterable)\n",
    "        \n",
    "    def pick(self):\n",
    "        try:\n",
    "            position = random.randrange(len(self._balls))\n",
    "        except ValueError:\n",
    "            raise LookupError('pick from an empty blower')\n",
    "        return self._balls.pop(position)\n",
    "    \n",
    "    def loaded(self):\n",
    "        return bool (self._balls)\n",
    "    \n",
    "    def inspect(self):\n",
    "        return tuple(self._balls)"
   ],
   "id": "186c8002da3d90d1",
   "outputs": [],
   "execution_count": 16
  },
  {
   "metadata": {
    "ExecuteTime": {
     "end_time": "2024-11-20T00:34:20.317109Z",
     "start_time": "2024-11-20T00:34:20.309314Z"
    }
   },
   "cell_type": "code",
   "source": [
    "#virtual subclass\n",
    "from random import randrange\n",
    "\n",
    "@Tombola.register\n",
    "class TomboList(list):\n",
    "    def pick(self):\n",
    "        if self:  \n",
    "            position = randrange(len(self))\n",
    "            return self.pop(position)  \n",
    "        else:\n",
    "            raise LookupError('pop from empty TomboList')\n",
    "\n",
    "    load = list.extend  \n",
    "\n",
    "    def loaded(self):\n",
    "        return bool(self)  \n",
    "\n",
    "    def inspect(self):\n",
    "        return tuple(self)\n"
   ],
   "id": "6f92b97c5eefc282",
   "outputs": [],
   "execution_count": 17
  },
  {
   "metadata": {
    "ExecuteTime": {
     "end_time": "2024-11-20T00:36:00.809212Z",
     "start_time": "2024-11-20T00:36:00.790034Z"
    }
   },
   "cell_type": "code",
   "source": "issubclass(TomboList, Tombola)",
   "id": "7ca132b2c18da1e2",
   "outputs": [
    {
     "data": {
      "text/plain": [
       "True"
      ]
     },
     "execution_count": 18,
     "metadata": {},
     "output_type": "execute_result"
    }
   ],
   "execution_count": 18
  },
  {
   "metadata": {
    "ExecuteTime": {
     "end_time": "2024-11-20T00:36:12.356750Z",
     "start_time": "2024-11-20T00:36:12.351734Z"
    }
   },
   "cell_type": "code",
   "source": "t = TomboList(range(100))",
   "id": "8ccff9bd39834899",
   "outputs": [],
   "execution_count": 19
  },
  {
   "metadata": {
    "ExecuteTime": {
     "end_time": "2024-11-20T00:36:19.463091Z",
     "start_time": "2024-11-20T00:36:19.457543Z"
    }
   },
   "cell_type": "code",
   "source": "isinstance(t, Tombola)",
   "id": "b4aaf7369d45fd97",
   "outputs": [
    {
     "data": {
      "text/plain": [
       "True"
      ]
     },
     "execution_count": 20,
     "metadata": {},
     "output_type": "execute_result"
    }
   ],
   "execution_count": 20
  },
  {
   "metadata": {
    "ExecuteTime": {
     "end_time": "2024-11-20T00:37:02.430944Z",
     "start_time": "2024-11-20T00:37:02.423569Z"
    }
   },
   "cell_type": "code",
   "source": "TomboList.__mro__",
   "id": "4b95a3b182e6aea7",
   "outputs": [
    {
     "data": {
      "text/plain": [
       "(__main__.TomboList, list, object)"
      ]
     },
     "execution_count": 21,
     "metadata": {},
     "output_type": "execute_result"
    }
   ],
   "execution_count": 21
  },
  {
   "metadata": {
    "ExecuteTime": {
     "end_time": "2024-11-20T00:43:15.779073Z",
     "start_time": "2024-11-20T00:43:15.766879Z"
    }
   },
   "cell_type": "code",
   "source": [
    "#structual typing with ABCs\n",
    "\n",
    "class Struggle:\n",
    "    \n",
    "    def __len__(self): return 23\n",
    "    \n",
    "\n",
    "from collections import abc\n",
    "isinstance(Struggle(), abc.Sized)"
   ],
   "id": "5ec3f4877c294153",
   "outputs": [
    {
     "data": {
      "text/plain": [
       "True"
      ]
     },
     "execution_count": 24,
     "metadata": {},
     "output_type": "execute_result"
    }
   ],
   "execution_count": 24
  },
  {
   "metadata": {
    "ExecuteTime": {
     "end_time": "2024-11-20T00:43:43.735523Z",
     "start_time": "2024-11-20T00:43:43.721015Z"
    }
   },
   "cell_type": "code",
   "source": "issubclass(Struggle, abc.Sized)",
   "id": "304ecb5eb0d51492",
   "outputs": [
    {
     "data": {
      "text/plain": [
       "True"
      ]
     },
     "execution_count": 27,
     "metadata": {},
     "output_type": "execute_result"
    }
   ],
   "execution_count": 27
  },
  {
   "metadata": {},
   "cell_type": "code",
   "outputs": [],
   "execution_count": null,
   "source": [
    "class Sized(metaclass=ABCMeta):\n",
    "\n",
    "    __slots__ = ()\n",
    "\n",
    "    @abstractmethod\n",
    "    def __len__(self):\n",
    "        return 0\n",
    "\n",
    "    @classmethod\n",
    "    def __subclasshook__(cls, C):\n",
    "        if cls is Sized:\n",
    "            if any(\"__len__\" in B.__dict__ for B in C.__mro__):  \n",
    "                return True  \n",
    "        return NotImplemented  "
   ],
   "id": "d00a34318b0a6814"
  },
  {
   "metadata": {
    "ExecuteTime": {
     "end_time": "2024-11-20T00:47:34.278163Z",
     "start_time": "2024-11-20T00:47:34.265536Z"
    }
   },
   "cell_type": "code",
   "source": "abc.Sized.__subclasshook__",
   "id": "c435c9e43dc8920f",
   "outputs": [
    {
     "data": {
      "text/plain": [
       "<bound method Sized.__subclasshook__ of <class 'collections.abc.Sized'>>"
      ]
     },
     "execution_count": 30,
     "metadata": {},
     "output_type": "execute_result"
    }
   ],
   "execution_count": 30
  },
  {
   "metadata": {
    "ExecuteTime": {
     "end_time": "2024-11-20T00:48:26.647715Z",
     "start_time": "2024-11-20T00:48:26.641611Z"
    }
   },
   "cell_type": "code",
   "source": "abc.Sized.__subclasscheck__",
   "id": "b9befe67644a8730",
   "outputs": [
    {
     "data": {
      "text/plain": [
       "<bound method ABCMeta.__subclasscheck__ of <class 'collections.abc.Sized'>>"
      ]
     },
     "execution_count": 33,
     "metadata": {},
     "output_type": "execute_result"
    }
   ],
   "execution_count": 33
  },
  {
   "metadata": {
    "ExecuteTime": {
     "end_time": "2024-11-20T00:51:51.043954Z",
     "start_time": "2024-11-20T00:51:51.023484Z"
    }
   },
   "cell_type": "code",
   "source": [
    "# Static protocols \n",
    "# typed double function\n",
    "\n",
    "def double(x):\n",
    "    return x * 2\n",
    "\n",
    "double(1.5)"
   ],
   "id": "45cacc3e796d6052",
   "outputs": [
    {
     "data": {
      "text/plain": [
       "3.0"
      ]
     },
     "execution_count": 35,
     "metadata": {},
     "output_type": "execute_result"
    }
   ],
   "execution_count": 35
  },
  {
   "metadata": {
    "ExecuteTime": {
     "end_time": "2024-11-20T00:51:56.450400Z",
     "start_time": "2024-11-20T00:51:56.440629Z"
    }
   },
   "cell_type": "code",
   "source": "double('A')",
   "id": "9cf1a55b0e252295",
   "outputs": [
    {
     "data": {
      "text/plain": [
       "'AA'"
      ]
     },
     "execution_count": 36,
     "metadata": {},
     "output_type": "execute_result"
    }
   ],
   "execution_count": 36
  },
  {
   "metadata": {
    "ExecuteTime": {
     "end_time": "2024-11-20T00:52:03.150056Z",
     "start_time": "2024-11-20T00:52:03.144023Z"
    }
   },
   "cell_type": "code",
   "source": "double([1, 2, 3])",
   "id": "550bdb196afd43e3",
   "outputs": [
    {
     "data": {
      "text/plain": [
       "[1, 2, 3, 1, 2, 3]"
      ]
     },
     "execution_count": 37,
     "metadata": {},
     "output_type": "execute_result"
    }
   ],
   "execution_count": 37
  },
  {
   "metadata": {
    "ExecuteTime": {
     "end_time": "2024-11-20T00:52:33.874460Z",
     "start_time": "2024-11-20T00:52:33.865903Z"
    }
   },
   "cell_type": "code",
   "source": [
    "from fractions import Fraction\n",
    "double(Fraction(1, 2))"
   ],
   "id": "c941e7b821486f2a",
   "outputs": [
    {
     "data": {
      "text/plain": [
       "Fraction(1, 1)"
      ]
     },
     "execution_count": 38,
     "metadata": {},
     "output_type": "execute_result"
    }
   ],
   "execution_count": 38
  },
  {
   "metadata": {
    "ExecuteTime": {
     "end_time": "2024-11-20T01:11:24.931111Z",
     "start_time": "2024-11-20T01:11:24.922064Z"
    }
   },
   "cell_type": "code",
   "source": [
    "from typing import TypeVar, Protocol\n",
    "\n",
    "T = TypeVar('T')\n",
    "\n",
    "class Repeatable(Protocol):\n",
    "    def __mul__(self: T, repeat_count: int)->T:...\n",
    "    \n",
    "RT = TypeVar('RT', bound=Repeatable)\n",
    "\n",
    "def double(x : RT) -> RT:\n",
    "    return x * 2"
   ],
   "id": "dfb2ed9a918ee4e8",
   "outputs": [],
   "execution_count": 40
  },
  {
   "metadata": {},
   "cell_type": "code",
   "source": [
    "@runime_checkable\n",
    "class SupportsComplex(Protocol):\n",
    "    \"\"\"An ABC with one abstract method __complex__.\"\"\"\n",
    "    \n",
    "    __slots__ = ()\n",
    "    \n",
    "    @abstractmethod\n",
    "    def __complex__(self) -> complex:\n",
    "        pass"
   ],
   "id": "d947c9b30ec9cc9f",
   "outputs": [],
   "execution_count": null
  }
 ],
 "metadata": {
  "kernelspec": {
   "display_name": "Python 3",
   "language": "python",
   "name": "python3"
  },
  "language_info": {
   "codemirror_mode": {
    "name": "ipython",
    "version": 2
   },
   "file_extension": ".py",
   "mimetype": "text/x-python",
   "name": "python",
   "nbconvert_exporter": "python",
   "pygments_lexer": "ipython2",
   "version": "2.7.6"
  }
 },
 "nbformat": 4,
 "nbformat_minor": 5
}
