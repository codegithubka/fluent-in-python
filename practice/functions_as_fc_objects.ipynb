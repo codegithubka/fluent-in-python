{
 "cells": [
  {
   "cell_type": "code",
   "id": "initial_id",
   "metadata": {
    "collapsed": true,
    "ExecuteTime": {
     "end_time": "2024-11-18T05:30:26.583570Z",
     "start_time": "2024-11-18T05:30:26.580513Z"
    }
   },
   "source": [
    "#Treating a function like an object\n",
    "def factorial(n):\n",
    "    \"\"\"returns !n\"\"\"\n",
    "    return 1 if n < 2 else n *factorial(n-1)"
   ],
   "outputs": [],
   "execution_count": 1
  },
  {
   "metadata": {
    "ExecuteTime": {
     "end_time": "2024-11-18T05:30:31.509725Z",
     "start_time": "2024-11-18T05:30:31.502545Z"
    }
   },
   "cell_type": "code",
   "source": "factorial(42)",
   "id": "5a1f2609ca334fcd",
   "outputs": [
    {
     "data": {
      "text/plain": [
       "1405006117752879898543142606244511569936384000000000"
      ]
     },
     "execution_count": 2,
     "metadata": {},
     "output_type": "execute_result"
    }
   ],
   "execution_count": 2
  },
  {
   "metadata": {
    "ExecuteTime": {
     "end_time": "2024-11-18T05:30:41.751826Z",
     "start_time": "2024-11-18T05:30:41.744721Z"
    }
   },
   "cell_type": "code",
   "source": "factorial.__doc__",
   "id": "4b36bf93fe5aa534",
   "outputs": [
    {
     "data": {
      "text/plain": [
       "'returns !n'"
      ]
     },
     "execution_count": 3,
     "metadata": {},
     "output_type": "execute_result"
    }
   ],
   "execution_count": 3
  },
  {
   "metadata": {
    "ExecuteTime": {
     "end_time": "2024-11-18T05:30:58.646778Z",
     "start_time": "2024-11-18T05:30:58.638574Z"
    }
   },
   "cell_type": "code",
   "source": "type(factorial)",
   "id": "9c567454d1ed77f2",
   "outputs": [
    {
     "data": {
      "text/plain": [
       "function"
      ]
     },
     "execution_count": 4,
     "metadata": {},
     "output_type": "execute_result"
    }
   ],
   "execution_count": 4
  },
  {
   "metadata": {
    "ExecuteTime": {
     "end_time": "2024-11-18T05:31:50.143515Z",
     "start_time": "2024-11-18T05:31:50.137973Z"
    }
   },
   "cell_type": "code",
   "source": [
    "fact = factorial\n",
    "fact"
   ],
   "id": "36e44de02276d58d",
   "outputs": [
    {
     "data": {
      "text/plain": [
       "<function __main__.factorial(n)>"
      ]
     },
     "execution_count": 5,
     "metadata": {},
     "output_type": "execute_result"
    }
   ],
   "execution_count": 5
  },
  {
   "metadata": {
    "ExecuteTime": {
     "end_time": "2024-11-18T05:32:04.765541Z",
     "start_time": "2024-11-18T05:32:04.754679Z"
    }
   },
   "cell_type": "code",
   "source": "fact(5)",
   "id": "873041ca9a5c2118",
   "outputs": [
    {
     "data": {
      "text/plain": [
       "120"
      ]
     },
     "execution_count": 6,
     "metadata": {},
     "output_type": "execute_result"
    }
   ],
   "execution_count": 6
  },
  {
   "metadata": {
    "ExecuteTime": {
     "end_time": "2024-11-18T05:32:16.422258Z",
     "start_time": "2024-11-18T05:32:16.415928Z"
    }
   },
   "cell_type": "code",
   "source": "map(factorial, range(11))",
   "id": "fa462b124c758f9c",
   "outputs": [
    {
     "data": {
      "text/plain": [
       "<map at 0x103d0bbe0>"
      ]
     },
     "execution_count": 7,
     "metadata": {},
     "output_type": "execute_result"
    }
   ],
   "execution_count": 7
  },
  {
   "metadata": {
    "ExecuteTime": {
     "end_time": "2024-11-18T05:32:25.757471Z",
     "start_time": "2024-11-18T05:32:25.750781Z"
    }
   },
   "cell_type": "code",
   "source": "list(map(factorial, range(11)))",
   "id": "a4bf8af9f42aafbe",
   "outputs": [
    {
     "data": {
      "text/plain": [
       "[1, 1, 2, 6, 24, 120, 720, 5040, 40320, 362880, 3628800]"
      ]
     },
     "execution_count": 8,
     "metadata": {},
     "output_type": "execute_result"
    }
   ],
   "execution_count": 8
  },
  {
   "metadata": {
    "ExecuteTime": {
     "end_time": "2024-11-18T05:34:25.582794Z",
     "start_time": "2024-11-18T05:34:25.571897Z"
    }
   },
   "cell_type": "code",
   "source": [
    "#Higher order functions\n",
    "fruits = ['apple', 'banana', 'cherry']\n",
    "sorted(fruits, key=len)"
   ],
   "id": "68159a25340a456",
   "outputs": [
    {
     "data": {
      "text/plain": [
       "['apple', 'banana', 'cherry']"
      ]
     },
     "execution_count": 9,
     "metadata": {},
     "output_type": "execute_result"
    }
   ],
   "execution_count": 9
  },
  {
   "metadata": {
    "ExecuteTime": {
     "end_time": "2024-11-18T05:35:21.453463Z",
     "start_time": "2024-11-18T05:35:21.446436Z"
    }
   },
   "cell_type": "code",
   "source": [
    "def reverse(word):\n",
    "    return word[::-1]\n",
    "reverse('testing')"
   ],
   "id": "75bc691d6794ceb4",
   "outputs": [
    {
     "data": {
      "text/plain": [
       "'gnitset'"
      ]
     },
     "execution_count": 10,
     "metadata": {},
     "output_type": "execute_result"
    }
   ],
   "execution_count": 10
  },
  {
   "metadata": {
    "ExecuteTime": {
     "end_time": "2024-11-18T05:35:41.288592Z",
     "start_time": "2024-11-18T05:35:41.280397Z"
    }
   },
   "cell_type": "code",
   "source": "sorted(fruits, key=reverse)",
   "id": "f2e50af546e81ba0",
   "outputs": [
    {
     "data": {
      "text/plain": [
       "['banana', 'apple', 'cherry']"
      ]
     },
     "execution_count": 11,
     "metadata": {},
     "output_type": "execute_result"
    }
   ],
   "execution_count": 11
  },
  {
   "metadata": {
    "ExecuteTime": {
     "end_time": "2024-11-18T05:37:04.039655Z",
     "start_time": "2024-11-18T05:37:04.031259Z"
    }
   },
   "cell_type": "code",
   "source": [
    "#Replacements of map, filter, and reduce\n",
    "\n",
    "list(map(factorial, range(6)))"
   ],
   "id": "ddfa566a068893a7",
   "outputs": [
    {
     "data": {
      "text/plain": [
       "[1, 1, 2, 6, 24, 120]"
      ]
     },
     "execution_count": 12,
     "metadata": {},
     "output_type": "execute_result"
    }
   ],
   "execution_count": 12
  },
  {
   "metadata": {
    "ExecuteTime": {
     "end_time": "2024-11-18T05:37:23.665853Z",
     "start_time": "2024-11-18T05:37:23.660638Z"
    }
   },
   "cell_type": "code",
   "source": "[factorial(n) for n in range(6)]",
   "id": "79f13a1c31e29cd2",
   "outputs": [
    {
     "data": {
      "text/plain": [
       "[1, 1, 2, 6, 24, 120]"
      ]
     },
     "execution_count": 13,
     "metadata": {},
     "output_type": "execute_result"
    }
   ],
   "execution_count": 13
  },
  {
   "metadata": {
    "ExecuteTime": {
     "end_time": "2024-11-18T05:38:17.467580Z",
     "start_time": "2024-11-18T05:38:17.457909Z"
    }
   },
   "cell_type": "code",
   "source": "[factorial(n) for n in range(6) if n % 2] ",
   "id": "b28c283e540b4031",
   "outputs": [
    {
     "data": {
      "text/plain": [
       "[1, 6, 120]"
      ]
     },
     "execution_count": 14,
     "metadata": {},
     "output_type": "execute_result"
    }
   ],
   "execution_count": 14
  },
  {
   "metadata": {
    "ExecuteTime": {
     "end_time": "2024-11-18T05:39:26.536890Z",
     "start_time": "2024-11-18T05:39:26.530295Z"
    }
   },
   "cell_type": "code",
   "source": [
    "from functools import reduce\n",
    "from operator import add\n",
    "reduce(add, range(100))"
   ],
   "id": "e596b4d2183068e0",
   "outputs": [
    {
     "data": {
      "text/plain": [
       "4950"
      ]
     },
     "execution_count": 15,
     "metadata": {},
     "output_type": "execute_result"
    }
   ],
   "execution_count": 15
  },
  {
   "metadata": {
    "ExecuteTime": {
     "end_time": "2024-11-18T05:39:31.392544Z",
     "start_time": "2024-11-18T05:39:31.385203Z"
    }
   },
   "cell_type": "code",
   "source": "sum(range(100))",
   "id": "335c3b851077a35e",
   "outputs": [
    {
     "data": {
      "text/plain": [
       "4950"
      ]
     },
     "execution_count": 16,
     "metadata": {},
     "output_type": "execute_result"
    }
   ],
   "execution_count": 16
  },
  {
   "metadata": {
    "ExecuteTime": {
     "end_time": "2024-11-18T05:42:54.512897Z",
     "start_time": "2024-11-18T05:42:54.504588Z"
    }
   },
   "cell_type": "code",
   "source": [
    "#Anonymous functions: lamda\n",
    "fruits.append('fig')\n",
    "fruits"
   ],
   "id": "554a92a205f80c26",
   "outputs": [
    {
     "data": {
      "text/plain": [
       "['apple', 'banana', 'cherry', ['fig', 'banana'], ['fig', 'banana'], 'fig']"
      ]
     },
     "execution_count": 22,
     "metadata": {},
     "output_type": "execute_result"
    }
   ],
   "execution_count": 22
  },
  {
   "metadata": {
    "ExecuteTime": {
     "end_time": "2024-11-18T05:43:06.633599Z",
     "start_time": "2024-11-18T05:43:06.627362Z"
    }
   },
   "cell_type": "code",
   "source": "del fruits",
   "id": "9cfd59a84093dce5",
   "outputs": [],
   "execution_count": 23
  },
  {
   "metadata": {
    "ExecuteTime": {
     "end_time": "2024-11-18T05:43:17.048186Z",
     "start_time": "2024-11-18T05:43:17.038345Z"
    }
   },
   "cell_type": "code",
   "source": "fruits = ['strawberry', 'fig', 'apple', 'cherry', 'raspberry', 'banana']",
   "id": "29c8c228728d9dbf",
   "outputs": [],
   "execution_count": 24
  },
  {
   "metadata": {
    "ExecuteTime": {
     "end_time": "2024-11-18T05:43:40.356649Z",
     "start_time": "2024-11-18T05:43:40.344261Z"
    }
   },
   "cell_type": "code",
   "source": "sorted(fruits, key=lambda word: word[::-1])",
   "id": "5f4e7ceccdeb7b2d",
   "outputs": [
    {
     "data": {
      "text/plain": [
       "['banana', 'apple', 'fig', 'raspberry', 'strawberry', 'cherry']"
      ]
     },
     "execution_count": 25,
     "metadata": {},
     "output_type": "execute_result"
    }
   ],
   "execution_count": 25
  },
  {
   "metadata": {
    "ExecuteTime": {
     "end_time": "2024-11-18T05:44:23.656044Z",
     "start_time": "2024-11-18T05:44:23.648307Z"
    }
   },
   "cell_type": "code",
   "source": [
    "fruits.sort(key=len, reverse=True)\n",
    "fruits"
   ],
   "id": "ec0f2d88af455377",
   "outputs": [
    {
     "data": {
      "text/plain": [
       "['strawberry', 'raspberry', 'cherry', 'banana', 'apple', 'fig']"
      ]
     },
     "execution_count": 29,
     "metadata": {},
     "output_type": "execute_result"
    }
   ],
   "execution_count": 29
  },
  {
   "metadata": {
    "ExecuteTime": {
     "end_time": "2024-11-18T05:48:11.614691Z",
     "start_time": "2024-11-18T05:48:11.597844Z"
    }
   },
   "cell_type": "code",
   "source": [
    "#User defined callable types\n",
    "import random\n",
    "\n",
    "class BingoCage:\n",
    "    def __init__(self, items):\n",
    "        self._items = list(items)\n",
    "        random.shuffle(self._items)\n",
    "    \n",
    "    def pick(self):\n",
    "        try:\n",
    "            return self._items.pop()\n",
    "        except IndexError:\n",
    "            raise LookupError('pick from an empty BingoCage')\n",
    "        \n",
    "    def __call__(self):\n",
    "        return self.pick()"
   ],
   "id": "1ea7e1fae41cf030",
   "outputs": [],
   "execution_count": 31
  },
  {
   "metadata": {
    "ExecuteTime": {
     "end_time": "2024-11-18T05:49:00.776168Z",
     "start_time": "2024-11-18T05:49:00.769146Z"
    }
   },
   "cell_type": "code",
   "source": [
    "bingo = BingoCage(range(3))\n",
    "bingo.pick()"
   ],
   "id": "44a68d31e92b86dc",
   "outputs": [
    {
     "data": {
      "text/plain": [
       "2"
      ]
     },
     "execution_count": 32,
     "metadata": {},
     "output_type": "execute_result"
    }
   ],
   "execution_count": 32
  },
  {
   "metadata": {
    "ExecuteTime": {
     "end_time": "2024-11-18T05:49:16.194871Z",
     "start_time": "2024-11-18T05:49:16.188417Z"
    }
   },
   "cell_type": "code",
   "source": "bingo()",
   "id": "2881660f156a7cfa",
   "outputs": [
    {
     "data": {
      "text/plain": [
       "1"
      ]
     },
     "execution_count": 33,
     "metadata": {},
     "output_type": "execute_result"
    }
   ],
   "execution_count": 33
  },
  {
   "metadata": {
    "ExecuteTime": {
     "end_time": "2024-11-18T05:49:22.115261Z",
     "start_time": "2024-11-18T05:49:22.109182Z"
    }
   },
   "cell_type": "code",
   "source": "callable(bingo)",
   "id": "66a2f49e57a1c6eb",
   "outputs": [
    {
     "data": {
      "text/plain": [
       "True"
      ]
     },
     "execution_count": 34,
     "metadata": {},
     "output_type": "execute_result"
    }
   ],
   "execution_count": 34
  },
  {
   "metadata": {
    "ExecuteTime": {
     "end_time": "2024-11-18T05:54:07.379316Z",
     "start_time": "2024-11-18T05:54:07.370049Z"
    }
   },
   "cell_type": "code",
   "source": [
    "#Positional to Keyword-only params\n",
    "def tag(name, *content, class_ = None, **attrs):\n",
    "    \"\"\"Generate one or more HTML tags\"\"\"\n",
    "    if class_ is not None:\n",
    "        attrs['class'] = class_\n",
    "    attr_pairs = (f' {attr}=\"{value}\"' for attr, value\n",
    "                    in sorted(attrs.items()))\n",
    "    attr_str = ''.join(attr_pairs)\n",
    "    if content:\n",
    "        elements = (f'<{name}{attr_str}>{c}</{name}>'\n",
    "                    for c in content)\n",
    "        return '\\n'.join(elements)\n",
    "    else:\n",
    "        return f'<{name}{attr_str} />'"
   ],
   "id": "bd18a6b57fc4553",
   "outputs": [],
   "execution_count": 35
  },
  {
   "metadata": {
    "ExecuteTime": {
     "end_time": "2024-11-18T05:54:17.061021Z",
     "start_time": "2024-11-18T05:54:17.050984Z"
    }
   },
   "cell_type": "code",
   "source": "tag.__doc__",
   "id": "aa344eb4e2b42180",
   "outputs": [
    {
     "data": {
      "text/plain": [
       "'Generate one or more HTML tags'"
      ]
     },
     "execution_count": 36,
     "metadata": {},
     "output_type": "execute_result"
    }
   ],
   "execution_count": 36
  },
  {
   "metadata": {
    "ExecuteTime": {
     "end_time": "2024-11-18T05:55:39.287619Z",
     "start_time": "2024-11-18T05:55:39.272633Z"
    }
   },
   "cell_type": "code",
   "source": [
    "my_tag = {'name': 'img', 'title': 'Sunset Boulevard',\n",
    "    'src': 'sunset.jpg', 'class': 'framed'}\n",
    "tag(**my_tag)  "
   ],
   "id": "ed4fd303e37a9ea8",
   "outputs": [
    {
     "data": {
      "text/plain": [
       "'<img class=\"framed\" src=\"sunset.jpg\" title=\"Sunset Boulevard\" />'"
      ]
     },
     "execution_count": 37,
     "metadata": {},
     "output_type": "execute_result"
    }
   ],
   "execution_count": 37
  },
  {
   "metadata": {
    "ExecuteTime": {
     "end_time": "2024-11-18T05:56:36.239138Z",
     "start_time": "2024-11-18T05:56:36.221335Z"
    }
   },
   "cell_type": "code",
   "source": [
    "def f(a, *, b):\n",
    "    return a,b \n",
    "\n",
    "f(1, b=2)"
   ],
   "id": "2f86a975333f6269",
   "outputs": [
    {
     "data": {
      "text/plain": [
       "(1, 2)"
      ]
     },
     "execution_count": 38,
     "metadata": {},
     "output_type": "execute_result"
    }
   ],
   "execution_count": 38
  },
  {
   "metadata": {
    "ExecuteTime": {
     "end_time": "2024-11-18T05:56:48.211945Z",
     "start_time": "2024-11-18T05:56:48.180070Z"
    }
   },
   "cell_type": "code",
   "source": "f(1,2)",
   "id": "7a8e9cf248dfcd6d",
   "outputs": [
    {
     "ename": "TypeError",
     "evalue": "f() takes 1 positional argument but 2 were given",
     "output_type": "error",
     "traceback": [
      "\u001B[0;31m---------------------------------------------------------------------------\u001B[0m",
      "\u001B[0;31mTypeError\u001B[0m                                 Traceback (most recent call last)",
      "Cell \u001B[0;32mIn[40], line 1\u001B[0m\n\u001B[0;32m----> 1\u001B[0m \u001B[43mf\u001B[49m\u001B[43m(\u001B[49m\u001B[38;5;241;43m1\u001B[39;49m\u001B[43m,\u001B[49m\u001B[38;5;241;43m2\u001B[39;49m\u001B[43m)\u001B[49m\n",
      "\u001B[0;31mTypeError\u001B[0m: f() takes 1 positional argument but 2 were given"
     ]
    }
   ],
   "execution_count": 40
  }
 ],
 "metadata": {
  "kernelspec": {
   "display_name": "Python 3",
   "language": "python",
   "name": "python3"
  },
  "language_info": {
   "codemirror_mode": {
    "name": "ipython",
    "version": 2
   },
   "file_extension": ".py",
   "mimetype": "text/x-python",
   "name": "python",
   "nbconvert_exporter": "python",
   "pygments_lexer": "ipython2",
   "version": "2.7.6"
  }
 },
 "nbformat": 4,
 "nbformat_minor": 5
}
