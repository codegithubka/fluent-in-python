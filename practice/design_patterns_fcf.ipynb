{
 "cells": [
  {
   "cell_type": "code",
   "id": "initial_id",
   "metadata": {
    "collapsed": true,
    "ExecuteTime": {
     "end_time": "2024-11-18T08:41:11.510899Z",
     "start_time": "2024-11-18T08:41:11.506386Z"
    }
   },
   "source": [
    "from abc import ABC, abstractmethod\n",
    "from collections.abc import Sequence\n",
    "from decimal import Decimal\n",
    "from typing import NamedTuple, Optional"
   ],
   "outputs": [],
   "execution_count": 1
  },
  {
   "metadata": {
    "ExecuteTime": {
     "end_time": "2024-11-18T08:55:52.223104Z",
     "start_time": "2024-11-18T08:55:52.178985Z"
    }
   },
   "cell_type": "code",
   "source": [
    "class Customer(NamedTuple):\n",
    "    name: str\n",
    "    fidelity: int\n",
    "    \n",
    "class LineItem(NamedTuple):\n",
    "    product: str\n",
    "    quantity: int\n",
    "    price: Decimal\n",
    "    \n",
    "    def total(self)->Decimal:\n",
    "        return self.price * self.quantity\n",
    "    \n",
    "class Order(NamedTuple):\n",
    "    customer: Customer\n",
    "    cart: Sequence[LineItem]\n",
    "    promotion: Optional['Promotion'] = None\n",
    "    \n",
    "    def total(self)->Decimal:\n",
    "        totals = (item.total() for item in self.cart)\n",
    "        return sum(totals, start=Decimal(0))\n",
    "    \n",
    "    def due(self)->Decimal:\n",
    "        if self.promotion is None:\n",
    "            discount = Decimal(0)\n",
    "        else:\n",
    "            discount = self.promotion.discount(self)\n",
    "        return self.total() - discount\n",
    "    \n",
    "    def __repr__(self):\n",
    "        return f'<Order total: {self.total():.2f} due: {self.due():.2f}>'\n",
    "    \n",
    "class Promotion(ABC): #the Strategy: an abstract base class\n",
    "    @abstractmethod\n",
    "    def discount(self, order: Order)->Decimal:\n",
    "        \"\"\"Return discount as a positive dollar amount\"\"\"\n",
    "        \n",
    "class FidelityPromo(Promotion):  # first Concrete Strategy\n",
    "    \"\"\"5% discount for customers with 1000 or more fidelity points\"\"\"\n",
    "\n",
    "    def discount(self, order: Order) -> Decimal:\n",
    "        rate = Decimal('0.05')\n",
    "        if order.customer.fidelity >= 1000:\n",
    "            return order.total() * rate\n",
    "        return Decimal(0)\n",
    "\n",
    "\n",
    "class BulkItemPromo(Promotion):  # second Concrete Strategy\n",
    "    \"\"\"10% discount for each LineItem with 20 or more units\"\"\"\n",
    "\n",
    "    def discount(self, order: Order) -> Decimal:\n",
    "        discount = Decimal(0)\n",
    "        for item in order.cart:\n",
    "            if item.quantity >= 20:\n",
    "                discount += item.total() * Decimal('0.1')\n",
    "        return discount\n",
    "\n",
    "\n",
    "class LargeOrderPromo(Promotion):  # third Concrete Strategy\n",
    "    \"\"\"7% discount for orders with 10 or more distinct items\"\"\"\n",
    "\n",
    "    def discount(self, order: Order) -> Decimal:\n",
    "        distinct_items = {item.product for item in order.cart}\n",
    "        if len(distinct_items) >= 10:\n",
    "            return order.total() * Decimal('0.07')\n",
    "        return Decimal(0)"
   ],
   "id": "49fbfa19d15d46e3",
   "outputs": [],
   "execution_count": 2
  },
  {
   "metadata": {
    "ExecuteTime": {
     "end_time": "2024-11-18T09:15:37.538307Z",
     "start_time": "2024-11-18T09:15:37.533090Z"
    }
   },
   "cell_type": "code",
   "source": [
    "#Function-oriented strategy\n",
    "from collections.abc import Sequence\n",
    "from dataclasses import dataclass\n",
    "from decimal import Decimal\n",
    "from typing import Optional, Callable, NamedTuple"
   ],
   "id": "5633358e70015a76",
   "outputs": [],
   "execution_count": 5
  },
  {
   "metadata": {
    "ExecuteTime": {
     "end_time": "2024-11-18T09:15:39.186557Z",
     "start_time": "2024-11-18T09:15:39.173217Z"
    }
   },
   "cell_type": "code",
   "source": [
    "class Customer(NamedTuple):\n",
    "    name: str\n",
    "    fidelity: int\n",
    "\n",
    "\n",
    "class LineItem(NamedTuple):\n",
    "    product: str\n",
    "    quantity: int\n",
    "    price: Decimal\n",
    "\n",
    "    def total(self):\n",
    "        return self.price * self.quantity\n",
    "\n",
    "\n",
    "@dataclass(frozen=True)\n",
    "class Order:  # the Context\n",
    "    customer: Customer\n",
    "    cart: Sequence[LineItem]\n",
    "    promotion: Optional[Callable[['Order'], Decimal]] = None  \n",
    "\n",
    "    def total(self) -> Decimal:\n",
    "        totals = (item.total() for item in self.cart)\n",
    "        return sum(totals, start=Decimal(0))\n",
    "\n",
    "    def due(self) -> Decimal:\n",
    "        if self.promotion is None:\n",
    "            discount = Decimal(0)\n",
    "        else:\n",
    "            discount = self.promotion(self)  \n",
    "        return self.total() - discount\n",
    "\n",
    "    def __repr__(self):\n",
    "        return f'<Order total: {self.total():.2f} due: {self.due():.2f}>'\n",
    "\n",
    "def fidelity_promo(order: Order) -> Decimal:  \n",
    "    \"\"\"5% discount for customers with 1000 or more fidelity points\"\"\"\n",
    "    if order.customer.fidelity >= 1000:\n",
    "        return order.total() * Decimal('0.05')\n",
    "    return Decimal(0)\n",
    "\n",
    "\n",
    "def bulk_item_promo(order: Order) -> Decimal:\n",
    "    \"\"\"10% discount for each LineItem with 20 or more units\"\"\"\n",
    "    discount = Decimal(0)\n",
    "    for item in order.cart:\n",
    "        if item.quantity >= 20:\n",
    "            discount += item.total() * Decimal('0.1')\n",
    "    return discount\n",
    "\n",
    "\n",
    "def large_order_promo(order: Order) -> Decimal:\n",
    "    \"\"\"7% discount for orders with 10 or more distinct items\"\"\"\n",
    "    distinct_items = {item.product for item in order.cart}\n",
    "    if len(distinct_items) >= 10:\n",
    "        return order.total()* Decimal('0.07')"
   ],
   "id": "b1688c23c42b5ef6",
   "outputs": [],
   "execution_count": 6
  },
  {
   "metadata": {
    "ExecuteTime": {
     "end_time": "2024-11-18T09:23:41.735920Z",
     "start_time": "2024-11-18T09:23:41.729343Z"
    }
   },
   "cell_type": "code",
   "source": [
    "promos = [fidelity_promo, bulk_item_promo, large_order_promo] #DANGER!!\n",
    "\n",
    "def best_promo(order: Order) -> Decimal:\n",
    "    \"\"\"Compute the best discount available\"\"\"\n",
    "    return max(promo(order) for promo in promos)"
   ],
   "id": "bdf4d9379939c4d1",
   "outputs": [],
   "execution_count": 9
  },
  {
   "metadata": {
    "ExecuteTime": {
     "end_time": "2024-11-18T09:24:32.876432Z",
     "start_time": "2024-11-18T09:24:32.822234Z"
    }
   },
   "cell_type": "code",
   "source": "globals()",
   "id": "b452314d99a3574a",
   "outputs": [
    {
     "data": {
      "text/plain": [
       "{'__name__': '__main__',\n",
       " '__doc__': 'Automatically created module for IPython interactive environment',\n",
       " '__package__': None,\n",
       " '__loader__': None,\n",
       " '__spec__': None,\n",
       " '__builtin__': <module 'builtins' (built-in)>,\n",
       " '__builtins__': <module 'builtins' (built-in)>,\n",
       " '_ih': ['',\n",
       "  'from abc import ABC, abstractmethod\\nfrom collections.abc import Sequence\\nfrom decimal import Decimal\\nfrom typing import NamedTuple, Optional',\n",
       "  'class Customer(NamedTuple):\\n    name: str\\n    fidelity: int\\n    \\nclass LineItem(NamedTuple):\\n    product: str\\n    quantity: int\\n    price: Decimal\\n    \\n    def total(self)->Decimal:\\n        return self.price * self.quantity\\n    \\nclass Order(NamedTuple):\\n    customer: Customer\\n    cart: Sequence[LineItem]\\n    promotion: Optional[\\'Promotion\\'] = None\\n    \\n    def total(self)->Decimal:\\n        totals = (item.total() for item in self.cart)\\n        return sum(totals, start=Decimal(0))\\n    \\n    def due(self)->Decimal:\\n        if self.promotion is None:\\n            discount = Decimal(0)\\n        else:\\n            discount = self.promotion.discount(self)\\n        return self.total() - discount\\n    \\n    def __repr__(self):\\n        return f\\'<Order total: {self.total():.2f} due: {self.due():.2f}>\\'\\n    \\nclass Promotion(ABC): #the Strategy: an abstract base class\\n    @abstractmethod\\n    def discount(self, order: Order)->Decimal:\\n        \"\"\"Return discount as a positive dollar amount\"\"\"\\n        \\nclass FidelityPromo(Promotion):  # first Concrete Strategy\\n    \"\"\"5% discount for customers with 1000 or more fidelity points\"\"\"\\n\\n    def discount(self, order: Order) -> Decimal:\\n        rate = Decimal(\\'0.05\\')\\n        if order.customer.fidelity >= 1000:\\n            return order.total() * rate\\n        return Decimal(0)\\n\\n\\nclass BulkItemPromo(Promotion):  # second Concrete Strategy\\n    \"\"\"10% discount for each LineItem with 20 or more units\"\"\"\\n\\n    def discount(self, order: Order) -> Decimal:\\n        discount = Decimal(0)\\n        for item in order.cart:\\n            if item.quantity >= 20:\\n                discount += item.total() * Decimal(\\'0.1\\')\\n        return discount\\n\\n\\nclass LargeOrderPromo(Promotion):  # third Concrete Strategy\\n    \"\"\"7% discount for orders with 10 or more distinct items\"\"\"\\n\\n    def discount(self, order: Order) -> Decimal:\\n        distinct_items = {item.product for item in order.cart}\\n        if len(distinct_items) >= 10:\\n            return order.total() * Decimal(\\'0.07\\')\\n        return Decimal(0)',\n",
       "  '@dataclass(frozen=True)\\nclass Order:  # the Context\\n    customer: Customer\\n    cart: Sequence[LineItem]\\n    promotion: Optional[Callable[[\\'Order\\'], Decimal]] = None  \\n\\n    def total(self) -> Decimal:\\n        totals = (item.total() for item in self.cart)\\n        return sum(totals, start=Decimal(0))\\n\\n    def due(self) -> Decimal:\\n        if self.promotion is None:\\n            discount = Decimal(0)\\n        else:\\n            discount = self.promotion(self)  \\n        return self.total() - discount\\n\\n    def __repr__(self):\\n        return f\\'<Order total: {self.total():.2f} due: {self.due():.2f}>\\'\\n\\ndef fidelity_promo(order: Order) -> Decimal:  \\n    \"\"\"5% discount for customers with 1000 or more fidelity points\"\"\"\\n    if order.customer.fidelity >= 1000:\\n        return order.total() * Decimal(\\'0.05\\')\\n    return Decimal(0)\\n\\n\\ndef bulk_item_promo(order: Order) -> Decimal:\\n    \"\"\"10% discount for each LineItem with 20 or more units\"\"\"\\n    discount = Decimal(0)\\n    for item in order.cart:\\n        if item.quantity >= 20:\\n            discount += item.total() * Decimal(\\'0.1\\')\\n    return discount\\n\\n\\ndef large_order_promo(order: Order) -> Decimal:\\n    \"\"\"7% discount for orders with 10 or more distinct items\"\"\"\\n    distinct_items = {item.product for item in order.cart}\\n    if len(distinct_items) >= 10:\\n        return order.total()* Decimal(\\'0.07\\')',\n",
       "  'class Customer(NamedTuple):\\n    name: str\\n    fidelity: int\\n\\n\\nclass LineItem(NamedTuple):\\n    product: str\\n    quantity: int\\n    price: Decimal\\n\\n    def total(self):\\n        return self.price * self.quantity\\n\\n\\n@dataclass(frozen=True)\\nclass Order:  # the Context\\n    customer: Customer\\n    cart: Sequence[LineItem]\\n    promotion: Optional[Callable[[\\'Order\\'], Decimal]] = None  \\n\\n    def total(self) -> Decimal:\\n        totals = (item.total() for item in self.cart)\\n        return sum(totals, start=Decimal(0))\\n\\n    def due(self) -> Decimal:\\n        if self.promotion is None:\\n            discount = Decimal(0)\\n        else:\\n            discount = self.promotion(self)  \\n        return self.total() - discount\\n\\n    def __repr__(self):\\n        return f\\'<Order total: {self.total():.2f} due: {self.due():.2f}>\\'\\n\\ndef fidelity_promo(order: Order) -> Decimal:  \\n    \"\"\"5% discount for customers with 1000 or more fidelity points\"\"\"\\n    if order.customer.fidelity >= 1000:\\n        return order.total() * Decimal(\\'0.05\\')\\n    return Decimal(0)\\n\\n\\ndef bulk_item_promo(order: Order) -> Decimal:\\n    \"\"\"10% discount for each LineItem with 20 or more units\"\"\"\\n    discount = Decimal(0)\\n    for item in order.cart:\\n        if item.quantity >= 20:\\n            discount += item.total() * Decimal(\\'0.1\\')\\n    return discount\\n\\n\\ndef large_order_promo(order: Order) -> Decimal:\\n    \"\"\"7% discount for orders with 10 or more distinct items\"\"\"\\n    distinct_items = {item.product for item in order.cart}\\n    if len(distinct_items) >= 10:\\n        return order.total()* Decimal(\\'0.07\\')',\n",
       "  '#Function-oriented strategy\\nfrom collections.abc import Sequence\\nfrom dataclasses import dataclass\\nfrom decimal import Decimal\\nfrom typing import Optional, Callable, NamedTuple',\n",
       "  'class Customer(NamedTuple):\\n    name: str\\n    fidelity: int\\n\\n\\nclass LineItem(NamedTuple):\\n    product: str\\n    quantity: int\\n    price: Decimal\\n\\n    def total(self):\\n        return self.price * self.quantity\\n\\n\\n@dataclass(frozen=True)\\nclass Order:  # the Context\\n    customer: Customer\\n    cart: Sequence[LineItem]\\n    promotion: Optional[Callable[[\\'Order\\'], Decimal]] = None  \\n\\n    def total(self) -> Decimal:\\n        totals = (item.total() for item in self.cart)\\n        return sum(totals, start=Decimal(0))\\n\\n    def due(self) -> Decimal:\\n        if self.promotion is None:\\n            discount = Decimal(0)\\n        else:\\n            discount = self.promotion(self)  \\n        return self.total() - discount\\n\\n    def __repr__(self):\\n        return f\\'<Order total: {self.total():.2f} due: {self.due():.2f}>\\'\\n\\ndef fidelity_promo(order: Order) -> Decimal:  \\n    \"\"\"5% discount for customers with 1000 or more fidelity points\"\"\"\\n    if order.customer.fidelity >= 1000:\\n        return order.total() * Decimal(\\'0.05\\')\\n    return Decimal(0)\\n\\n\\ndef bulk_item_promo(order: Order) -> Decimal:\\n    \"\"\"10% discount for each LineItem with 20 or more units\"\"\"\\n    discount = Decimal(0)\\n    for item in order.cart:\\n        if item.quantity >= 20:\\n            discount += item.total() * Decimal(\\'0.1\\')\\n    return discount\\n\\n\\ndef large_order_promo(order: Order) -> Decimal:\\n    \"\"\"7% discount for orders with 10 or more distinct items\"\"\"\\n    distinct_items = {item.product for item in order.cart}\\n    if len(distinct_items) >= 10:\\n        return order.total()* Decimal(\\'0.07\\')',\n",
       "  'promos = [fidelity_promo, bulk_item_promo, large_order_promo]\\n\\ndef best_promo(order: Order) -> Decimal:\\n    \"\"',\n",
       "  'promos = [fidelity_promo, bulk_item_promo, large_order_promo]\\n\\ndef best_promo(order: Order) -> Decimal:\\n    \"\"\"Compute the best discount available\"\"\"\\n    return max(promo(order for promo in promos))',\n",
       "  'promos = [fidelity_promo, bulk_item_promo, large_order_promo]\\n\\ndef best_promo(order: Order) -> Decimal:\\n    \"\"\"Compute the best discount available\"\"\"\\n    return max(promo(order) for promo in promos)',\n",
       "  'globals()'],\n",
       " '_oh': {},\n",
       " '_dh': [PosixPath('/Users/kimonanagnostopoulos/PycharmProjects/fluent-in-python/practice')],\n",
       " 'In': ['',\n",
       "  'from abc import ABC, abstractmethod\\nfrom collections.abc import Sequence\\nfrom decimal import Decimal\\nfrom typing import NamedTuple, Optional',\n",
       "  'class Customer(NamedTuple):\\n    name: str\\n    fidelity: int\\n    \\nclass LineItem(NamedTuple):\\n    product: str\\n    quantity: int\\n    price: Decimal\\n    \\n    def total(self)->Decimal:\\n        return self.price * self.quantity\\n    \\nclass Order(NamedTuple):\\n    customer: Customer\\n    cart: Sequence[LineItem]\\n    promotion: Optional[\\'Promotion\\'] = None\\n    \\n    def total(self)->Decimal:\\n        totals = (item.total() for item in self.cart)\\n        return sum(totals, start=Decimal(0))\\n    \\n    def due(self)->Decimal:\\n        if self.promotion is None:\\n            discount = Decimal(0)\\n        else:\\n            discount = self.promotion.discount(self)\\n        return self.total() - discount\\n    \\n    def __repr__(self):\\n        return f\\'<Order total: {self.total():.2f} due: {self.due():.2f}>\\'\\n    \\nclass Promotion(ABC): #the Strategy: an abstract base class\\n    @abstractmethod\\n    def discount(self, order: Order)->Decimal:\\n        \"\"\"Return discount as a positive dollar amount\"\"\"\\n        \\nclass FidelityPromo(Promotion):  # first Concrete Strategy\\n    \"\"\"5% discount for customers with 1000 or more fidelity points\"\"\"\\n\\n    def discount(self, order: Order) -> Decimal:\\n        rate = Decimal(\\'0.05\\')\\n        if order.customer.fidelity >= 1000:\\n            return order.total() * rate\\n        return Decimal(0)\\n\\n\\nclass BulkItemPromo(Promotion):  # second Concrete Strategy\\n    \"\"\"10% discount for each LineItem with 20 or more units\"\"\"\\n\\n    def discount(self, order: Order) -> Decimal:\\n        discount = Decimal(0)\\n        for item in order.cart:\\n            if item.quantity >= 20:\\n                discount += item.total() * Decimal(\\'0.1\\')\\n        return discount\\n\\n\\nclass LargeOrderPromo(Promotion):  # third Concrete Strategy\\n    \"\"\"7% discount for orders with 10 or more distinct items\"\"\"\\n\\n    def discount(self, order: Order) -> Decimal:\\n        distinct_items = {item.product for item in order.cart}\\n        if len(distinct_items) >= 10:\\n            return order.total() * Decimal(\\'0.07\\')\\n        return Decimal(0)',\n",
       "  '@dataclass(frozen=True)\\nclass Order:  # the Context\\n    customer: Customer\\n    cart: Sequence[LineItem]\\n    promotion: Optional[Callable[[\\'Order\\'], Decimal]] = None  \\n\\n    def total(self) -> Decimal:\\n        totals = (item.total() for item in self.cart)\\n        return sum(totals, start=Decimal(0))\\n\\n    def due(self) -> Decimal:\\n        if self.promotion is None:\\n            discount = Decimal(0)\\n        else:\\n            discount = self.promotion(self)  \\n        return self.total() - discount\\n\\n    def __repr__(self):\\n        return f\\'<Order total: {self.total():.2f} due: {self.due():.2f}>\\'\\n\\ndef fidelity_promo(order: Order) -> Decimal:  \\n    \"\"\"5% discount for customers with 1000 or more fidelity points\"\"\"\\n    if order.customer.fidelity >= 1000:\\n        return order.total() * Decimal(\\'0.05\\')\\n    return Decimal(0)\\n\\n\\ndef bulk_item_promo(order: Order) -> Decimal:\\n    \"\"\"10% discount for each LineItem with 20 or more units\"\"\"\\n    discount = Decimal(0)\\n    for item in order.cart:\\n        if item.quantity >= 20:\\n            discount += item.total() * Decimal(\\'0.1\\')\\n    return discount\\n\\n\\ndef large_order_promo(order: Order) -> Decimal:\\n    \"\"\"7% discount for orders with 10 or more distinct items\"\"\"\\n    distinct_items = {item.product for item in order.cart}\\n    if len(distinct_items) >= 10:\\n        return order.total()* Decimal(\\'0.07\\')',\n",
       "  'class Customer(NamedTuple):\\n    name: str\\n    fidelity: int\\n\\n\\nclass LineItem(NamedTuple):\\n    product: str\\n    quantity: int\\n    price: Decimal\\n\\n    def total(self):\\n        return self.price * self.quantity\\n\\n\\n@dataclass(frozen=True)\\nclass Order:  # the Context\\n    customer: Customer\\n    cart: Sequence[LineItem]\\n    promotion: Optional[Callable[[\\'Order\\'], Decimal]] = None  \\n\\n    def total(self) -> Decimal:\\n        totals = (item.total() for item in self.cart)\\n        return sum(totals, start=Decimal(0))\\n\\n    def due(self) -> Decimal:\\n        if self.promotion is None:\\n            discount = Decimal(0)\\n        else:\\n            discount = self.promotion(self)  \\n        return self.total() - discount\\n\\n    def __repr__(self):\\n        return f\\'<Order total: {self.total():.2f} due: {self.due():.2f}>\\'\\n\\ndef fidelity_promo(order: Order) -> Decimal:  \\n    \"\"\"5% discount for customers with 1000 or more fidelity points\"\"\"\\n    if order.customer.fidelity >= 1000:\\n        return order.total() * Decimal(\\'0.05\\')\\n    return Decimal(0)\\n\\n\\ndef bulk_item_promo(order: Order) -> Decimal:\\n    \"\"\"10% discount for each LineItem with 20 or more units\"\"\"\\n    discount = Decimal(0)\\n    for item in order.cart:\\n        if item.quantity >= 20:\\n            discount += item.total() * Decimal(\\'0.1\\')\\n    return discount\\n\\n\\ndef large_order_promo(order: Order) -> Decimal:\\n    \"\"\"7% discount for orders with 10 or more distinct items\"\"\"\\n    distinct_items = {item.product for item in order.cart}\\n    if len(distinct_items) >= 10:\\n        return order.total()* Decimal(\\'0.07\\')',\n",
       "  '#Function-oriented strategy\\nfrom collections.abc import Sequence\\nfrom dataclasses import dataclass\\nfrom decimal import Decimal\\nfrom typing import Optional, Callable, NamedTuple',\n",
       "  'class Customer(NamedTuple):\\n    name: str\\n    fidelity: int\\n\\n\\nclass LineItem(NamedTuple):\\n    product: str\\n    quantity: int\\n    price: Decimal\\n\\n    def total(self):\\n        return self.price * self.quantity\\n\\n\\n@dataclass(frozen=True)\\nclass Order:  # the Context\\n    customer: Customer\\n    cart: Sequence[LineItem]\\n    promotion: Optional[Callable[[\\'Order\\'], Decimal]] = None  \\n\\n    def total(self) -> Decimal:\\n        totals = (item.total() for item in self.cart)\\n        return sum(totals, start=Decimal(0))\\n\\n    def due(self) -> Decimal:\\n        if self.promotion is None:\\n            discount = Decimal(0)\\n        else:\\n            discount = self.promotion(self)  \\n        return self.total() - discount\\n\\n    def __repr__(self):\\n        return f\\'<Order total: {self.total():.2f} due: {self.due():.2f}>\\'\\n\\ndef fidelity_promo(order: Order) -> Decimal:  \\n    \"\"\"5% discount for customers with 1000 or more fidelity points\"\"\"\\n    if order.customer.fidelity >= 1000:\\n        return order.total() * Decimal(\\'0.05\\')\\n    return Decimal(0)\\n\\n\\ndef bulk_item_promo(order: Order) -> Decimal:\\n    \"\"\"10% discount for each LineItem with 20 or more units\"\"\"\\n    discount = Decimal(0)\\n    for item in order.cart:\\n        if item.quantity >= 20:\\n            discount += item.total() * Decimal(\\'0.1\\')\\n    return discount\\n\\n\\ndef large_order_promo(order: Order) -> Decimal:\\n    \"\"\"7% discount for orders with 10 or more distinct items\"\"\"\\n    distinct_items = {item.product for item in order.cart}\\n    if len(distinct_items) >= 10:\\n        return order.total()* Decimal(\\'0.07\\')',\n",
       "  'promos = [fidelity_promo, bulk_item_promo, large_order_promo]\\n\\ndef best_promo(order: Order) -> Decimal:\\n    \"\"',\n",
       "  'promos = [fidelity_promo, bulk_item_promo, large_order_promo]\\n\\ndef best_promo(order: Order) -> Decimal:\\n    \"\"\"Compute the best discount available\"\"\"\\n    return max(promo(order for promo in promos))',\n",
       "  'promos = [fidelity_promo, bulk_item_promo, large_order_promo]\\n\\ndef best_promo(order: Order) -> Decimal:\\n    \"\"\"Compute the best discount available\"\"\"\\n    return max(promo(order) for promo in promos)',\n",
       "  'globals()'],\n",
       " 'Out': {},\n",
       " 'get_ipython': <bound method InteractiveShell.get_ipython of <ipykernel.zmqshell.ZMQInteractiveShell object at 0x1077812b0>>,\n",
       " 'exit': <IPython.core.autocall.ZMQExitAutocall at 0x107b2d850>,\n",
       " 'quit': <IPython.core.autocall.ZMQExitAutocall at 0x107b2d850>,\n",
       " 'open': <function _io.open(file, mode='r', buffering=-1, encoding=None, errors=None, newline=None, closefd=True, opener=None)>,\n",
       " '_': '',\n",
       " '__': '',\n",
       " '___': '',\n",
       " '__session__': 'practice/design_patterns_fcf.ipynb',\n",
       " '_i': 'promos = [fidelity_promo, bulk_item_promo, large_order_promo]\\n\\ndef best_promo(order: Order) -> Decimal:\\n    \"\"\"Compute the best discount available\"\"\"\\n    return max(promo(order) for promo in promos)',\n",
       " '_ii': 'promos = [fidelity_promo, bulk_item_promo, large_order_promo]\\n\\ndef best_promo(order: Order) -> Decimal:\\n    \"\"\"Compute the best discount available\"\"\"\\n    return max(promo(order for promo in promos))',\n",
       " '_iii': 'promos = [fidelity_promo, bulk_item_promo, large_order_promo]\\n\\ndef best_promo(order: Order) -> Decimal:\\n    \"\"',\n",
       " '_i1': 'from abc import ABC, abstractmethod\\nfrom collections.abc import Sequence\\nfrom decimal import Decimal\\nfrom typing import NamedTuple, Optional',\n",
       " 'ABC': abc.ABC,\n",
       " 'abstractmethod': <function abc.abstractmethod(funcobj)>,\n",
       " 'Sequence': collections.abc.Sequence,\n",
       " 'Decimal': decimal.Decimal,\n",
       " 'NamedTuple': <function typing.NamedTuple(typename, fields=None, /, **kwargs)>,\n",
       " 'Optional': typing.Optional,\n",
       " 'sys': <module 'sys' (built-in)>,\n",
       " 'remove_imported_pydev_package': <function pydev_jupyter_utils.remove_imported_pydev_package()>,\n",
       " '_pydevd_bundle': <module '_pydevd_bundle' from '/Applications/PyCharm.app/Contents/plugins/python/helpers/pydev/_pydevd_bundle/__init__.py'>,\n",
       " 'pydev_jupyter_vars': <module 'pydev_jupyter_vars' from '/Applications/PyCharm.app/Contents/plugins/python/helpers-pro/jupyter_debug/pydev_jupyter_vars.py'>,\n",
       " '_i2': 'class Customer(NamedTuple):\\n    name: str\\n    fidelity: int\\n    \\nclass LineItem(NamedTuple):\\n    product: str\\n    quantity: int\\n    price: Decimal\\n    \\n    def total(self)->Decimal:\\n        return self.price * self.quantity\\n    \\nclass Order(NamedTuple):\\n    customer: Customer\\n    cart: Sequence[LineItem]\\n    promotion: Optional[\\'Promotion\\'] = None\\n    \\n    def total(self)->Decimal:\\n        totals = (item.total() for item in self.cart)\\n        return sum(totals, start=Decimal(0))\\n    \\n    def due(self)->Decimal:\\n        if self.promotion is None:\\n            discount = Decimal(0)\\n        else:\\n            discount = self.promotion.discount(self)\\n        return self.total() - discount\\n    \\n    def __repr__(self):\\n        return f\\'<Order total: {self.total():.2f} due: {self.due():.2f}>\\'\\n    \\nclass Promotion(ABC): #the Strategy: an abstract base class\\n    @abstractmethod\\n    def discount(self, order: Order)->Decimal:\\n        \"\"\"Return discount as a positive dollar amount\"\"\"\\n        \\nclass FidelityPromo(Promotion):  # first Concrete Strategy\\n    \"\"\"5% discount for customers with 1000 or more fidelity points\"\"\"\\n\\n    def discount(self, order: Order) -> Decimal:\\n        rate = Decimal(\\'0.05\\')\\n        if order.customer.fidelity >= 1000:\\n            return order.total() * rate\\n        return Decimal(0)\\n\\n\\nclass BulkItemPromo(Promotion):  # second Concrete Strategy\\n    \"\"\"10% discount for each LineItem with 20 or more units\"\"\"\\n\\n    def discount(self, order: Order) -> Decimal:\\n        discount = Decimal(0)\\n        for item in order.cart:\\n            if item.quantity >= 20:\\n                discount += item.total() * Decimal(\\'0.1\\')\\n        return discount\\n\\n\\nclass LargeOrderPromo(Promotion):  # third Concrete Strategy\\n    \"\"\"7% discount for orders with 10 or more distinct items\"\"\"\\n\\n    def discount(self, order: Order) -> Decimal:\\n        distinct_items = {item.product for item in order.cart}\\n        if len(distinct_items) >= 10:\\n            return order.total() * Decimal(\\'0.07\\')\\n        return Decimal(0)',\n",
       " 'Customer': __main__.Customer,\n",
       " 'LineItem': __main__.LineItem,\n",
       " 'Order': __main__.Order,\n",
       " 'Promotion': __main__.Promotion,\n",
       " 'FidelityPromo': __main__.FidelityPromo,\n",
       " 'BulkItemPromo': __main__.BulkItemPromo,\n",
       " 'LargeOrderPromo': __main__.LargeOrderPromo,\n",
       " '_i3': '@dataclass(frozen=True)\\nclass Order:  # the Context\\n    customer: Customer\\n    cart: Sequence[LineItem]\\n    promotion: Optional[Callable[[\\'Order\\'], Decimal]] = None  \\n\\n    def total(self) -> Decimal:\\n        totals = (item.total() for item in self.cart)\\n        return sum(totals, start=Decimal(0))\\n\\n    def due(self) -> Decimal:\\n        if self.promotion is None:\\n            discount = Decimal(0)\\n        else:\\n            discount = self.promotion(self)  \\n        return self.total() - discount\\n\\n    def __repr__(self):\\n        return f\\'<Order total: {self.total():.2f} due: {self.due():.2f}>\\'\\n\\ndef fidelity_promo(order: Order) -> Decimal:  \\n    \"\"\"5% discount for customers with 1000 or more fidelity points\"\"\"\\n    if order.customer.fidelity >= 1000:\\n        return order.total() * Decimal(\\'0.05\\')\\n    return Decimal(0)\\n\\n\\ndef bulk_item_promo(order: Order) -> Decimal:\\n    \"\"\"10% discount for each LineItem with 20 or more units\"\"\"\\n    discount = Decimal(0)\\n    for item in order.cart:\\n        if item.quantity >= 20:\\n            discount += item.total() * Decimal(\\'0.1\\')\\n    return discount\\n\\n\\ndef large_order_promo(order: Order) -> Decimal:\\n    \"\"\"7% discount for orders with 10 or more distinct items\"\"\"\\n    distinct_items = {item.product for item in order.cart}\\n    if len(distinct_items) >= 10:\\n        return order.total()* Decimal(\\'0.07\\')',\n",
       " '_i4': 'class Customer(NamedTuple):\\n    name: str\\n    fidelity: int\\n\\n\\nclass LineItem(NamedTuple):\\n    product: str\\n    quantity: int\\n    price: Decimal\\n\\n    def total(self):\\n        return self.price * self.quantity\\n\\n\\n@dataclass(frozen=True)\\nclass Order:  # the Context\\n    customer: Customer\\n    cart: Sequence[LineItem]\\n    promotion: Optional[Callable[[\\'Order\\'], Decimal]] = None  \\n\\n    def total(self) -> Decimal:\\n        totals = (item.total() for item in self.cart)\\n        return sum(totals, start=Decimal(0))\\n\\n    def due(self) -> Decimal:\\n        if self.promotion is None:\\n            discount = Decimal(0)\\n        else:\\n            discount = self.promotion(self)  \\n        return self.total() - discount\\n\\n    def __repr__(self):\\n        return f\\'<Order total: {self.total():.2f} due: {self.due():.2f}>\\'\\n\\ndef fidelity_promo(order: Order) -> Decimal:  \\n    \"\"\"5% discount for customers with 1000 or more fidelity points\"\"\"\\n    if order.customer.fidelity >= 1000:\\n        return order.total() * Decimal(\\'0.05\\')\\n    return Decimal(0)\\n\\n\\ndef bulk_item_promo(order: Order) -> Decimal:\\n    \"\"\"10% discount for each LineItem with 20 or more units\"\"\"\\n    discount = Decimal(0)\\n    for item in order.cart:\\n        if item.quantity >= 20:\\n            discount += item.total() * Decimal(\\'0.1\\')\\n    return discount\\n\\n\\ndef large_order_promo(order: Order) -> Decimal:\\n    \"\"\"7% discount for orders with 10 or more distinct items\"\"\"\\n    distinct_items = {item.product for item in order.cart}\\n    if len(distinct_items) >= 10:\\n        return order.total()* Decimal(\\'0.07\\')',\n",
       " '_i5': '#Function-oriented strategy\\nfrom collections.abc import Sequence\\nfrom dataclasses import dataclass\\nfrom decimal import Decimal\\nfrom typing import Optional, Callable, NamedTuple',\n",
       " 'dataclass': <function dataclasses.dataclass(cls=None, /, *, init=True, repr=True, eq=True, order=False, unsafe_hash=False, frozen=False, match_args=True, kw_only=False, slots=False, weakref_slot=False)>,\n",
       " 'Callable': typing.Callable,\n",
       " '_i6': 'class Customer(NamedTuple):\\n    name: str\\n    fidelity: int\\n\\n\\nclass LineItem(NamedTuple):\\n    product: str\\n    quantity: int\\n    price: Decimal\\n\\n    def total(self):\\n        return self.price * self.quantity\\n\\n\\n@dataclass(frozen=True)\\nclass Order:  # the Context\\n    customer: Customer\\n    cart: Sequence[LineItem]\\n    promotion: Optional[Callable[[\\'Order\\'], Decimal]] = None  \\n\\n    def total(self) -> Decimal:\\n        totals = (item.total() for item in self.cart)\\n        return sum(totals, start=Decimal(0))\\n\\n    def due(self) -> Decimal:\\n        if self.promotion is None:\\n            discount = Decimal(0)\\n        else:\\n            discount = self.promotion(self)  \\n        return self.total() - discount\\n\\n    def __repr__(self):\\n        return f\\'<Order total: {self.total():.2f} due: {self.due():.2f}>\\'\\n\\ndef fidelity_promo(order: Order) -> Decimal:  \\n    \"\"\"5% discount for customers with 1000 or more fidelity points\"\"\"\\n    if order.customer.fidelity >= 1000:\\n        return order.total() * Decimal(\\'0.05\\')\\n    return Decimal(0)\\n\\n\\ndef bulk_item_promo(order: Order) -> Decimal:\\n    \"\"\"10% discount for each LineItem with 20 or more units\"\"\"\\n    discount = Decimal(0)\\n    for item in order.cart:\\n        if item.quantity >= 20:\\n            discount += item.total() * Decimal(\\'0.1\\')\\n    return discount\\n\\n\\ndef large_order_promo(order: Order) -> Decimal:\\n    \"\"\"7% discount for orders with 10 or more distinct items\"\"\"\\n    distinct_items = {item.product for item in order.cart}\\n    if len(distinct_items) >= 10:\\n        return order.total()* Decimal(\\'0.07\\')',\n",
       " 'fidelity_promo': <function __main__.fidelity_promo(order: __main__.Order) -> decimal.Decimal>,\n",
       " 'bulk_item_promo': <function __main__.bulk_item_promo(order: __main__.Order) -> decimal.Decimal>,\n",
       " 'large_order_promo': <function __main__.large_order_promo(order: __main__.Order) -> decimal.Decimal>,\n",
       " '_i7': 'promos = [fidelity_promo, bulk_item_promo, large_order_promo]\\n\\ndef best_promo(order: Order) -> Decimal:\\n    \"\"',\n",
       " 'promos': [<function __main__.fidelity_promo(order: __main__.Order) -> decimal.Decimal>,\n",
       "  <function __main__.bulk_item_promo(order: __main__.Order) -> decimal.Decimal>,\n",
       "  <function __main__.large_order_promo(order: __main__.Order) -> decimal.Decimal>],\n",
       " 'best_promo': <function __main__.best_promo(order: __main__.Order) -> decimal.Decimal>,\n",
       " '_i8': 'promos = [fidelity_promo, bulk_item_promo, large_order_promo]\\n\\ndef best_promo(order: Order) -> Decimal:\\n    \"\"\"Compute the best discount available\"\"\"\\n    return max(promo(order for promo in promos))',\n",
       " '_i9': 'promos = [fidelity_promo, bulk_item_promo, large_order_promo]\\n\\ndef best_promo(order: Order) -> Decimal:\\n    \"\"\"Compute the best discount available\"\"\"\\n    return max(promo(order) for promo in promos)',\n",
       " '_i10': 'globals()'}"
      ]
     },
     "execution_count": 10,
     "metadata": {},
     "output_type": "execute_result"
    }
   ],
   "execution_count": 10
  },
  {
   "metadata": {
    "ExecuteTime": {
     "end_time": "2024-11-18T09:31:06.079301Z",
     "start_time": "2024-11-18T09:31:06.066905Z"
    }
   },
   "cell_type": "code",
   "source": [
    "#hackish way of using globals oto help best_promo automatically find other available *_promo functions\n",
    "\n",
    "promos = [promo for name, promo in globals().items()\n",
    "          if name.endswith('_promo') and\n",
    "          name != 'best_promo'\n",
    "]\n",
    "\n",
    "def best_promo(order: Order)->Decimal:\n",
    "    \"\"\"Compute the best discount available\"\"\"\n",
    "    return max(promo(order) for promo in promos)\n"
   ],
   "id": "1df75438d84894f5",
   "outputs": [],
   "execution_count": 11
  },
  {
   "metadata": {
    "ExecuteTime": {
     "end_time": "2024-11-18T09:34:30.545449Z",
     "start_time": "2024-11-18T09:34:30.527483Z"
    }
   },
   "cell_type": "code",
   "source": [
    "#Decorator-Enhanced Strategy Pattern\n",
    "\n",
    "Promotion = Callable[[Order], Decimal]\n",
    "\n",
    "promos: list[Promotion] = []\n",
    "\n",
    "def promotion(promo: Promotion) -> Promotion:  \n",
    "    promos.append(promo)\n",
    "    return promo\n",
    "\n",
    "\n",
    "def best_promo(order: Order) -> Decimal:\n",
    "    \"\"\"Compute the best discount available\"\"\"\n",
    "    return max(promo(order) for promo in promos)  \n",
    "\n",
    "\n",
    "@promotion  \n",
    "def fidelity(order: Order) -> Decimal:\n",
    "    \"\"\"5% discount for customers with 1000 or more fidelity points\"\"\"\n",
    "    if order.customer.fidelity >= 1000:\n",
    "        return order.total() * Decimal('0.05')\n",
    "    return Decimal(0)\n",
    "\n",
    "@promotion\n",
    "def bulk_item(order: Order) -> Decimal:\n",
    "    \"\"\"10% discount for each LineItem with 20 or more units\"\"\"\n",
    "    discount = Decimal(0)\n",
    "    for item in order.cart:\n",
    "        if item.quantity >= 20:\n",
    "            discount += item.total() * Decimal('0.1')\n",
    "    return discount\n",
    "\n",
    "\n",
    "@promotion\n",
    "def large_order(order: Order) -> Decimal:\n",
    "    \"\"\"7% discount for orders with 10 or more distinct items\"\"\"\n",
    "    distinct_items = {item.product for item in order.cart}\n",
    "    if len(distinct_items) >= 10:\n",
    "        return order.total() * Decimal('0.07')\n",
    "    return Decimal(0)"
   ],
   "id": "e29d8a30955dd5f1",
   "outputs": [],
   "execution_count": 12
  },
  {
   "metadata": {
    "ExecuteTime": {
     "end_time": "2024-11-18T09:46:05.733500Z",
     "start_time": "2024-11-18T09:46:05.728246Z"
    }
   },
   "cell_type": "code",
   "source": [
    "#The Command Pattern\n",
    "class MacroCommand:\n",
    "    \"\"\"A command that executes a list of commands\"\"\"\n",
    "    def __init__(self, commands):\n",
    "        self.commands = list(commands)\n",
    "        \n",
    "    def __call__(self):\n",
    "        for command in self.commands:\n",
    "            command()"
   ],
   "id": "cc2ef4ccbb0c3df0",
   "outputs": [],
   "execution_count": 13
  },
  {
   "metadata": {},
   "cell_type": "code",
   "outputs": [],
   "execution_count": null,
   "source": "",
   "id": "320ff4c502ace000"
  }
 ],
 "metadata": {
  "kernelspec": {
   "display_name": "Python 3",
   "language": "python",
   "name": "python3"
  },
  "language_info": {
   "codemirror_mode": {
    "name": "ipython",
    "version": 2
   },
   "file_extension": ".py",
   "mimetype": "text/x-python",
   "name": "python",
   "nbconvert_exporter": "python",
   "pygments_lexer": "ipython2",
   "version": "2.7.6"
  }
 },
 "nbformat": 4,
 "nbformat_minor": 5
}
