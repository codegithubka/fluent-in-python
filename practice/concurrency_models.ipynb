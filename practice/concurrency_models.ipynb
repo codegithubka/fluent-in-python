{
 "cells": [
  {
   "cell_type": "code",
   "id": "initial_id",
   "metadata": {
    "collapsed": true
   },
   "source": [
    "import itertools\n",
    "import time\n",
    "from threading import Thread, Event\n",
    "\n",
    "def spin(msg: str, done: Event)->None:\n",
    "    \"\"\"\n",
    "    runs in a separate thread\n",
    "    done: instance of threading.Event\n",
    "    \"\"\"\n",
    "    for char in itertools.cycle(r'\\|/-'): #infinite loop\n",
    "        status = f'\\r{char} {msg}'\n",
    "        print(status, end='', flush=True)\n",
    "        if done.wait(.1): #return True when event is set by another thread\n",
    "            break\n",
    "        blanks = ''*len(status)\n",
    "        print(f'\\r{blanks}\\r', end='')\n",
    "\n",
    "def slow()->int:\n",
    "    time.sleep(3) #blocks calling thread but releases the GIL\n",
    "    return 42\n",
    "\n"
   ],
   "outputs": [],
   "execution_count": null
  },
  {
   "metadata": {},
   "cell_type": "code",
   "source": [
    "def supervisor() -> int:\n",
    "    done = Event()\n",
    "    spinner = Thread(target=spin, args=('thinking!', done))\n",
    "    print(f'spinner object: {spinner}')\n",
    "    spinner.start()\n",
    "    result = slow()\n",
    "    done.set()\n",
    "    spinner.join()\n",
    "    return result\n",
    "\n",
    "def main() -> None:\n",
    "    result = supervisor()\n",
    "    print(f'result: {result}')\n",
    "\n",
    "if __name__ == '__main__':\n",
    "    main()"
   ],
   "id": "66eab1afa2a102db",
   "outputs": [],
   "execution_count": null
  },
  {
   "metadata": {},
   "cell_type": "code",
   "source": [
    "import itertools\n",
    "import time\n",
    "from multiprocessing import Process, Event #event is a function not a class like threading.Event\n",
    "from multiprocessing import synchronize\n",
    "\n",
    "def spin(msg:str, done: synchronize.Event)->None:\n",
    "    for char in itertools.cycle(r'\\|/-'): #infinite loop\n",
    "        status = f'\\r{char} {msg}'\n",
    "        print(status, end='', flush=True)\n",
    "        if done.wait(.1): #return True when event is set by another thread\n",
    "            break\n",
    "        blanks = ''*len(status)\n",
    "        print(f'\\r{blanks}\\r', end='')\n",
    "\n",
    "def slow()->int:\n",
    "    time.sleep(3) #blocks calling thread but releases the GIL\n",
    "    return 42\n",
    "\n",
    "\n",
    "def supervisor()->int:\n",
    "    done = Event()\n",
    "    spinner = Process(target=spin, args=('thinking!', done))\n",
    "    print(f'spinner object: {spinner}')\n",
    "    spinner.start()\n",
    "    result = slow()\n",
    "    spinner.join()\n",
    "    return result"
   ],
   "id": "f1addc73dfc62414",
   "outputs": [],
   "execution_count": null
  },
  {
   "metadata": {},
   "cell_type": "code",
   "source": [
    "import asyncio\n",
    "\n",
    "#main stays blocked until supervisor returns\n",
    "def main()->None:\n",
    "    result = asyncio.run(supervisor()) #start event loop to drive coroutine\n",
    "    print(f'result: {result}')\n",
    "\n",
    "async def supervisor()->int: #native coroutines\n",
    "    spinner = asyncio.create_task(spin('thinking!'))\n",
    "    print(f'spinner object: {spinner}')\n",
    "    result = await slow()\n",
    "    spinner.cancel()\n",
    "    return result\n",
    "\n",
    "if __name__ == '__main__':\n",
    "    main()\n"
   ],
   "id": "6e4c59fd75141dd0",
   "outputs": [],
   "execution_count": null
  },
  {
   "metadata": {},
   "cell_type": "code",
   "source": [
    "import asyncio\n",
    "import itertools\n",
    "\n",
    "#asyncio has only one flow of execution\n",
    "\n",
    "async def spin(msg: str)->None:\n",
    "    for char in itertools.cycle(r'\\|/-'):\n",
    "        status = f'\\r{char} {msg}'\n",
    "        print(status, end='', flush=True)\n",
    "        try:\n",
    "            await asyncio.sleep(.1) #pause wo blocking other coroutines\n",
    "        except asyncio.CancelledError:\n",
    "            break\n",
    "        blanks = ''*len(status)\n",
    "        print(f'\\r{blanks}\\r', end='')\n",
    "\n",
    "async def slow() -> int:\n",
    "    await asyncio.sleep(3)\n",
    "    return 42"
   ],
   "id": "218e3191dbe6cae9",
   "outputs": [],
   "execution_count": null
  },
  {
   "metadata": {},
   "cell_type": "code",
   "source": [
    "import math\n",
    "from math import isqrt\n",
    "\n",
    "def is_prime(n:int)->bool:\n",
    "    if n < 2:\n",
    "        return False\n",
    "    if n == 2:\n",
    "        return True\n",
    "    if n % 2 == 0:\n",
    "        return False\n",
    "    root = math.isqrt(n)\n",
    "    for i in range(3, root+1, 2):\n",
    "        if n % i == 0:\n",
    "            return False\n",
    "        return True"
   ],
   "id": "a2dd7f67eb293cac",
   "outputs": [],
   "execution_count": null
  },
  {
   "metadata": {
    "ExecuteTime": {
     "end_time": "2024-12-12T07:08:27.416155Z",
     "start_time": "2024-12-12T07:08:27.406974Z"
    }
   },
   "cell_type": "code",
   "source": [
    "#make is prime a coroutine to keep spinner alive\n",
    "\n",
    "async def is_prime(n):\n",
    "    if n < 2:\n",
    "        return False\n",
    "    if n == 2:\n",
    "        return True\n",
    "    if n % 2 == 0:\n",
    "        return False\n",
    "    root = isqrt(n)\n",
    "    for i in range(3, root+1, 2):\n",
    "        if n % i == 0:\n",
    "            return False\n",
    "        if i % 100000 == 0:\n",
    "            await asyncio.sleep(0)\n",
    "    return True\n",
    "#still slow"
   ],
   "id": "3d9c231071926e04",
   "outputs": [],
   "execution_count": 12
  },
  {
   "metadata": {},
   "cell_type": "code",
   "outputs": [],
   "execution_count": null,
   "source": [
    "#Homegrown process pool\n",
    "\n"
   ],
   "id": "42adbbef4baeb51c"
  }
 ],
 "metadata": {
  "kernelspec": {
   "display_name": "Python 3",
   "language": "python",
   "name": "python3"
  },
  "language_info": {
   "codemirror_mode": {
    "name": "ipython",
    "version": 2
   },
   "file_extension": ".py",
   "mimetype": "text/x-python",
   "name": "python",
   "nbconvert_exporter": "python",
   "pygments_lexer": "ipython2",
   "version": "2.7.6"
  }
 },
 "nbformat": 4,
 "nbformat_minor": 5
}
