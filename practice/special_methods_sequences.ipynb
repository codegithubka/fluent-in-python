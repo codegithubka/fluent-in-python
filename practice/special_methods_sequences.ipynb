{
 "cells": [
  {
   "cell_type": "code",
   "id": "initial_id",
   "metadata": {
    "collapsed": true,
    "ExecuteTime": {
     "end_time": "2024-11-19T00:32:12.545047Z",
     "start_time": "2024-11-19T00:32:12.527168Z"
    }
   },
   "source": [
    "import reprlib\n",
    "from array import array\n",
    "import math\n",
    "\n",
    "class Vector:\n",
    "    typecode = 'd'\n",
    "\n",
    "    def __init__(self, components):\n",
    "        self._components = array(self.typecode, components)  \n",
    "\n",
    "    def __iter__(self):\n",
    "        return iter(self._components)  \n",
    "\n",
    "    def __repr__(self):\n",
    "        components = reprlib.repr(self._components)  \n",
    "        components = components[components.find('['):-1]  \n",
    "        return f'Vector({components})'\n",
    "\n",
    "    def __str__(self):\n",
    "        return str(tuple(self))\n",
    "\n",
    "    def __bytes__(self):\n",
    "        return (bytes([ord(self.typecode)]) +\n",
    "                bytes(self._components))  \n",
    "\n",
    "    def __eq__(self, other):\n",
    "        return tuple(self) == tuple(other)\n",
    "\n",
    "    def __abs__(self):\n",
    "        return math.hypot(*self)  \n",
    "\n",
    "    def __bool__(self):\n",
    "        return bool(abs(self))\n",
    "\n",
    "    @classmethod\n",
    "    def frombytes(cls, octets):\n",
    "        typecode = chr(octets[0])\n",
    "        memv = memoryview(octets[1:]).cast(typecode)\n",
    "        return cls(memv)  "
   ],
   "outputs": [],
   "execution_count": 2
  },
  {
   "metadata": {
    "ExecuteTime": {
     "end_time": "2024-11-19T00:37:33.537615Z",
     "start_time": "2024-11-19T00:37:33.524984Z"
    }
   },
   "cell_type": "code",
   "source": [
    "#sequence protocol->duch typing\n",
    "import collections\n",
    "\n",
    "Card = collections.namedtuple('Card', ['rank', 'suit'])\n",
    "\n",
    "class FrenchDeck:\n",
    "    ranks = [str(n) for n in range(2, 11)] + list('JQKA')\n",
    "    suits = 'spades diamonds clubs hearts'.split()\n",
    "\n",
    "    def __init__(self):\n",
    "        self._cards = [Card(rank, suit) for suit in self.suits\n",
    "                                        for rank in self.ranks]\n",
    "\n",
    "    def __len__(self):\n",
    "        return len(self._cards)\n",
    "\n",
    "    def __getitem__(self, position):\n",
    "        return self._cards[position]  "
   ],
   "id": "80bd9a8af8c5674d",
   "outputs": [],
   "execution_count": 3
  },
  {
   "metadata": {
    "ExecuteTime": {
     "end_time": "2024-11-19T00:40:45.364819Z",
     "start_time": "2024-11-19T00:40:45.351377Z"
    }
   },
   "cell_type": "code",
   "source": [
    "class Vector:\n",
    "    \n",
    "   import reprlib\n",
    "from array import array\n",
    "import math\n",
    "\n",
    "class Vector:\n",
    "    typecode = 'd'\n",
    "\n",
    "    def __init__(self, components):\n",
    "        self._components = array(self.typecode, components)  \n",
    "\n",
    "    def __iter__(self):\n",
    "        return iter(self._components)  \n",
    "\n",
    "    def __repr__(self):\n",
    "        components = reprlib.repr(self._components)  \n",
    "        components = components[components.find('['):-1]  \n",
    "        return f'Vector({components})'\n",
    "\n",
    "    def __str__(self):\n",
    "        return str(tuple(self))\n",
    "\n",
    "    def __bytes__(self):\n",
    "        return (bytes([ord(self.typecode)]) +\n",
    "                bytes(self._components))  \n",
    "\n",
    "    def __eq__(self, other):\n",
    "        return tuple(self) == tuple(other)\n",
    "\n",
    "    def __abs__(self):\n",
    "        return math.hypot(*self)  \n",
    "\n",
    "    def __bool__(self):\n",
    "        return bool(abs(self))\n",
    "\n",
    "    @classmethod\n",
    "    def frombytes(cls, octets):\n",
    "        typecode = chr(octets[0])\n",
    "        memv = memoryview(octets[1:]).cast(typecode)\n",
    "        return cls(memv)   \n",
    "    \n",
    "    def __len__(self):\n",
    "        return len(self._components)\n",
    "    \n",
    "    def __getitem__(self, index):\n",
    "        return self._components[index] "
   ],
   "id": "67bcc7e52a2710ae",
   "outputs": [],
   "execution_count": 5
  },
  {
   "metadata": {
    "ExecuteTime": {
     "end_time": "2024-11-19T00:41:11.893369Z",
     "start_time": "2024-11-19T00:41:11.883787Z"
    }
   },
   "cell_type": "code",
   "source": [
    "v1 = Vector([3,4,5])\n",
    "len(v1)"
   ],
   "id": "938eefb63a3e1db5",
   "outputs": [
    {
     "data": {
      "text/plain": [
       "3"
      ]
     },
     "execution_count": 6,
     "metadata": {},
     "output_type": "execute_result"
    }
   ],
   "execution_count": 6
  },
  {
   "metadata": {
    "ExecuteTime": {
     "end_time": "2024-11-19T00:41:25.851677Z",
     "start_time": "2024-11-19T00:41:25.843221Z"
    }
   },
   "cell_type": "code",
   "source": "v1[0], v1[-1]",
   "id": "1a125d92d75922e1",
   "outputs": [
    {
     "data": {
      "text/plain": [
       "(3.0, 5.0)"
      ]
     },
     "execution_count": 7,
     "metadata": {},
     "output_type": "execute_result"
    }
   ],
   "execution_count": 7
  },
  {
   "metadata": {
    "ExecuteTime": {
     "end_time": "2024-11-19T00:41:50.339651Z",
     "start_time": "2024-11-19T00:41:50.328852Z"
    }
   },
   "cell_type": "code",
   "source": [
    "v7 = Vector(range(7))\n",
    "v7[1:4]"
   ],
   "id": "f2d8ba00c96bc861",
   "outputs": [
    {
     "data": {
      "text/plain": [
       "array('d', [1.0, 2.0, 3.0])"
      ]
     },
     "execution_count": 8,
     "metadata": {},
     "output_type": "execute_result"
    }
   ],
   "execution_count": 8
  },
  {
   "metadata": {
    "ExecuteTime": {
     "end_time": "2024-11-19T00:44:05.401545Z",
     "start_time": "2024-11-19T00:44:05.390512Z"
    }
   },
   "cell_type": "code",
   "source": [
    "#how slicing works\n",
    "class MySeq:\n",
    "    def __getitem__(self, index):\n",
    "        return index\n",
    "    \n",
    "s = MySeq()\n",
    "s[1]"
   ],
   "id": "c32117949a5ae999",
   "outputs": [
    {
     "data": {
      "text/plain": [
       "1"
      ]
     },
     "execution_count": 9,
     "metadata": {},
     "output_type": "execute_result"
    }
   ],
   "execution_count": 9
  },
  {
   "metadata": {
    "ExecuteTime": {
     "end_time": "2024-11-19T00:44:12.294663Z",
     "start_time": "2024-11-19T00:44:12.284433Z"
    }
   },
   "cell_type": "code",
   "source": "s[1:4]",
   "id": "888e89ac69422aea",
   "outputs": [
    {
     "data": {
      "text/plain": [
       "slice(1, 4, None)"
      ]
     },
     "execution_count": 10,
     "metadata": {},
     "output_type": "execute_result"
    }
   ],
   "execution_count": 10
  },
  {
   "metadata": {
    "ExecuteTime": {
     "end_time": "2024-11-19T00:44:30.569785Z",
     "start_time": "2024-11-19T00:44:30.560242Z"
    }
   },
   "cell_type": "code",
   "source": "s[1:4:2, 9]",
   "id": "dd1ef175176c548e",
   "outputs": [
    {
     "data": {
      "text/plain": [
       "(slice(1, 4, 2), 9)"
      ]
     },
     "execution_count": 11,
     "metadata": {},
     "output_type": "execute_result"
    }
   ],
   "execution_count": 11
  },
  {
   "metadata": {
    "ExecuteTime": {
     "end_time": "2024-11-19T00:44:43.914438Z",
     "start_time": "2024-11-19T00:44:43.908978Z"
    }
   },
   "cell_type": "code",
   "source": "s[1:4:2, 7:9]",
   "id": "ae03604170239810",
   "outputs": [
    {
     "data": {
      "text/plain": [
       "(slice(1, 4, 2), slice(7, 9, None))"
      ]
     },
     "execution_count": 12,
     "metadata": {},
     "output_type": "execute_result"
    }
   ],
   "execution_count": 12
  },
  {
   "metadata": {
    "ExecuteTime": {
     "end_time": "2024-11-19T00:45:02.882157Z",
     "start_time": "2024-11-19T00:45:02.875797Z"
    }
   },
   "cell_type": "code",
   "source": "slice",
   "id": "ebec177da23dad09",
   "outputs": [
    {
     "data": {
      "text/plain": [
       "slice"
      ]
     },
     "execution_count": 13,
     "metadata": {},
     "output_type": "execute_result"
    }
   ],
   "execution_count": 13
  },
  {
   "metadata": {
    "ExecuteTime": {
     "end_time": "2024-11-19T00:45:08.734662Z",
     "start_time": "2024-11-19T00:45:08.726560Z"
    }
   },
   "cell_type": "code",
   "source": "dir(slice)",
   "id": "25fb816430fd8053",
   "outputs": [
    {
     "data": {
      "text/plain": [
       "['__class__',\n",
       " '__delattr__',\n",
       " '__dir__',\n",
       " '__doc__',\n",
       " '__eq__',\n",
       " '__format__',\n",
       " '__ge__',\n",
       " '__getattribute__',\n",
       " '__getstate__',\n",
       " '__gt__',\n",
       " '__hash__',\n",
       " '__init__',\n",
       " '__init_subclass__',\n",
       " '__le__',\n",
       " '__lt__',\n",
       " '__ne__',\n",
       " '__new__',\n",
       " '__reduce__',\n",
       " '__reduce_ex__',\n",
       " '__repr__',\n",
       " '__setattr__',\n",
       " '__sizeof__',\n",
       " '__str__',\n",
       " '__subclasshook__',\n",
       " 'indices',\n",
       " 'start',\n",
       " 'step',\n",
       " 'stop']"
      ]
     },
     "execution_count": 14,
     "metadata": {},
     "output_type": "execute_result"
    }
   ],
   "execution_count": 14
  },
  {
   "metadata": {
    "ExecuteTime": {
     "end_time": "2024-11-19T00:45:54.564426Z",
     "start_time": "2024-11-19T00:45:54.551910Z"
    }
   },
   "cell_type": "code",
   "source": "slice.indices",
   "id": "267aa50a3a3caf0a",
   "outputs": [
    {
     "data": {
      "text/plain": [
       "<method 'indices' of 'slice' objects>"
      ]
     },
     "execution_count": 16,
     "metadata": {},
     "output_type": "execute_result"
    }
   ],
   "execution_count": 16
  },
  {
   "metadata": {
    "ExecuteTime": {
     "end_time": "2024-11-19T00:46:23.739766Z",
     "start_time": "2024-11-19T00:46:23.721645Z"
    }
   },
   "cell_type": "code",
   "source": "slice (None, 10, 2).indices(5)",
   "id": "560a94c5765ceba6",
   "outputs": [
    {
     "data": {
      "text/plain": [
       "(0, 5, 2)"
      ]
     },
     "execution_count": 17,
     "metadata": {},
     "output_type": "execute_result"
    }
   ],
   "execution_count": 17
  },
  {
   "metadata": {
    "ExecuteTime": {
     "end_time": "2024-11-19T00:46:41.232720Z",
     "start_time": "2024-11-19T00:46:41.226772Z"
    }
   },
   "cell_type": "code",
   "source": "slice(-3, None, None).indices(5)",
   "id": "aa9f598fe673176a",
   "outputs": [
    {
     "data": {
      "text/plain": [
       "(2, 5, 1)"
      ]
     },
     "execution_count": 18,
     "metadata": {},
     "output_type": "execute_result"
    }
   ],
   "execution_count": 18
  },
  {
   "metadata": {
    "ExecuteTime": {
     "end_time": "2024-11-19T00:48:33.097106Z",
     "start_time": "2024-11-19T00:48:33.091510Z"
    }
   },
   "cell_type": "code",
   "source": [
    "import operator\n",
    "#slice-aware get_item\n",
    "\n",
    "def __getitem__(self, key):\n",
    "    if isinstance(key, slice):\n",
    "        cls = type(self)\n",
    "        return cls(self._components[key])\n",
    "    index = operator.index(key)\n",
    "    return self._components[index]\n",
    "    "
   ],
   "id": "df5533e11fd59c61",
   "outputs": [],
   "execution_count": 19
  },
  {
   "metadata": {
    "ExecuteTime": {
     "end_time": "2024-11-19T00:52:58.143238Z",
     "start_time": "2024-11-19T00:52:58.128475Z"
    }
   },
   "cell_type": "code",
   "source": [
    "from array import array\n",
    "import reprlib\n",
    "import math\n",
    "import functools\n",
    "import operator\n",
    "import itertools  \n",
    "\n",
    "\n",
    "class Vector:\n",
    "    typecode = 'd'\n",
    "\n",
    "    def __init__(self, components):\n",
    "        self._components = array(self.typecode, components)\n",
    "\n",
    "    def __iter__(self):\n",
    "        return iter(self._components)\n",
    "\n",
    "    def __repr__(self):\n",
    "        components = reprlib.repr(self._components)\n",
    "        components = components[components.find('['):-1]\n",
    "        return f'Vector({components})'\n",
    "\n",
    "    def __bytes__(self):\n",
    "        return (bytes([ord(self.typecode)]) +\n",
    "                bytes(self._components))\n",
    "\n",
    "    def __eq__(self, other):\n",
    "        return (len(self) == len(other) and\n",
    "                all(a == b for a, b in zip(self, other)))\n",
    "\n",
    "    def __hash__(self):\n",
    "        hashes = (hash(x) for x in self)\n",
    "        return functools.reduce(operator.xor, hashes, 0)\n",
    "\n",
    "    def __abs__(self):\n",
    "        return math.hypot(*self)\n",
    "\n",
    "    def __bool__(self):\n",
    "        return bool(abs(self))\n",
    "\n",
    "    def __len__(self):\n",
    "        return len(self._components)\n",
    "\n",
    "    def __getitem__(self, key):\n",
    "        if isinstance(key, slice):\n",
    "            cls = type(self)\n",
    "            return cls(self._components[key])\n",
    "        index = operator.index(key)\n",
    "        return self._components[index]\n",
    "\n",
    "    __match_args__ = ('x', 'y', 'z', 't')\n",
    "\n",
    "    def __getattr__(self, name):\n",
    "        cls = type(self)\n",
    "        try:\n",
    "            pos = cls.__match_args__.index(name)\n",
    "        except ValueError:\n",
    "            pos = -1\n",
    "        if 0 <= pos < len(self._components):\n",
    "            return self._components[pos]\n",
    "        msg = f'{cls.__name__!r} object has no attribute {name!r}'\n",
    "        raise AttributeError(msg)\n",
    "\n",
    "    def angle(self, n):  \n",
    "        r = math.hypot(*self[n:])\n",
    "        a = math.atan2(r, self[n-1])\n",
    "        if (n == len(self) - 1) and (self[-1] < 0):\n",
    "            return math.pi * 2 - a\n",
    "        else:\n",
    "            return a\n",
    "\n",
    "    def angles(self):  \n",
    "        return (self.angle(n) for n in range(1, len(self)))\n",
    "\n",
    "    def __format__(self, fmt_spec=''):\n",
    "        if fmt_spec.endswith('h'):  # hyperspherical coordinates\n",
    "            fmt_spec = fmt_spec[:-1]\n",
    "            coords = itertools.chain([abs(self)],\n",
    "                                     self.angles())  \n",
    "            outer_fmt = '<{}>'  \n",
    "        else:\n",
    "            coords = self\n",
    "            outer_fmt = '({})'  \n",
    "        components = (format(c, fmt_spec) for c in coords)  \n",
    "        return outer_fmt.format(', '.join(components))  \n",
    "\n",
    "    @classmethod\n",
    "    def frombytes(cls, octets):\n",
    "        typecode = chr(octets[0])\n",
    "        memv = memoryview(octets[1:]).cast(typecode)\n",
    "        return cls(memv)\n"
   ],
   "id": "c87ba86f02b9f6ec",
   "outputs": [],
   "execution_count": 20
  }
 ],
 "metadata": {
  "kernelspec": {
   "display_name": "Python 3",
   "language": "python",
   "name": "python3"
  },
  "language_info": {
   "codemirror_mode": {
    "name": "ipython",
    "version": 2
   },
   "file_extension": ".py",
   "mimetype": "text/x-python",
   "name": "python",
   "nbconvert_exporter": "python",
   "pygments_lexer": "ipython2",
   "version": "2.7.6"
  }
 },
 "nbformat": 4,
 "nbformat_minor": 5
}
