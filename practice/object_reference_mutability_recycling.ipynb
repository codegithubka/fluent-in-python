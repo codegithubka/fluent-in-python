{
 "cells": [
  {
   "cell_type": "code",
   "id": "initial_id",
   "metadata": {
    "collapsed": true,
    "ExecuteTime": {
     "end_time": "2024-11-18T04:43:47.567120Z",
     "start_time": "2024-11-18T04:43:47.560747Z"
    }
   },
   "source": [
    "#variables are not boxes\n",
    "\n",
    "a = [1,2, 3]\n",
    "b = a #attaches\n",
    "a.append(4)\n",
    "b"
   ],
   "outputs": [
    {
     "data": {
      "text/plain": [
       "[1, 2, 3, 4]"
      ]
     },
     "execution_count": 1,
     "metadata": {},
     "output_type": "execute_result"
    }
   ],
   "execution_count": 1
  },
  {
   "metadata": {
    "ExecuteTime": {
     "end_time": "2024-11-18T04:45:52.767103Z",
     "start_time": "2024-11-18T04:45:52.761344Z"
    }
   },
   "cell_type": "code",
   "source": [
    "class Gizmo:\n",
    "    def __init__(self):\n",
    "        print(f'Gizmo id: {id(self)}')"
   ],
   "id": "f00125f80b222ed7",
   "outputs": [],
   "execution_count": 2
  },
  {
   "metadata": {
    "ExecuteTime": {
     "end_time": "2024-11-18T04:45:58.993557Z",
     "start_time": "2024-11-18T04:45:58.989699Z"
    }
   },
   "cell_type": "code",
   "source": "x = Gizmo()",
   "id": "915ba7d0cba7b7a7",
   "outputs": [
    {
     "name": "stdout",
     "output_type": "stream",
     "text": [
      "Gizmo id: 4410649024\n"
     ]
    }
   ],
   "execution_count": 3
  },
  {
   "metadata": {
    "ExecuteTime": {
     "end_time": "2024-11-18T04:46:17.096825Z",
     "start_time": "2024-11-18T04:46:16.983154Z"
    }
   },
   "cell_type": "code",
   "source": "y = Gizmo() * 10",
   "id": "248650d233805593",
   "outputs": [
    {
     "name": "stdout",
     "output_type": "stream",
     "text": [
      "Gizmo id: 4400090864\n"
     ]
    },
    {
     "ename": "TypeError",
     "evalue": "unsupported operand type(s) for *: 'Gizmo' and 'int'",
     "output_type": "error",
     "traceback": [
      "\u001B[0;31m---------------------------------------------------------------------------\u001B[0m",
      "\u001B[0;31mTypeError\u001B[0m                                 Traceback (most recent call last)",
      "Cell \u001B[0;32mIn[5], line 1\u001B[0m\n\u001B[0;32m----> 1\u001B[0m y \u001B[38;5;241m=\u001B[39m \u001B[43mGizmo\u001B[49m\u001B[43m(\u001B[49m\u001B[43m)\u001B[49m\u001B[43m \u001B[49m\u001B[38;5;241;43m*\u001B[39;49m\u001B[43m \u001B[49m\u001B[38;5;241;43m10\u001B[39;49m\n",
      "\u001B[0;31mTypeError\u001B[0m: unsupported operand type(s) for *: 'Gizmo' and 'int'"
     ]
    }
   ],
   "execution_count": 5
  },
  {
   "metadata": {
    "ExecuteTime": {
     "end_time": "2024-11-18T04:47:48.722Z",
     "start_time": "2024-11-18T04:47:48.709004Z"
    }
   },
   "cell_type": "code",
   "source": [
    "#Identify, Equality, and Aliases\n",
    "charles = {'name': 'Charles L. Dodgson', 'born': 1832}\n",
    "lewis = charles\n",
    "lewis is charles"
   ],
   "id": "eb00682cd598d0f8",
   "outputs": [
    {
     "data": {
      "text/plain": [
       "True"
      ]
     },
     "execution_count": 6,
     "metadata": {},
     "output_type": "execute_result"
    }
   ],
   "execution_count": 6
  },
  {
   "metadata": {
    "ExecuteTime": {
     "end_time": "2024-11-18T04:48:03.880731Z",
     "start_time": "2024-11-18T04:48:03.873759Z"
    }
   },
   "cell_type": "code",
   "source": "id(charles), id(lewis)",
   "id": "954b95e2b2b71eec",
   "outputs": [
    {
     "data": {
      "text/plain": [
       "(4416437440, 4416437440)"
      ]
     },
     "execution_count": 7,
     "metadata": {},
     "output_type": "execute_result"
    }
   ],
   "execution_count": 7
  },
  {
   "metadata": {
    "ExecuteTime": {
     "end_time": "2024-11-18T04:48:23.150958Z",
     "start_time": "2024-11-18T04:48:23.144631Z"
    }
   },
   "cell_type": "code",
   "source": [
    "lewis['balance'] = 950\n",
    "charles"
   ],
   "id": "c9427f0a2d7a7f94",
   "outputs": [
    {
     "data": {
      "text/plain": [
       "{'name': 'Charles L. Dodgson', 'born': 1832, 'balance': 950}"
      ]
     },
     "execution_count": 8,
     "metadata": {},
     "output_type": "execute_result"
    }
   ],
   "execution_count": 8
  },
  {
   "metadata": {
    "ExecuteTime": {
     "end_time": "2024-11-18T04:48:49.434424Z",
     "start_time": "2024-11-18T04:48:49.425491Z"
    }
   },
   "cell_type": "code",
   "source": [
    "alex = {'name': 'Charles L. Dodgson', 'born': 1832, 'balance': 950}\n",
    "alex == charles"
   ],
   "id": "1c7e86832bd87395",
   "outputs": [
    {
     "data": {
      "text/plain": [
       "True"
      ]
     },
     "execution_count": 9,
     "metadata": {},
     "output_type": "execute_result"
    }
   ],
   "execution_count": 9
  },
  {
   "metadata": {
    "ExecuteTime": {
     "end_time": "2024-11-18T04:49:00.946009Z",
     "start_time": "2024-11-18T04:49:00.937139Z"
    }
   },
   "cell_type": "code",
   "source": "alex is not charles",
   "id": "65295ef69f81caa5",
   "outputs": [
    {
     "data": {
      "text/plain": [
       "True"
      ]
     },
     "execution_count": 10,
     "metadata": {},
     "output_type": "execute_result"
    }
   ],
   "execution_count": 10
  },
  {
   "metadata": {
    "ExecuteTime": {
     "end_time": "2024-11-18T04:50:21.792785Z",
     "start_time": "2024-11-18T04:50:21.785831Z"
    }
   },
   "cell_type": "code",
   "source": "x is None",
   "id": "adf8ce9d5726e9d",
   "outputs": [
    {
     "data": {
      "text/plain": [
       "False"
      ]
     },
     "execution_count": 11,
     "metadata": {},
     "output_type": "execute_result"
    }
   ],
   "execution_count": 11
  },
  {
   "metadata": {
    "ExecuteTime": {
     "end_time": "2024-11-18T04:50:28.583648Z",
     "start_time": "2024-11-18T04:50:28.574844Z"
    }
   },
   "cell_type": "code",
   "source": "x is not None",
   "id": "f3b69e4696b95ec",
   "outputs": [
    {
     "data": {
      "text/plain": [
       "True"
      ]
     },
     "execution_count": 12,
     "metadata": {},
     "output_type": "execute_result"
    }
   ],
   "execution_count": 12
  },
  {
   "metadata": {},
   "cell_type": "code",
   "outputs": [],
   "execution_count": null,
   "source": [
    "END_OF_DATA = object()\n",
    "\n",
    "def traverse(node):\n",
    "    if node is END_OF_DATA:\n",
    "        return "
   ],
   "id": "1707db8112d27103"
  },
  {
   "metadata": {
    "ExecuteTime": {
     "end_time": "2024-11-18T04:53:25.945382Z",
     "start_time": "2024-11-18T04:53:25.938833Z"
    }
   },
   "cell_type": "code",
   "source": [
    "#Relative Immutability of Tuples\n",
    "t1 = (1, 2, [30, 40])\n",
    "t2 = (1, 2, [30, 40])\n",
    "t1 == t2\n",
    "    "
   ],
   "id": "44cfb40d99b9d781",
   "outputs": [
    {
     "data": {
      "text/plain": [
       "True"
      ]
     },
     "execution_count": 14,
     "metadata": {},
     "output_type": "execute_result"
    }
   ],
   "execution_count": 14
  },
  {
   "metadata": {
    "ExecuteTime": {
     "end_time": "2024-11-18T04:53:35.071724Z",
     "start_time": "2024-11-18T04:53:35.063560Z"
    }
   },
   "cell_type": "code",
   "source": "id(t1[-1])",
   "id": "5e5f5ad67b0fb257",
   "outputs": [
    {
     "data": {
      "text/plain": [
       "4416621248"
      ]
     },
     "execution_count": 15,
     "metadata": {},
     "output_type": "execute_result"
    }
   ],
   "execution_count": 15
  },
  {
   "metadata": {
    "ExecuteTime": {
     "end_time": "2024-11-18T04:53:52.534471Z",
     "start_time": "2024-11-18T04:53:52.526905Z"
    }
   },
   "cell_type": "code",
   "source": [
    "t1[-1].append(99)\n",
    "t1"
   ],
   "id": "6a9cd66af7f05e84",
   "outputs": [
    {
     "data": {
      "text/plain": [
       "(1, 2, [30, 40, 99])"
      ]
     },
     "execution_count": 16,
     "metadata": {},
     "output_type": "execute_result"
    }
   ],
   "execution_count": 16
  },
  {
   "metadata": {
    "ExecuteTime": {
     "end_time": "2024-11-18T04:54:05.106825Z",
     "start_time": "2024-11-18T04:54:05.100425Z"
    }
   },
   "cell_type": "code",
   "source": "id(t1[-1])",
   "id": "cee28c88cea70da7",
   "outputs": [
    {
     "data": {
      "text/plain": [
       "4416621248"
      ]
     },
     "execution_count": 17,
     "metadata": {},
     "output_type": "execute_result"
    }
   ],
   "execution_count": 17
  },
  {
   "metadata": {
    "ExecuteTime": {
     "end_time": "2024-11-18T04:54:13.127951Z",
     "start_time": "2024-11-18T04:54:13.122838Z"
    }
   },
   "cell_type": "code",
   "source": "t1 == t2",
   "id": "2261c59b2d400f66",
   "outputs": [
    {
     "data": {
      "text/plain": [
       "False"
      ]
     },
     "execution_count": 18,
     "metadata": {},
     "output_type": "execute_result"
    }
   ],
   "execution_count": 18
  },
  {
   "metadata": {
    "ExecuteTime": {
     "end_time": "2024-11-18T04:55:36.472229Z",
     "start_time": "2024-11-18T04:55:36.466139Z"
    }
   },
   "cell_type": "code",
   "source": [
    "#Copies are shallow by default\n",
    "\n",
    "l1 = [3, [55, 44], (7, 8, 9)]\n",
    "l2 = list(l1)\n",
    "l2"
   ],
   "id": "436228bd9d49218e",
   "outputs": [
    {
     "data": {
      "text/plain": [
       "[3, [55, 44], (7, 8, 9)]"
      ]
     },
     "execution_count": 19,
     "metadata": {},
     "output_type": "execute_result"
    }
   ],
   "execution_count": 19
  },
  {
   "metadata": {
    "ExecuteTime": {
     "end_time": "2024-11-18T04:55:40.943399Z",
     "start_time": "2024-11-18T04:55:40.929043Z"
    }
   },
   "cell_type": "code",
   "source": "l2 == l1",
   "id": "f268705d4c99e1f7",
   "outputs": [
    {
     "data": {
      "text/plain": [
       "True"
      ]
     },
     "execution_count": 20,
     "metadata": {},
     "output_type": "execute_result"
    }
   ],
   "execution_count": 20
  },
  {
   "metadata": {
    "ExecuteTime": {
     "end_time": "2024-11-18T04:55:46.044358Z",
     "start_time": "2024-11-18T04:55:46.035186Z"
    }
   },
   "cell_type": "code",
   "source": "l2 is l2",
   "id": "ece2c257066da50b",
   "outputs": [
    {
     "data": {
      "text/plain": [
       "True"
      ]
     },
     "execution_count": 21,
     "metadata": {},
     "output_type": "execute_result"
    }
   ],
   "execution_count": 21
  },
  {
   "metadata": {
    "ExecuteTime": {
     "end_time": "2024-11-18T04:56:07.600849Z",
     "start_time": "2024-11-18T04:56:07.592215Z"
    }
   },
   "cell_type": "code",
   "source": [
    "l3 = l1[:]\n",
    "l3"
   ],
   "id": "1e15716f28af517b",
   "outputs": [
    {
     "data": {
      "text/plain": [
       "[3, [55, 44], (7, 8, 9)]"
      ]
     },
     "execution_count": 22,
     "metadata": {},
     "output_type": "execute_result"
    }
   ],
   "execution_count": 22
  },
  {
   "metadata": {
    "ExecuteTime": {
     "end_time": "2024-11-18T04:57:10.825018Z",
     "start_time": "2024-11-18T04:57:10.814804Z"
    }
   },
   "cell_type": "code",
   "source": [
    "l1 = [3, [66, 55, 44,], (7, 8, 9,)]\n",
    "l2 = list(l1)"
   ],
   "id": "1908fe58fdabe24c",
   "outputs": [],
   "execution_count": 23
  },
  {
   "metadata": {
    "ExecuteTime": {
     "end_time": "2024-11-18T04:57:46.735085Z",
     "start_time": "2024-11-18T04:57:46.729959Z"
    }
   },
   "cell_type": "code",
   "source": [
    "l1.append(100)\n",
    "l1[1].remove(55)\n",
    "print('l1:' , l1)\n",
    "print('l2:' , l2)"
   ],
   "id": "9d414e6b95fa59b5",
   "outputs": [
    {
     "name": "stdout",
     "output_type": "stream",
     "text": [
      "l1: [3, [66, 44], (7, 8, 9), 100]\n",
      "l2: [3, [66, 44], (7, 8, 9)]\n"
     ]
    }
   ],
   "execution_count": 24
  },
  {
   "metadata": {
    "ExecuteTime": {
     "end_time": "2024-11-18T05:01:48.594472Z",
     "start_time": "2024-11-18T05:01:48.588928Z"
    }
   },
   "cell_type": "code",
   "source": [
    "#Deep Copies of Arbitrary Objects\n",
    "class Bus:\n",
    "    def __init__(self, passengers=None):\n",
    "        if passengers is None:\n",
    "            self.passengers = []\n",
    "        else:\n",
    "            self.passengers = list(passengers)\n",
    "    \n",
    "    def pick(self, name):\n",
    "        self.passengers.append(name)\n",
    "        \n",
    "    def drop(self, name):\n",
    "        self.passengers.remove(name)"
   ],
   "id": "8c400c0fe3a6ccc4",
   "outputs": [],
   "execution_count": 26
  },
  {
   "metadata": {
    "ExecuteTime": {
     "end_time": "2024-11-18T05:03:04.569401Z",
     "start_time": "2024-11-18T05:03:04.561261Z"
    }
   },
   "cell_type": "code",
   "source": [
    "import copy\n",
    "bus1 = Bus(['Alice', 'Bill', 'Claire', 'David'])\n",
    "bus2 = copy.copy(bus1)\n",
    "bus3 = copy.deepcopy(bus1)\n",
    "id(bus1), id(bus2), id(bus3)"
   ],
   "id": "7a451dd03387d797",
   "outputs": [
    {
     "data": {
      "text/plain": [
       "(4410751936, 4411036096, 4411035904)"
      ]
     },
     "execution_count": 27,
     "metadata": {},
     "output_type": "execute_result"
    }
   ],
   "execution_count": 27
  },
  {
   "metadata": {
    "ExecuteTime": {
     "end_time": "2024-11-18T05:03:17.672493Z",
     "start_time": "2024-11-18T05:03:17.667460Z"
    }
   },
   "cell_type": "code",
   "source": "bus1.drop('Bill')",
   "id": "514d4ca4a00d69ae",
   "outputs": [],
   "execution_count": 28
  },
  {
   "metadata": {
    "ExecuteTime": {
     "end_time": "2024-11-18T05:03:29.729561Z",
     "start_time": "2024-11-18T05:03:29.719900Z"
    }
   },
   "cell_type": "code",
   "source": "bus2.passengers",
   "id": "605e8aaf740fea74",
   "outputs": [
    {
     "data": {
      "text/plain": [
       "['Alice', 'Claire', 'David']"
      ]
     },
     "execution_count": 29,
     "metadata": {},
     "output_type": "execute_result"
    }
   ],
   "execution_count": 29
  },
  {
   "metadata": {
    "ExecuteTime": {
     "end_time": "2024-11-18T05:03:44.280139Z",
     "start_time": "2024-11-18T05:03:44.271711Z"
    }
   },
   "cell_type": "code",
   "source": "id(bus1.passengers), id(bus2.passengers), id(bus3.passengers)",
   "id": "c9746f4d18e68117",
   "outputs": [
    {
     "data": {
      "text/plain": [
       "(4416629568, 4416629568, 4416334912)"
      ]
     },
     "execution_count": 30,
     "metadata": {},
     "output_type": "execute_result"
    }
   ],
   "execution_count": 30
  },
  {
   "metadata": {
    "ExecuteTime": {
     "end_time": "2024-11-18T05:03:54.117506Z",
     "start_time": "2024-11-18T05:03:54.107824Z"
    }
   },
   "cell_type": "code",
   "source": "bus3.passengers",
   "id": "260b06019fc22e48",
   "outputs": [
    {
     "data": {
      "text/plain": [
       "['Alice', 'Bill', 'Claire', 'David']"
      ]
     },
     "execution_count": 31,
     "metadata": {},
     "output_type": "execute_result"
    }
   ],
   "execution_count": 31
  },
  {
   "metadata": {
    "ExecuteTime": {
     "end_time": "2024-11-18T05:04:42.759500Z",
     "start_time": "2024-11-18T05:04:42.751767Z"
    }
   },
   "cell_type": "code",
   "source": [
    "a = [10, 20]\n",
    "b = [a, 30]\n",
    "a.append(b)\n",
    "a"
   ],
   "id": "f63899f4a940366e",
   "outputs": [
    {
     "data": {
      "text/plain": [
       "[10, 20, [[...], 30]]"
      ]
     },
     "execution_count": 32,
     "metadata": {},
     "output_type": "execute_result"
    }
   ],
   "execution_count": 32
  },
  {
   "metadata": {
    "ExecuteTime": {
     "end_time": "2024-11-18T05:04:59.054574Z",
     "start_time": "2024-11-18T05:04:59.042148Z"
    }
   },
   "cell_type": "code",
   "source": [
    "from copy import deepcopy\n",
    "c = deepcopy(a)\n",
    "c"
   ],
   "id": "c87dcd22d1d1b629",
   "outputs": [
    {
     "data": {
      "text/plain": [
       "[10, 20, [[...], 30]]"
      ]
     },
     "execution_count": 33,
     "metadata": {},
     "output_type": "execute_result"
    }
   ],
   "execution_count": 33
  },
  {
   "metadata": {
    "ExecuteTime": {
     "end_time": "2024-11-18T05:18:48.800478Z",
     "start_time": "2024-11-18T05:18:48.781350Z"
    }
   },
   "cell_type": "code",
   "source": [
    "class TwilightBus:\n",
    "    def __init__(self, passengers=None):\n",
    "        if passengers is None:\n",
    "            self.passengers = []\n",
    "        else:\n",
    "            self.passengers = passengers\n",
    "    def pick(self, name):\n",
    "        self.passengers.append(name)\n",
    "    \n",
    "    def drop(self, name):\n",
    "        self.passengers.remove(name)\n",
    "#bus is aliasing the list that is passed to the constructor\n",
    "        "
   ],
   "id": "f1852267274ed93f",
   "outputs": [],
   "execution_count": 37
  },
  {
   "metadata": {
    "ExecuteTime": {
     "end_time": "2024-11-18T05:21:13.753059Z",
     "start_time": "2024-11-18T05:21:13.737562Z"
    }
   },
   "cell_type": "code",
   "source": [
    "#del and Garbage Collection\n",
    "a = [1,2]\n",
    "b = a\n",
    "del a\n",
    "b"
   ],
   "id": "f356657e0725863f",
   "outputs": [
    {
     "data": {
      "text/plain": [
       "[1, 2]"
      ]
     },
     "execution_count": 38,
     "metadata": {},
     "output_type": "execute_result"
    }
   ],
   "execution_count": 38
  },
  {
   "metadata": {
    "ExecuteTime": {
     "end_time": "2024-11-18T05:22:19.365556Z",
     "start_time": "2024-11-18T05:22:19.358184Z"
    }
   },
   "cell_type": "code",
   "source": [
    "b = [3] #remove reference to [1,2]\n",
    "b"
   ],
   "id": "561bef0aeab89204",
   "outputs": [
    {
     "data": {
      "text/plain": [
       "[3]"
      ]
     },
     "execution_count": 41,
     "metadata": {},
     "output_type": "execute_result"
    }
   ],
   "execution_count": 41
  }
 ],
 "metadata": {
  "kernelspec": {
   "display_name": "Python 3",
   "language": "python",
   "name": "python3"
  },
  "language_info": {
   "codemirror_mode": {
    "name": "ipython",
    "version": 2
   },
   "file_extension": ".py",
   "mimetype": "text/x-python",
   "name": "python",
   "nbconvert_exporter": "python",
   "pygments_lexer": "ipython2",
   "version": "2.7.6"
  }
 },
 "nbformat": 4,
 "nbformat_minor": 5
}
