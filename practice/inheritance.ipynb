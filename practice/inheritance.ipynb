{
 "cells": [
  {
   "cell_type": "code",
   "id": "initial_id",
   "metadata": {
    "collapsed": true,
    "ExecuteTime": {
     "end_time": "2024-11-20T01:30:48.661837Z",
     "start_time": "2024-11-20T01:30:48.658573Z"
    }
   },
   "source": [
    "#the super() function\n",
    "from collections import OrderedDict\n",
    "\n",
    "class LastUpdatedOrderedDict(OrderedDict):\n",
    "    \"\"\"Store item in the order they were last updated\"\"\"\n",
    "    \n",
    "    def __setitem__(self, key, value):\n",
    "        super().__setitem__(key, value)\n",
    "        self.move_to_end(key)\n",
    "    "
   ],
   "outputs": [],
   "execution_count": 1
  },
  {
   "metadata": {
    "ExecuteTime": {
     "end_time": "2024-11-20T01:32:35.259381Z",
     "start_time": "2024-11-20T01:32:35.250993Z"
    }
   },
   "cell_type": "code",
   "source": [
    "class NotRecommender(OrderedDict):\n",
    "    \"\"\"alternative\"\"\"\n",
    "    \n",
    "    def __setitem__(self, key, value):\n",
    "        OrderedDict.__setitem__(self, key, value)\n",
    "        self.move_to_end(key)"
   ],
   "id": "85955d779cad5fcc",
   "outputs": [],
   "execution_count": 2
  },
  {
   "metadata": {
    "ExecuteTime": {
     "end_time": "2024-11-20T01:33:20.237554Z",
     "start_time": "2024-11-20T01:33:20.231975Z"
    }
   },
   "cell_type": "code",
   "source": "OrderedDict.__doc__",
   "id": "3f07e6d8de7f7b62",
   "outputs": [
    {
     "data": {
      "text/plain": [
       "'Dictionary that remembers insertion order'"
      ]
     },
     "execution_count": 7,
     "metadata": {},
     "output_type": "execute_result"
    }
   ],
   "execution_count": 7
  },
  {
   "metadata": {
    "ExecuteTime": {
     "end_time": "2024-11-20T01:38:34.230380Z",
     "start_time": "2024-11-20T01:38:34.224593Z"
    }
   },
   "cell_type": "code",
   "source": [
    "#subclssing built-in types\n",
    "\n",
    "class DoppelDict(dict):\n",
    "    def __setitem__(self, key, value):\n",
    "        super().__setitem__(key, [value] * 2)"
   ],
   "id": "e3c67a59171b08ab",
   "outputs": [],
   "execution_count": 8
  },
  {
   "metadata": {
    "ExecuteTime": {
     "end_time": "2024-11-20T01:39:10.759454Z",
     "start_time": "2024-11-20T01:39:10.753930Z"
    }
   },
   "cell_type": "code",
   "source": [
    "dd = DoppelDict(one=1)\n",
    "dd"
   ],
   "id": "c628279bddfa0a2",
   "outputs": [
    {
     "data": {
      "text/plain": [
       "{'one': 1}"
      ]
     },
     "execution_count": 9,
     "metadata": {},
     "output_type": "execute_result"
    }
   ],
   "execution_count": 9
  },
  {
   "metadata": {
    "ExecuteTime": {
     "end_time": "2024-11-20T01:39:20.513267Z",
     "start_time": "2024-11-20T01:39:20.510057Z"
    }
   },
   "cell_type": "code",
   "source": [
    "dd['two'] = 2\n",
    "dd"
   ],
   "id": "62821243f4e8b92a",
   "outputs": [
    {
     "data": {
      "text/plain": [
       "{'one': 1, 'two': [2, 2]}"
      ]
     },
     "execution_count": 11,
     "metadata": {},
     "output_type": "execute_result"
    }
   ],
   "execution_count": 11
  },
  {
   "metadata": {
    "ExecuteTime": {
     "end_time": "2024-11-20T01:39:45.193818Z",
     "start_time": "2024-11-20T01:39:45.178005Z"
    }
   },
   "cell_type": "code",
   "source": [
    "dd.update(three=3)\n",
    "dd"
   ],
   "id": "a5bea77210803d62",
   "outputs": [
    {
     "data": {
      "text/plain": [
       "{'one': 1, 'two': [2, 2], 'three': 3}"
      ]
     },
     "execution_count": 12,
     "metadata": {},
     "output_type": "execute_result"
    }
   ],
   "execution_count": 12
  },
  {
   "metadata": {
    "ExecuteTime": {
     "end_time": "2024-11-20T01:46:30.699919Z",
     "start_time": "2024-11-20T01:46:30.681906Z"
    }
   },
   "cell_type": "code",
   "source": [
    "class AnswerDict(dict):\n",
    "    def __getitem__(self, key):\n",
    "        return 42\n",
    "    "
   ],
   "id": "ae96484561d1f5c8",
   "outputs": [],
   "execution_count": 13
  },
  {
   "metadata": {
    "ExecuteTime": {
     "end_time": "2024-11-20T01:46:52.722927Z",
     "start_time": "2024-11-20T01:46:52.715669Z"
    }
   },
   "cell_type": "code",
   "source": [
    "ad = AnswerDict(a = 'foo')\n",
    "ad['a']"
   ],
   "id": "9840d08b63017d50",
   "outputs": [
    {
     "data": {
      "text/plain": [
       "42"
      ]
     },
     "execution_count": 14,
     "metadata": {},
     "output_type": "execute_result"
    }
   ],
   "execution_count": 14
  },
  {
   "metadata": {
    "ExecuteTime": {
     "end_time": "2024-11-20T01:47:19.439664Z",
     "start_time": "2024-11-20T01:47:19.422459Z"
    }
   },
   "cell_type": "code",
   "source": [
    "d = {}\n",
    "d.update(ad)\n",
    "d['a']"
   ],
   "id": "c4d623827b6d6bcd",
   "outputs": [
    {
     "data": {
      "text/plain": [
       "'foo'"
      ]
     },
     "execution_count": 17,
     "metadata": {},
     "output_type": "execute_result"
    }
   ],
   "execution_count": 17
  },
  {
   "metadata": {
    "ExecuteTime": {
     "end_time": "2024-11-20T01:47:23.619814Z",
     "start_time": "2024-11-20T01:47:23.614383Z"
    }
   },
   "cell_type": "code",
   "source": "d",
   "id": "f83e7f984a288866",
   "outputs": [
    {
     "data": {
      "text/plain": [
       "{'a': 'foo'}"
      ]
     },
     "execution_count": 18,
     "metadata": {},
     "output_type": "execute_result"
    }
   ],
   "execution_count": 18
  },
  {
   "metadata": {
    "ExecuteTime": {
     "end_time": "2024-11-20T01:49:32.863459Z",
     "start_time": "2024-11-20T01:49:32.857634Z"
    }
   },
   "cell_type": "code",
   "source": [
    "import collections\n",
    "\n",
    "class DoppelDict2(collections.UserDict):\n",
    "    def __setitem__(self, key, value):\n",
    "        super().__setitem__(key, [value] * 2)"
   ],
   "id": "286cf7e1c4a4d890",
   "outputs": [],
   "execution_count": 19
  },
  {
   "metadata": {
    "ExecuteTime": {
     "end_time": "2024-11-20T01:49:44.658098Z",
     "start_time": "2024-11-20T01:49:44.652759Z"
    }
   },
   "cell_type": "code",
   "source": [
    "dd = DoppelDict2(one = 1)\n",
    "dd"
   ],
   "id": "fb3fb6f1d10712b",
   "outputs": [
    {
     "data": {
      "text/plain": [
       "{'one': [1, 1]}"
      ]
     },
     "execution_count": 20,
     "metadata": {},
     "output_type": "execute_result"
    }
   ],
   "execution_count": 20
  },
  {
   "metadata": {
    "ExecuteTime": {
     "end_time": "2024-11-20T01:49:57.693871Z",
     "start_time": "2024-11-20T01:49:57.680577Z"
    }
   },
   "cell_type": "code",
   "source": [
    "dd['two'] = 2\n",
    "dd"
   ],
   "id": "fdc8221fb125e1cd",
   "outputs": [
    {
     "data": {
      "text/plain": [
       "{'one': [1, 1], 'two': [2, 2]}"
      ]
     },
     "execution_count": 21,
     "metadata": {},
     "output_type": "execute_result"
    }
   ],
   "execution_count": 21
  },
  {
   "metadata": {
    "ExecuteTime": {
     "end_time": "2024-11-20T01:50:05.726932Z",
     "start_time": "2024-11-20T01:50:05.718924Z"
    }
   },
   "cell_type": "code",
   "source": [
    "dd.update(three = 3)\n",
    "dd"
   ],
   "id": "7afdd223ba931fb1",
   "outputs": [
    {
     "data": {
      "text/plain": [
       "{'one': [1, 1], 'two': [2, 2], 'three': [3, 3]}"
      ]
     },
     "execution_count": 22,
     "metadata": {},
     "output_type": "execute_result"
    }
   ],
   "execution_count": 22
  },
  {
   "metadata": {
    "ExecuteTime": {
     "end_time": "2024-11-20T01:50:32.734335Z",
     "start_time": "2024-11-20T01:50:32.723183Z"
    }
   },
   "cell_type": "code",
   "source": [
    "class AnswerDict2(collections.UserDict):\n",
    "    def __getitem__(self, key):\n",
    "        return 42\n",
    "    \n",
    "ad = AnswerDict2(a = 'foo')\n",
    "ad['a']"
   ],
   "id": "ae31dcd3b7a3edfd",
   "outputs": [
    {
     "data": {
      "text/plain": [
       "42"
      ]
     },
     "execution_count": 23,
     "metadata": {},
     "output_type": "execute_result"
    }
   ],
   "execution_count": 23
  },
  {
   "metadata": {
    "ExecuteTime": {
     "end_time": "2024-11-20T01:51:05.997662Z",
     "start_time": "2024-11-20T01:51:05.989377Z"
    }
   },
   "cell_type": "code",
   "source": [
    "d = {}\n",
    "d.update(ad)\n",
    "d['a']"
   ],
   "id": "431d776bb122c7c7",
   "outputs": [
    {
     "data": {
      "text/plain": [
       "42"
      ]
     },
     "execution_count": 25,
     "metadata": {},
     "output_type": "execute_result"
    }
   ],
   "execution_count": 25
  },
  {
   "metadata": {
    "ExecuteTime": {
     "end_time": "2024-11-20T02:07:56.184829Z",
     "start_time": "2024-11-20T02:07:56.172538Z"
    }
   },
   "cell_type": "code",
   "source": [
    "#Multiple inheritance\n",
    "class Root:  \n",
    "    def ping(self):\n",
    "        print(f'{self}.ping() in Root')\n",
    "\n",
    "    def pong(self):\n",
    "        print(f'{self}.pong() in Root')\n",
    "\n",
    "    def __repr__(self):\n",
    "        cls_name = type(self).__name__\n",
    "        return f'<instance of {cls_name}>'"
   ],
   "id": "cd52a5d0e8860b84",
   "outputs": [],
   "execution_count": 40
  },
  {
   "metadata": {
    "ExecuteTime": {
     "end_time": "2024-11-20T02:08:00.261859Z",
     "start_time": "2024-11-20T02:08:00.257057Z"
    }
   },
   "cell_type": "code",
   "source": "Root.__repr__",
   "id": "a79939af4eaa101",
   "outputs": [
    {
     "data": {
      "text/plain": [
       "<function __main__.Root.__repr__(self)>"
      ]
     },
     "execution_count": 42,
     "metadata": {},
     "output_type": "execute_result"
    }
   ],
   "execution_count": 42
  },
  {
   "metadata": {
    "ExecuteTime": {
     "end_time": "2024-11-20T02:07:57.825626Z",
     "start_time": "2024-11-20T02:07:57.820975Z"
    }
   },
   "cell_type": "code",
   "source": [
    "class A(Root):\n",
    "    \n",
    "    def ping(self):\n",
    "        print(f'{self}.ping() in A')\n",
    "        super().ping()\n",
    "    \n",
    "    def pong(self):\n",
    "        print(f'{self}.pong() in A')\n",
    "        super().pong()\n",
    "        \n",
    "        \n",
    "class B(Root):\n",
    "    def ping(self):\n",
    "        print(f'{self}.ping() in B')\n",
    "        super().ping()\n",
    "        \n",
    "    def pong(self):\n",
    "        print(f'{self}.pong() in B')"
   ],
   "id": "1152d48002ab0e79",
   "outputs": [],
   "execution_count": 41
  },
  {
   "metadata": {
    "ExecuteTime": {
     "end_time": "2024-11-20T02:08:02.574910Z",
     "start_time": "2024-11-20T02:08:02.569990Z"
    }
   },
   "cell_type": "code",
   "source": [
    "class Leaf(A, B):\n",
    "    def ping(self):\n",
    "        print(f'{self}.ping() in Leaf')\n",
    "        super().ping()"
   ],
   "id": "c2c6223530262ed1",
   "outputs": [],
   "execution_count": 43
  },
  {
   "metadata": {
    "ExecuteTime": {
     "end_time": "2024-11-20T02:08:03.510139Z",
     "start_time": "2024-11-20T02:08:03.506451Z"
    }
   },
   "cell_type": "code",
   "source": [
    "leaf1 = Leaf()\n",
    "leaf1.ping()"
   ],
   "id": "7a18f6102f21c88d",
   "outputs": [
    {
     "name": "stdout",
     "output_type": "stream",
     "text": [
      "<instance of Leaf>.ping() in Leaf\n",
      "<instance of Leaf>.ping() in A\n",
      "<instance of Leaf>.ping() in B\n",
      "<instance of Leaf>.ping() in Root\n"
     ]
    }
   ],
   "execution_count": 44
  },
  {
   "metadata": {
    "ExecuteTime": {
     "end_time": "2024-11-20T02:08:18.012069Z",
     "start_time": "2024-11-20T02:08:18.005866Z"
    }
   },
   "cell_type": "code",
   "source": "leaf1.pong()",
   "id": "345356ed8df0fb83",
   "outputs": [
    {
     "name": "stdout",
     "output_type": "stream",
     "text": [
      "<instance of Leaf>.pong() in A\n",
      "<instance of Leaf>.pong() in B\n"
     ]
    }
   ],
   "execution_count": 45
  },
  {
   "metadata": {
    "ExecuteTime": {
     "end_time": "2024-11-20T02:09:37.406735Z",
     "start_time": "2024-11-20T02:09:37.393856Z"
    }
   },
   "cell_type": "code",
   "source": "Leaf.__mro__",
   "id": "2ad8b90141343538",
   "outputs": [
    {
     "data": {
      "text/plain": [
       "(__main__.Leaf, __main__.A, __main__.B, __main__.Root, object)"
      ]
     },
     "execution_count": 46,
     "metadata": {},
     "output_type": "execute_result"
    }
   ],
   "execution_count": 46
  },
  {
   "metadata": {
    "ExecuteTime": {
     "end_time": "2024-11-20T02:15:41.136876Z",
     "start_time": "2024-11-20T02:15:41.129462Z"
    }
   },
   "cell_type": "code",
   "source": [
    "class U():\n",
    "    def ping(self):\n",
    "        print(f'{self}.ping() in U')\n",
    "        super().ping() # what odes this do??\n",
    "        \n",
    "class LeafUA(U, A):\n",
    "    def ping(self):\n",
    "        print(f'{self}.ping() in LeafUA')\n",
    "        super().ping()"
   ],
   "id": "2f4417ecf4564e38",
   "outputs": [],
   "execution_count": 47
  },
  {
   "metadata": {
    "ExecuteTime": {
     "end_time": "2024-11-20T02:16:18.806233Z",
     "start_time": "2024-11-20T02:16:18.779704Z"
    }
   },
   "cell_type": "code",
   "source": [
    "u = U()\n",
    "u.ping()"
   ],
   "id": "c98556ad549e0b5d",
   "outputs": [
    {
     "name": "stdout",
     "output_type": "stream",
     "text": [
      "<__main__.U object at 0x103a6d190>.ping() in U\n"
     ]
    },
    {
     "ename": "AttributeError",
     "evalue": "'super' object has no attribute 'ping'",
     "output_type": "error",
     "traceback": [
      "\u001B[0;31m---------------------------------------------------------------------------\u001B[0m",
      "\u001B[0;31mAttributeError\u001B[0m                            Traceback (most recent call last)",
      "Cell \u001B[0;32mIn[48], line 2\u001B[0m\n\u001B[1;32m      1\u001B[0m u \u001B[38;5;241m=\u001B[39m U()\n\u001B[0;32m----> 2\u001B[0m \u001B[43mu\u001B[49m\u001B[38;5;241;43m.\u001B[39;49m\u001B[43mping\u001B[49m\u001B[43m(\u001B[49m\u001B[43m)\u001B[49m\n",
      "Cell \u001B[0;32mIn[47], line 4\u001B[0m, in \u001B[0;36mU.ping\u001B[0;34m(self)\u001B[0m\n\u001B[1;32m      2\u001B[0m \u001B[38;5;28;01mdef\u001B[39;00m \u001B[38;5;21mping\u001B[39m(\u001B[38;5;28mself\u001B[39m):\n\u001B[1;32m      3\u001B[0m     \u001B[38;5;28mprint\u001B[39m(\u001B[38;5;124mf\u001B[39m\u001B[38;5;124m'\u001B[39m\u001B[38;5;132;01m{\u001B[39;00m\u001B[38;5;28mself\u001B[39m\u001B[38;5;132;01m}\u001B[39;00m\u001B[38;5;124m.ping() in U\u001B[39m\u001B[38;5;124m'\u001B[39m)\n\u001B[0;32m----> 4\u001B[0m     \u001B[38;5;28;43msuper\u001B[39;49m\u001B[43m(\u001B[49m\u001B[43m)\u001B[49m\u001B[38;5;241;43m.\u001B[39;49m\u001B[43mping\u001B[49m()\n",
      "\u001B[0;31mAttributeError\u001B[0m: 'super' object has no attribute 'ping'"
     ]
    }
   ],
   "execution_count": 48
  },
  {
   "metadata": {
    "ExecuteTime": {
     "end_time": "2024-11-20T02:16:50.761466Z",
     "start_time": "2024-11-20T02:16:50.755624Z"
    }
   },
   "cell_type": "code",
   "source": [
    "leaf2 = LeafUA()\n",
    "leaf2.ping()"
   ],
   "id": "85570c49f9a01b6e",
   "outputs": [
    {
     "name": "stdout",
     "output_type": "stream",
     "text": [
      "<instance of LeafUA>.ping() in LeafUA\n",
      "<instance of LeafUA>.ping() in U\n",
      "<instance of LeafUA>.ping() in A\n",
      "<instance of LeafUA>.ping() in Root\n"
     ]
    }
   ],
   "execution_count": 49
  },
  {
   "metadata": {
    "ExecuteTime": {
     "end_time": "2024-11-20T02:32:59.305169Z",
     "start_time": "2024-11-20T02:32:59.014159Z"
    }
   },
   "cell_type": "code",
   "source": [
    "#Mixin classes\n",
    "\n",
    "def print_mro(cls):\n",
    "    print(','.join(c.__name__ for c in cls.__mro__))\n",
    "    \n",
    "import tkinter\n",
    "print_mro(tkinter.Text)\n",
    "    "
   ],
   "id": "98d96ba94901fdc9",
   "outputs": [
    {
     "name": "stdout",
     "output_type": "stream",
     "text": [
      "Text,Widget,BaseWidget,Misc,Pack,Place,Grid,XView,YView,object\n"
     ]
    }
   ],
   "execution_count": 50
  },
  {
   "metadata": {},
   "cell_type": "code",
   "outputs": [],
   "execution_count": null,
   "source": [
    "#case-insensitive mappings\n",
    "\n",
    "import collections\n",
    "\n",
    "def _upper(key):\n",
    "    try:\n",
    "        return key.upper()\n",
    "    except AttributeError:\n",
    "        return key\n",
    "    \n",
    "class UpperCaseMixin:\n",
    "    def __setitem__(self, key, item):\n",
    "        super().__setitem__(_upper(key), item)\n",
    "       \n",
    "    def __getitem__(self, key):\n",
    "        return super().__getitem__(_upper(key))\n",
    "\n",
    "    def get(self, key, default=None):\n",
    "        return super().get(_upper(key), default)\n",
    "\n",
    "    def __contains__(self, key):\n",
    "        return super().__contains__(_upper(key))"
   ],
   "id": "cf36d47e7a9aad9a"
  }
 ],
 "metadata": {
  "kernelspec": {
   "display_name": "Python 3",
   "language": "python",
   "name": "python3"
  },
  "language_info": {
   "codemirror_mode": {
    "name": "ipython",
    "version": 2
   },
   "file_extension": ".py",
   "mimetype": "text/x-python",
   "name": "python",
   "nbconvert_exporter": "python",
   "pygments_lexer": "ipython2",
   "version": "2.7.6"
  }
 },
 "nbformat": 4,
 "nbformat_minor": 5
}
