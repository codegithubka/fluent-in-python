{
 "cells": [
  {
   "cell_type": "code",
   "id": "initial_id",
   "metadata": {
    "collapsed": true,
    "ExecuteTime": {
     "end_time": "2024-11-20T03:15:44.617101Z",
     "start_time": "2024-11-20T03:15:44.604494Z"
    }
   },
   "source": [
    "from collections import abc\n",
    "\n",
    "class Vector:\n",
    "    # many methods omitted in book listing\n",
    "\n",
    "    def __matmul__(self, other):\n",
    "        if (isinstance(other, abc.Sized) and  \n",
    "            isinstance(other, abc.Iterable)):\n",
    "            if len(self) == len(other):  \n",
    "                return sum(a * b for a, b in zip(self, other))  \n",
    "            else:\n",
    "                raise ValueError('@ requires vectors of equal length.')\n",
    "        else:\n",
    "            return NotImplemented\n",
    "\n",
    "    def __rmatmul__(self, other):\n",
    "        return self @ other\n"
   ],
   "outputs": [],
   "execution_count": 1
  },
  {
   "metadata": {
    "ExecuteTime": {
     "end_time": "2024-11-20T03:16:11.871422Z",
     "start_time": "2024-11-20T03:16:11.865409Z"
    }
   },
   "cell_type": "code",
   "source": [
    "class Vector:\n",
    "    # many lines omitted\n",
    "\n",
    "    def __eq__(self, other):\n",
    "        return (len(self) == len(other) and\n",
    "                all(a == b for a, b in zip(self, other)))"
   ],
   "id": "e67fe4bbba03a058",
   "outputs": [],
   "execution_count": 2
  },
  {
   "metadata": {
    "ExecuteTime": {
     "end_time": "2024-11-20T03:16:35.943985Z",
     "start_time": "2024-11-20T03:16:35.939467Z"
    }
   },
   "cell_type": "code",
   "source": [
    "def __eq__(self, other):\n",
    "        if isinstance(other, Vector):  \n",
    "            return (len(self) == len(other) and\n",
    "                    all(a == b for a, b in zip(self, other)))\n",
    "        else:\n",
    "            return NotImplemented"
   ],
   "id": "b6d2e2b4f7031f27",
   "outputs": [],
   "execution_count": 3
  },
  {
   "metadata": {},
   "cell_type": "code",
   "outputs": [],
   "execution_count": null,
   "source": "",
   "id": "e77158bd0684c239"
  }
 ],
 "metadata": {
  "kernelspec": {
   "display_name": "Python 3",
   "language": "python",
   "name": "python3"
  },
  "language_info": {
   "codemirror_mode": {
    "name": "ipython",
    "version": 2
   },
   "file_extension": ".py",
   "mimetype": "text/x-python",
   "name": "python",
   "nbconvert_exporter": "python",
   "pygments_lexer": "ipython2",
   "version": "2.7.6"
  }
 },
 "nbformat": 4,
 "nbformat_minor": 5
}
