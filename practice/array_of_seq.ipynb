{
 "cells": [
  {
   "cell_type": "code",
   "id": "initial_id",
   "metadata": {
    "collapsed": true,
    "ExecuteTime": {
     "end_time": "2024-11-17T04:48:55.668759Z",
     "start_time": "2024-11-17T04:48:55.664407Z"
    }
   },
   "source": [
    "from collections import abc\n",
    "issubclass(tuple, abc.Sequence)"
   ],
   "outputs": [
    {
     "data": {
      "text/plain": [
       "True"
      ]
     },
     "execution_count": 1,
     "metadata": {},
     "output_type": "execute_result"
    }
   ],
   "execution_count": 1
  },
  {
   "metadata": {
    "ExecuteTime": {
     "end_time": "2024-11-17T04:49:23.155409Z",
     "start_time": "2024-11-17T04:49:23.144672Z"
    }
   },
   "cell_type": "code",
   "source": "issubclass(list, abc.MutableSequence)",
   "id": "bd8557d09add8c51",
   "outputs": [
    {
     "data": {
      "text/plain": [
       "True"
      ]
     },
     "execution_count": 3,
     "metadata": {},
     "output_type": "execute_result"
    }
   ],
   "execution_count": 3
  },
  {
   "metadata": {
    "ExecuteTime": {
     "end_time": "2024-11-17T04:51:58.023727Z",
     "start_time": "2024-11-17T04:51:58.013235Z"
    }
   },
   "cell_type": "code",
   "source": [
    "symbols = '$¢£¥€¤'\n",
    "codes = []\n",
    "for symbol in symbols:\n",
    "    codes.append(ord(symbol))\n",
    "\n",
    "codes\n"
   ],
   "id": "3fb211fddbd70e3b",
   "outputs": [
    {
     "data": {
      "text/plain": [
       "[36, 162, 163, 165, 8364, 164]"
      ]
     },
     "execution_count": 4,
     "metadata": {},
     "output_type": "execute_result"
    }
   ],
   "execution_count": 4
  },
  {
   "metadata": {
    "ExecuteTime": {
     "end_time": "2024-11-17T04:52:35.456383Z",
     "start_time": "2024-11-17T04:52:35.441395Z"
    }
   },
   "cell_type": "code",
   "source": [
    "codes = [ord(symbol) for symbol in symbols] #listcomp\n",
    "codes"
   ],
   "id": "a8def55021d3ade9",
   "outputs": [
    {
     "data": {
      "text/plain": [
       "[36, 162, 163, 165, 8364, 164]"
      ]
     },
     "execution_count": 5,
     "metadata": {},
     "output_type": "execute_result"
    }
   ],
   "execution_count": 5
  },
  {
   "metadata": {
    "ExecuteTime": {
     "end_time": "2024-11-17T04:56:17.064666Z",
     "start_time": "2024-11-17T04:56:17.051713Z"
    }
   },
   "cell_type": "code",
   "source": [
    "x = 'ABC'\n",
    "codes = [ord(x) for x in x]\n",
    "x"
   ],
   "id": "59ef6cd26eda14fa",
   "outputs": [
    {
     "data": {
      "text/plain": [
       "'ABC'"
      ]
     },
     "execution_count": 6,
     "metadata": {},
     "output_type": "execute_result"
    }
   ],
   "execution_count": 6
  },
  {
   "metadata": {
    "ExecuteTime": {
     "end_time": "2024-11-17T04:56:24.827406Z",
     "start_time": "2024-11-17T04:56:24.822235Z"
    }
   },
   "cell_type": "code",
   "source": "codes",
   "id": "2c24d0f32b075019",
   "outputs": [
    {
     "data": {
      "text/plain": [
       "[65, 66, 67]"
      ]
     },
     "execution_count": 7,
     "metadata": {},
     "output_type": "execute_result"
    }
   ],
   "execution_count": 7
  },
  {
   "metadata": {
    "ExecuteTime": {
     "end_time": "2024-11-17T04:57:13.003776Z",
     "start_time": "2024-11-17T04:57:12.992758Z"
    }
   },
   "cell_type": "code",
   "source": [
    "codes = [last:= ord(c) for c in x]\n",
    "last"
   ],
   "id": "7a1090c623c21e09",
   "outputs": [
    {
     "data": {
      "text/plain": [
       "67"
      ]
     },
     "execution_count": 9,
     "metadata": {},
     "output_type": "execute_result"
    }
   ],
   "execution_count": 9
  },
  {
   "metadata": {
    "ExecuteTime": {
     "end_time": "2024-11-17T04:57:27.564748Z",
     "start_time": "2024-11-17T04:57:27.539935Z"
    }
   },
   "cell_type": "code",
   "source": "c",
   "id": "e478b5e5132c169a",
   "outputs": [
    {
     "ename": "NameError",
     "evalue": "name 'c' is not defined",
     "output_type": "error",
     "traceback": [
      "\u001B[0;31m---------------------------------------------------------------------------\u001B[0m",
      "\u001B[0;31mNameError\u001B[0m                                 Traceback (most recent call last)",
      "Cell \u001B[0;32mIn[10], line 1\u001B[0m\n\u001B[0;32m----> 1\u001B[0m \u001B[43mc\u001B[49m\n",
      "\u001B[0;31mNameError\u001B[0m: name 'c' is not defined"
     ]
    }
   ],
   "execution_count": 10
  },
  {
   "metadata": {
    "ExecuteTime": {
     "end_time": "2024-11-17T04:59:12.972987Z",
     "start_time": "2024-11-17T04:59:12.965262Z"
    }
   },
   "cell_type": "code",
   "source": [
    "symbols = '$¢£¥€¤'\n",
    "beyond_ascii = [ord(s) for s in symbols if ord(s) > 127] #faster \n",
    "beyond_ascii"
   ],
   "id": "70496498a68afdcd",
   "outputs": [
    {
     "data": {
      "text/plain": [
       "[162, 163, 165, 8364, 164]"
      ]
     },
     "execution_count": 11,
     "metadata": {},
     "output_type": "execute_result"
    }
   ],
   "execution_count": 11
  },
  {
   "metadata": {
    "ExecuteTime": {
     "end_time": "2024-11-17T04:59:49.195700Z",
     "start_time": "2024-11-17T04:59:49.183970Z"
    }
   },
   "cell_type": "code",
   "source": [
    "beyond_ascii = list(filter(lambda c: c > 127, map(ord, symbols)))\n",
    "beyond_ascii"
   ],
   "id": "3414abce4c01e6d1",
   "outputs": [
    {
     "data": {
      "text/plain": [
       "[162, 163, 165, 8364, 164]"
      ]
     },
     "execution_count": 12,
     "metadata": {},
     "output_type": "execute_result"
    }
   ],
   "execution_count": 12
  },
  {
   "metadata": {
    "ExecuteTime": {
     "end_time": "2024-11-17T05:02:41.388614Z",
     "start_time": "2024-11-17T05:02:41.379935Z"
    }
   },
   "cell_type": "code",
   "source": [
    "colors = ['black', 'white']\n",
    "sizes = ['S', 'M', 'L']\n",
    "tshirts = [(color, size) for color in colors for size in sizes]\n",
    "tshirts"
   ],
   "id": "81d1a09879acb4f2",
   "outputs": [
    {
     "data": {
      "text/plain": [
       "[('black', 'S'),\n",
       " ('black', 'M'),\n",
       " ('black', 'L'),\n",
       " ('white', 'S'),\n",
       " ('white', 'M'),\n",
       " ('white', 'L')]"
      ]
     },
     "execution_count": 13,
     "metadata": {},
     "output_type": "execute_result"
    }
   ],
   "execution_count": 13
  },
  {
   "metadata": {
    "ExecuteTime": {
     "end_time": "2024-11-17T05:03:06.501495Z",
     "start_time": "2024-11-17T05:03:06.492788Z"
    }
   },
   "cell_type": "code",
   "source": [
    "for color in colors:\n",
    "    for size in sizes:\n",
    "        print((color, size))"
   ],
   "id": "64f15441d0cba50c",
   "outputs": [
    {
     "name": "stdout",
     "output_type": "stream",
     "text": [
      "('black', 'S')\n",
      "('black', 'M')\n",
      "('black', 'L')\n",
      "('white', 'S')\n",
      "('white', 'M')\n",
      "('white', 'L')\n"
     ]
    }
   ],
   "execution_count": 14
  },
  {
   "metadata": {
    "ExecuteTime": {
     "end_time": "2024-11-17T05:03:51.973893Z",
     "start_time": "2024-11-17T05:03:51.964869Z"
    }
   },
   "cell_type": "code",
   "source": [
    "tshirts = [(color, size) for size in sizes for color in colors]\n",
    "tshirts"
   ],
   "id": "16e32b91c2cf2ada",
   "outputs": [
    {
     "data": {
      "text/plain": [
       "[('black', 'S'),\n",
       " ('white', 'S'),\n",
       " ('black', 'M'),\n",
       " ('white', 'M'),\n",
       " ('black', 'L'),\n",
       " ('white', 'L')]"
      ]
     },
     "execution_count": 16,
     "metadata": {},
     "output_type": "execute_result"
    }
   ],
   "execution_count": 16
  },
  {
   "metadata": {
    "ExecuteTime": {
     "end_time": "2024-11-17T05:05:06.197031Z",
     "start_time": "2024-11-17T05:05:06.185939Z"
    }
   },
   "cell_type": "code",
   "source": "tuple(ord(symbol) for symbol in symbols)",
   "id": "2df245ec9e657609",
   "outputs": [
    {
     "data": {
      "text/plain": [
       "(36, 162, 163, 165, 8364, 164)"
      ]
     },
     "execution_count": 17,
     "metadata": {},
     "output_type": "execute_result"
    }
   ],
   "execution_count": 17
  },
  {
   "metadata": {
    "ExecuteTime": {
     "end_time": "2024-11-17T05:05:34.428238Z",
     "start_time": "2024-11-17T05:05:34.420303Z"
    }
   },
   "cell_type": "code",
   "source": [
    "import array\n",
    "array.array('I', (ord(symbol) for symbol in symbols))"
   ],
   "id": "804ce58e2bdef69d",
   "outputs": [
    {
     "data": {
      "text/plain": [
       "array('I', [36, 162, 163, 165, 8364, 164])"
      ]
     },
     "execution_count": 18,
     "metadata": {},
     "output_type": "execute_result"
    }
   ],
   "execution_count": 18
  },
  {
   "metadata": {
    "ExecuteTime": {
     "end_time": "2024-11-17T05:07:58.186226Z",
     "start_time": "2024-11-17T05:07:58.182373Z"
    }
   },
   "cell_type": "code",
   "source": [
    "colors = ['black', 'white']\n",
    "sizes = ['S', 'M', 'L']\n",
    "for tshirt in (f'{c} {s}' for c in colors for s in sizes):\n",
    "    print(tshirt)"
   ],
   "id": "59f7a3f92590af05",
   "outputs": [
    {
     "name": "stdout",
     "output_type": "stream",
     "text": [
      "black S\n",
      "black M\n",
      "black L\n",
      "white S\n",
      "white M\n",
      "white L\n"
     ]
    }
   ],
   "execution_count": 20
  },
  {
   "metadata": {
    "ExecuteTime": {
     "end_time": "2024-11-17T05:24:03.891601Z",
     "start_time": "2024-11-17T05:24:03.881675Z"
    }
   },
   "cell_type": "code",
   "source": [
    "lax_coordinates = (33.9425, -118.408056)\n",
    "city, year, pop, chg, area = ('Tokyo', 2003, 32_450, 0.66, 8014)\n",
    "traveler_ids = [('USA', '31195855'), ('BRA', 'CE342567'),\n",
    "    ('ESP', 'XDA205856')]\n",
    "for passport in sorted(traveler_ids):\n",
    "    print( '%s/%s' % passport)\n",
    "\n"
   ],
   "id": "b15855480d48adb1",
   "outputs": [
    {
     "name": "stdout",
     "output_type": "stream",
     "text": [
      "BRA/CE342567\n",
      "ESP/XDA205856\n",
      "USA/31195855\n"
     ]
    }
   ],
   "execution_count": 37
  },
  {
   "metadata": {
    "ExecuteTime": {
     "end_time": "2024-11-17T05:12:58.696128Z",
     "start_time": "2024-11-17T05:12:58.689746Z"
    }
   },
   "cell_type": "code",
   "source": [
    "for country, _ in traveler_ids:\n",
    "    print(country)"
   ],
   "id": "d5767e7ee36fdad1",
   "outputs": [
    {
     "name": "stdout",
     "output_type": "stream",
     "text": [
      "USA\n",
      "BRA\n",
      "ESP\n"
     ]
    }
   ],
   "execution_count": 22
  },
  {
   "metadata": {
    "ExecuteTime": {
     "end_time": "2024-11-17T05:16:24.881067Z",
     "start_time": "2024-11-17T05:16:24.875373Z"
    }
   },
   "cell_type": "code",
   "source": [
    "a = (10, 'alpha',[1,2])\n",
    "b = (10, 'alpha', [1,2])\n",
    "a == b"
   ],
   "id": "a95abaeee4a62f57",
   "outputs": [
    {
     "data": {
      "text/plain": [
       "True"
      ]
     },
     "execution_count": 23,
     "metadata": {},
     "output_type": "execute_result"
    }
   ],
   "execution_count": 23
  },
  {
   "metadata": {
    "ExecuteTime": {
     "end_time": "2024-11-17T05:16:35.189217Z",
     "start_time": "2024-11-17T05:16:35.177127Z"
    }
   },
   "cell_type": "code",
   "source": [
    "b[-1].append(99)\n",
    "a == b"
   ],
   "id": "6380e0821842a6c5",
   "outputs": [
    {
     "data": {
      "text/plain": [
       "False"
      ]
     },
     "execution_count": 24,
     "metadata": {},
     "output_type": "execute_result"
    }
   ],
   "execution_count": 24
  },
  {
   "metadata": {
    "ExecuteTime": {
     "end_time": "2024-11-17T05:16:38.741503Z",
     "start_time": "2024-11-17T05:16:38.732450Z"
    }
   },
   "cell_type": "code",
   "source": "b ",
   "id": "a5b30ea552454635",
   "outputs": [
    {
     "data": {
      "text/plain": [
       "(10, 'alpha', [1, 2, 99])"
      ]
     },
     "execution_count": 25,
     "metadata": {},
     "output_type": "execute_result"
    }
   ],
   "execution_count": 25
  },
  {
   "metadata": {
    "ExecuteTime": {
     "end_time": "2024-11-17T05:19:04.740931Z",
     "start_time": "2024-11-17T05:19:04.734953Z"
    }
   },
   "cell_type": "code",
   "source": [
    "def fixed(o):\n",
    "    try:\n",
    "        hash(o)\n",
    "    except TypeError:\n",
    "        return False\n",
    "    return True\n",
    "\n",
    "tf = (10, 'alpha', (1, 2))"
   ],
   "id": "e4cd254128debe71",
   "outputs": [],
   "execution_count": 30
  },
  {
   "metadata": {
    "ExecuteTime": {
     "end_time": "2024-11-17T05:19:09.981752Z",
     "start_time": "2024-11-17T05:19:09.973348Z"
    }
   },
   "cell_type": "code",
   "source": [
    "tn = (10, 'alpha', [1,2])\n",
    "fixed(tf)"
   ],
   "id": "3d8135c7feab2c1f",
   "outputs": [
    {
     "data": {
      "text/plain": [
       "True"
      ]
     },
     "execution_count": 31,
     "metadata": {},
     "output_type": "execute_result"
    }
   ],
   "execution_count": 31
  },
  {
   "metadata": {
    "ExecuteTime": {
     "end_time": "2024-11-17T05:19:13.207126Z",
     "start_time": "2024-11-17T05:19:13.202461Z"
    }
   },
   "cell_type": "code",
   "source": "fixed(tn)",
   "id": "e236287d23a07d37",
   "outputs": [
    {
     "data": {
      "text/plain": [
       "False"
      ]
     },
     "execution_count": 32,
     "metadata": {},
     "output_type": "execute_result"
    }
   ],
   "execution_count": 32
  },
  {
   "metadata": {
    "ExecuteTime": {
     "end_time": "2024-11-17T05:23:58.985913Z",
     "start_time": "2024-11-17T05:23:58.977670Z"
    }
   },
   "cell_type": "code",
   "source": [
    "#Unpacking Sequences and Iterables\n",
    "lax_coordinates = (33.9425, -118.408056)\n",
    "latitude, longitude = lax_coordinates\n",
    "latitude"
   ],
   "id": "1b72dcfadecdc505",
   "outputs": [
    {
     "data": {
      "text/plain": [
       "33.9425"
      ]
     },
     "execution_count": 36,
     "metadata": {},
     "output_type": "execute_result"
    }
   ],
   "execution_count": 36
  },
  {
   "metadata": {
    "ExecuteTime": {
     "end_time": "2024-11-17T05:24:10.317919Z",
     "start_time": "2024-11-17T05:24:10.309515Z"
    }
   },
   "cell_type": "code",
   "source": "longitude",
   "id": "36c32f340b2a233",
   "outputs": [
    {
     "data": {
      "text/plain": [
       "-118.408056"
      ]
     },
     "execution_count": 38,
     "metadata": {},
     "output_type": "execute_result"
    }
   ],
   "execution_count": 38
  },
  {
   "metadata": {
    "ExecuteTime": {
     "end_time": "2024-11-17T05:24:20.883776Z",
     "start_time": "2024-11-17T05:24:20.876504Z"
    }
   },
   "cell_type": "code",
   "source": "b, a = a, b",
   "id": "a1ecd9066dc0559e",
   "outputs": [],
   "execution_count": 39
  },
  {
   "metadata": {
    "ExecuteTime": {
     "end_time": "2024-11-17T05:24:37.914472Z",
     "start_time": "2024-11-17T05:24:37.909181Z"
    }
   },
   "cell_type": "code",
   "source": "divmod(20, 8)",
   "id": "b312a751d78cf141",
   "outputs": [
    {
     "data": {
      "text/plain": [
       "(2, 4)"
      ]
     },
     "execution_count": 40,
     "metadata": {},
     "output_type": "execute_result"
    }
   ],
   "execution_count": 40
  },
  {
   "metadata": {
    "ExecuteTime": {
     "end_time": "2024-11-17T05:25:06.897796Z",
     "start_time": "2024-11-17T05:25:06.887880Z"
    }
   },
   "cell_type": "code",
   "source": [
    "t = (20, 8)\n",
    "divmod(*t)"
   ],
   "id": "44ff64187a9086a5",
   "outputs": [
    {
     "data": {
      "text/plain": [
       "(2, 4)"
      ]
     },
     "execution_count": 41,
     "metadata": {},
     "output_type": "execute_result"
    }
   ],
   "execution_count": 41
  },
  {
   "metadata": {
    "ExecuteTime": {
     "end_time": "2024-11-17T05:25:19.285222Z",
     "start_time": "2024-11-17T05:25:19.280197Z"
    }
   },
   "cell_type": "code",
   "source": [
    "quotient, remainder = divmod(*t)\n",
    "quotient, remainder"
   ],
   "id": "b05ed48eafdb7e88",
   "outputs": [
    {
     "data": {
      "text/plain": [
       "(2, 4)"
      ]
     },
     "execution_count": 42,
     "metadata": {},
     "output_type": "execute_result"
    }
   ],
   "execution_count": 42
  },
  {
   "metadata": {
    "ExecuteTime": {
     "end_time": "2024-11-17T05:26:14.050715Z",
     "start_time": "2024-11-17T05:26:14.041604Z"
    }
   },
   "cell_type": "code",
   "source": [
    "import os\n",
    "_, filename =os.path.split('/home/luciano/.ssh/id_rsa.pub')"
   ],
   "id": "8614344801cfd7eb",
   "outputs": [],
   "execution_count": 43
  },
  {
   "metadata": {
    "ExecuteTime": {
     "end_time": "2024-11-17T05:26:17.553966Z",
     "start_time": "2024-11-17T05:26:17.545971Z"
    }
   },
   "cell_type": "code",
   "source": "filename",
   "id": "8503ed1ede93d45e",
   "outputs": [
    {
     "data": {
      "text/plain": [
       "'id_rsa.pub'"
      ]
     },
     "execution_count": 44,
     "metadata": {},
     "output_type": "execute_result"
    }
   ],
   "execution_count": 44
  },
  {
   "metadata": {
    "ExecuteTime": {
     "end_time": "2024-11-17T05:27:07.159915Z",
     "start_time": "2024-11-17T05:27:07.151918Z"
    }
   },
   "cell_type": "code",
   "source": [
    "a, b, *rest = range(5)\n",
    "a,b , rest"
   ],
   "id": "cf72aa367eafe91a",
   "outputs": [
    {
     "data": {
      "text/plain": [
       "(0, 1, [2, 3, 4])"
      ]
     },
     "execution_count": 46,
     "metadata": {},
     "output_type": "execute_result"
    }
   ],
   "execution_count": 46
  },
  {
   "metadata": {
    "ExecuteTime": {
     "end_time": "2024-11-17T05:27:24.285716Z",
     "start_time": "2024-11-17T05:27:24.276630Z"
    }
   },
   "cell_type": "code",
   "source": [
    "a, b, *rest = range(3)\n",
    "a, b, rest"
   ],
   "id": "cb24d50a558fa567",
   "outputs": [
    {
     "data": {
      "text/plain": [
       "(0, 1, [2])"
      ]
     },
     "execution_count": 47,
     "metadata": {},
     "output_type": "execute_result"
    }
   ],
   "execution_count": 47
  },
  {
   "metadata": {
    "ExecuteTime": {
     "end_time": "2024-11-17T05:28:00.297094Z",
     "start_time": "2024-11-17T05:28:00.289800Z"
    }
   },
   "cell_type": "code",
   "source": [
    "a, b, *rest = range(2)\n",
    "a, b, rest"
   ],
   "id": "63af5268b0deff5",
   "outputs": [
    {
     "data": {
      "text/plain": [
       "(0, 1, [])"
      ]
     },
     "execution_count": 50,
     "metadata": {},
     "output_type": "execute_result"
    }
   ],
   "execution_count": 50
  },
  {
   "metadata": {
    "ExecuteTime": {
     "end_time": "2024-11-17T05:28:51.737654Z",
     "start_time": "2024-11-17T05:28:51.729405Z"
    }
   },
   "cell_type": "code",
   "source": [
    "a, *body, c, d =  range(5)\n",
    "a, body, c, d"
   ],
   "id": "409dd72da8248438",
   "outputs": [
    {
     "data": {
      "text/plain": [
       "(0, [1, 2], 3, 4)"
      ]
     },
     "execution_count": 51,
     "metadata": {},
     "output_type": "execute_result"
    }
   ],
   "execution_count": 51
  },
  {
   "metadata": {
    "ExecuteTime": {
     "end_time": "2024-11-17T05:29:08.401504Z",
     "start_time": "2024-11-17T05:29:08.395548Z"
    }
   },
   "cell_type": "code",
   "source": [
    "*head, b, c, d = range(5)\n",
    "head, b, c, d"
   ],
   "id": "ca90f6d837123adb",
   "outputs": [
    {
     "data": {
      "text/plain": [
       "([0, 1], 2, 3, 4)"
      ]
     },
     "execution_count": 52,
     "metadata": {},
     "output_type": "execute_result"
    }
   ],
   "execution_count": 52
  },
  {
   "metadata": {
    "ExecuteTime": {
     "end_time": "2024-11-17T05:29:43.397357Z",
     "start_time": "2024-11-17T05:29:43.385385Z"
    }
   },
   "cell_type": "code",
   "source": [
    "def fun(a, b, c, d, *rest):\n",
    "    return a, b, c, d, rest"
   ],
   "id": "39a4aba86896b340",
   "outputs": [],
   "execution_count": 53
  },
  {
   "metadata": {
    "ExecuteTime": {
     "end_time": "2024-11-17T05:30:15.224465Z",
     "start_time": "2024-11-17T05:30:15.212173Z"
    }
   },
   "cell_type": "code",
   "source": "fun (*[1,2], 3, *range(4,7))",
   "id": "98a5ca6cd05cb0a7",
   "outputs": [
    {
     "data": {
      "text/plain": [
       "(1, 2, 3, 4, (5, 6))"
      ]
     },
     "execution_count": 54,
     "metadata": {},
     "output_type": "execute_result"
    }
   ],
   "execution_count": 54
  },
  {
   "metadata": {
    "ExecuteTime": {
     "end_time": "2024-11-17T05:33:16.502828Z",
     "start_time": "2024-11-17T05:33:16.487793Z"
    }
   },
   "cell_type": "code",
   "source": [
    "metro_areas = [\n",
    "    ('Tokyo', 'JP', 36.933, (35.689722, 139.691667)),  \n",
    "    ('Delhi NCR', 'IN', 21.935, (28.613889, 77.208889)),\n",
    "    ('Mexico City', 'MX', 20.142, (19.433333, -99.133333)),\n",
    "    ('New York-Newark', 'US', 20.104, (40.808611, -74.020386)),\n",
    "    ('São Paulo', 'BR', 19.649, (-23.547778, -46.635833)),\n",
    "]\n",
    "\n",
    "def main():\n",
    "    print(f'{\"\":15} | {\"latitude\":>9} | {\"longitude\":>9}')\n",
    "    for name, _, _, (lat, lon) in metro_areas:\n",
    "        if lon <=0:\n",
    "            print(f'{name:<15} {lat:>9} {lon:>9}')\n",
    "if __name__ == '__main__':\n",
    "    main()"
   ],
   "id": "c134fc1b18ecfae6",
   "outputs": [
    {
     "name": "stdout",
     "output_type": "stream",
     "text": [
      "                |  latitude | longitude\n",
      "Mexico City     19.433333 -99.133333\n",
      "New York-Newark 40.808611 -74.020386\n",
      "São Paulo       -23.547778 -46.635833\n"
     ]
    }
   ],
   "execution_count": 55
  },
  {
   "metadata": {},
   "cell_type": "code",
   "outputs": [],
   "execution_count": null,
   "source": [
    "#Pattern Matching\n",
    "\n",
    "def handle_command(self, message):\n",
    "    match message: #subject\n",
    "        case ['BEEPER', frequency, times]:\n",
    "            self.beep(times, frequency)\n",
    "        case ['NECK', angle]:\n",
    "            self.rotate_neck(angle)\n",
    "        case ['LED', ident, intensity]:  \n",
    "            self.leds[ident].set_brightness(ident, intensity)\n",
    "        case ['LED', ident, red, green, blue]:  \n",
    "            self.leds[ident].set_color(ident, red, green, blue)\n",
    "        case _:  \n",
    "            return"
   ],
   "id": "c48840b7dec68b81"
  },
  {
   "metadata": {
    "ExecuteTime": {
     "end_time": "2024-11-17T05:41:41.212423Z",
     "start_time": "2024-11-17T05:41:41.200627Z"
    }
   },
   "cell_type": "code",
   "source": [
    "def main():\n",
    "    print(f'{\"\":15} | {\"latitude\":>9} | {\"longitude\":>9}')\n",
    "    for record in metro_areas:\n",
    "        match record: #match record\n",
    "            case [name, _, _, (lat, lon)] if lon <= 0: #case clause has two parts\n",
    "                print(f'{name:<15} {lat:>9} {lon:>9}')"
   ],
   "id": "e25352b16bd622",
   "outputs": [],
   "execution_count": 56
  },
  {
   "metadata": {},
   "cell_type": "code",
   "outputs": [],
   "execution_count": null,
   "source": "",
   "id": "b8e2e86ea725be19"
  },
  {
   "metadata": {
    "ExecuteTime": {
     "end_time": "2024-11-17T06:00:20.452907Z",
     "start_time": "2024-11-17T06:00:20.424869Z"
    }
   },
   "cell_type": "code",
   "source": [
    "#Slicing\n",
    "#.__getitem__(slice(start, stop, step))\n",
    "\n",
    "l = [10, 20, 30, 40, 50, 60]\n",
    "l[:2]"
   ],
   "id": "69d684ca7cfcb072",
   "outputs": [
    {
     "data": {
      "text/plain": [
       "[10, 20]"
      ]
     },
     "execution_count": 58,
     "metadata": {},
     "output_type": "execute_result"
    }
   ],
   "execution_count": 58
  },
  {
   "metadata": {
    "ExecuteTime": {
     "end_time": "2024-11-17T06:00:26.605873Z",
     "start_time": "2024-11-17T06:00:26.599068Z"
    }
   },
   "cell_type": "code",
   "source": "l[2:]",
   "id": "fcefcb5d1851e7ca",
   "outputs": [
    {
     "data": {
      "text/plain": [
       "[30, 40, 50, 60]"
      ]
     },
     "execution_count": 59,
     "metadata": {},
     "output_type": "execute_result"
    }
   ],
   "execution_count": 59
  },
  {
   "metadata": {
    "ExecuteTime": {
     "end_time": "2024-11-17T06:00:32.631752Z",
     "start_time": "2024-11-17T06:00:32.626963Z"
    }
   },
   "cell_type": "code",
   "source": "l[:3]",
   "id": "3a0a763654050c3b",
   "outputs": [
    {
     "data": {
      "text/plain": [
       "[10, 20, 30]"
      ]
     },
     "execution_count": 60,
     "metadata": {},
     "output_type": "execute_result"
    }
   ],
   "execution_count": 60
  },
  {
   "metadata": {
    "ExecuteTime": {
     "end_time": "2024-11-17T06:00:44.365190Z",
     "start_time": "2024-11-17T06:00:44.359952Z"
    }
   },
   "cell_type": "code",
   "source": "l[3:]",
   "id": "c43e9963448e4f89",
   "outputs": [
    {
     "data": {
      "text/plain": [
       "[40, 50, 60]"
      ]
     },
     "execution_count": 61,
     "metadata": {},
     "output_type": "execute_result"
    }
   ],
   "execution_count": 61
  },
  {
   "metadata": {
    "ExecuteTime": {
     "end_time": "2024-11-17T06:01:26.299612Z",
     "start_time": "2024-11-17T06:01:26.291618Z"
    }
   },
   "cell_type": "code",
   "source": [
    "s = 'bicycle'\n",
    "s[::3]"
   ],
   "id": "470a41616e81c432",
   "outputs": [
    {
     "data": {
      "text/plain": [
       "'bye'"
      ]
     },
     "execution_count": 63,
     "metadata": {},
     "output_type": "execute_result"
    }
   ],
   "execution_count": 63
  },
  {
   "metadata": {
    "ExecuteTime": {
     "end_time": "2024-11-17T06:01:35.194105Z",
     "start_time": "2024-11-17T06:01:35.182016Z"
    }
   },
   "cell_type": "code",
   "source": "s[::-1]",
   "id": "4b326742cd2a9ecd",
   "outputs": [
    {
     "data": {
      "text/plain": [
       "'elcycib'"
      ]
     },
     "execution_count": 64,
     "metadata": {},
     "output_type": "execute_result"
    }
   ],
   "execution_count": 64
  },
  {
   "metadata": {
    "ExecuteTime": {
     "end_time": "2024-11-17T06:01:46.844630Z",
     "start_time": "2024-11-17T06:01:46.833937Z"
    }
   },
   "cell_type": "code",
   "source": "s[::-2]",
   "id": "b19d2f9100526d7b",
   "outputs": [
    {
     "data": {
      "text/plain": [
       "'eccb'"
      ]
     },
     "execution_count": 65,
     "metadata": {},
     "output_type": "execute_result"
    }
   ],
   "execution_count": 65
  },
  {
   "metadata": {
    "ExecuteTime": {
     "end_time": "2024-11-17T06:07:11.054518Z",
     "start_time": "2024-11-17T06:07:11.047891Z"
    }
   },
   "cell_type": "code",
   "source": [
    "invoice = \"\"\"\n",
    "0.....6.................................40........52...55........\n",
    "1909  Pimoroni PiBrella                     $17.50    3    $52.50\n",
    "1489  6mm Tactile Switch x20                 $4.95    2     $9.90\n",
    "1510  Panavise Jr. - PV-201                 $28.00    1    $28.00\n",
    "1601  PiTFT Mini Kit 320x240                $34.95    1    $34.95\n",
    "\"\"\"\n",
    "\n",
    "SKU = slice(0,6)\n",
    "DESCRIPTION = slice(6,40)\n",
    "UNIT_PRICE = slice(40, 52)\n",
    "QUANTITY = slice(52, 55)\n",
    "ITEM_TOTAL = slice(55, None)\n",
    "line_items = invoice.split('\\n')[2:]\n",
    "for item in line_items:\n",
    "    print(item[UNIT_PRICE], item[DESCRIPTION])"
   ],
   "id": "8324aeb9ec4b3c95",
   "outputs": [
    {
     "name": "stdout",
     "output_type": "stream",
     "text": [
      "    $17.50   Pimoroni PiBrella                 \n",
      "     $4.95   6mm Tactile Switch x20            \n",
      "    $28.00   Panavise Jr. - PV-201             \n",
      "    $34.95   PiTFT Mini Kit 320x240            \n",
      " \n"
     ]
    }
   ],
   "execution_count": 68
  },
  {
   "metadata": {
    "ExecuteTime": {
     "end_time": "2024-11-17T06:20:17.081637Z",
     "start_time": "2024-11-17T06:20:17.070839Z"
    }
   },
   "cell_type": "code",
   "source": [
    "#Assigning to slices\n",
    "\n",
    "l = list(range(10))\n",
    "l"
   ],
   "id": "88884902b91be381",
   "outputs": [
    {
     "data": {
      "text/plain": [
       "[0, 1, 2, 3, 4, 5, 6, 7, 8, 9]"
      ]
     },
     "execution_count": 75,
     "metadata": {},
     "output_type": "execute_result"
    }
   ],
   "execution_count": 75
  },
  {
   "metadata": {
    "ExecuteTime": {
     "end_time": "2024-11-17T06:20:18.884851Z",
     "start_time": "2024-11-17T06:20:18.880314Z"
    }
   },
   "cell_type": "code",
   "source": [
    "l[2:5] = [20, 30]\n",
    "l"
   ],
   "id": "7dbe732a409360d",
   "outputs": [
    {
     "data": {
      "text/plain": [
       "[0, 1, 20, 30, 5, 6, 7, 8, 9]"
      ]
     },
     "execution_count": 76,
     "metadata": {},
     "output_type": "execute_result"
    }
   ],
   "execution_count": 76
  },
  {
   "metadata": {
    "ExecuteTime": {
     "end_time": "2024-11-17T06:20:21.242092Z",
     "start_time": "2024-11-17T06:20:21.237631Z"
    }
   },
   "cell_type": "code",
   "source": [
    "del l[5:7]\n",
    "l"
   ],
   "id": "9a239ac4f5f46f93",
   "outputs": [
    {
     "data": {
      "text/plain": [
       "[0, 1, 20, 30, 5, 8, 9]"
      ]
     },
     "execution_count": 77,
     "metadata": {},
     "output_type": "execute_result"
    }
   ],
   "execution_count": 77
  },
  {
   "metadata": {
    "ExecuteTime": {
     "end_time": "2024-11-17T06:20:24.574614Z",
     "start_time": "2024-11-17T06:20:24.564115Z"
    }
   },
   "cell_type": "code",
   "source": [
    "l[3::2] = [11, 22]\n",
    "l"
   ],
   "id": "c2841d9d9efb6176",
   "outputs": [
    {
     "data": {
      "text/plain": [
       "[0, 1, 20, 11, 5, 22, 9]"
      ]
     },
     "execution_count": 78,
     "metadata": {},
     "output_type": "execute_result"
    }
   ],
   "execution_count": 78
  },
  {
   "metadata": {
    "ExecuteTime": {
     "end_time": "2024-11-17T06:21:07.954782Z",
     "start_time": "2024-11-17T06:21:07.944241Z"
    }
   },
   "cell_type": "code",
   "source": [
    "l[2:5] = [100,]\n",
    "l"
   ],
   "id": "b8b310ce20923772",
   "outputs": [
    {
     "data": {
      "text/plain": [
       "[0, 1, 100]"
      ]
     },
     "execution_count": 82,
     "metadata": {},
     "output_type": "execute_result"
    }
   ],
   "execution_count": 82
  },
  {
   "metadata": {
    "ExecuteTime": {
     "end_time": "2024-11-17T06:24:41.546958Z",
     "start_time": "2024-11-17T06:24:41.531976Z"
    }
   },
   "cell_type": "code",
   "source": [
    "#Using + and * with Sequences\n",
    "l = [1,2,3]\n",
    "l*5\n"
   ],
   "id": "6addbc3585989de",
   "outputs": [
    {
     "data": {
      "text/plain": [
       "[1, 2, 3, 1, 2, 3, 1, 2, 3, 1, 2, 3, 1, 2, 3]"
      ]
     },
     "execution_count": 83,
     "metadata": {},
     "output_type": "execute_result"
    }
   ],
   "execution_count": 83
  },
  {
   "metadata": {
    "ExecuteTime": {
     "end_time": "2024-11-17T06:24:50.661064Z",
     "start_time": "2024-11-17T06:24:50.654437Z"
    }
   },
   "cell_type": "code",
   "source": "5 * 'abcd'",
   "id": "2ffb72301784c22",
   "outputs": [
    {
     "data": {
      "text/plain": [
       "'abcdabcdabcdabcdabcd'"
      ]
     },
     "execution_count": 84,
     "metadata": {},
     "output_type": "execute_result"
    }
   ],
   "execution_count": 84
  },
  {
   "metadata": {
    "ExecuteTime": {
     "end_time": "2024-11-17T06:26:51.525715Z",
     "start_time": "2024-11-17T06:26:51.513042Z"
    }
   },
   "cell_type": "code",
   "source": [
    "#Building lists of lists\n",
    "\n",
    "board = [['_'] * 3 for i in range(3)]\n",
    "board"
   ],
   "id": "9a6b3db425049cd6",
   "outputs": [
    {
     "data": {
      "text/plain": [
       "[['_', '_', '_'], ['_', '_', '_'], ['_', '_', '_']]"
      ]
     },
     "execution_count": 86,
     "metadata": {},
     "output_type": "execute_result"
    }
   ],
   "execution_count": 86
  },
  {
   "metadata": {
    "ExecuteTime": {
     "end_time": "2024-11-17T06:27:14.244468Z",
     "start_time": "2024-11-17T06:27:14.237817Z"
    }
   },
   "cell_type": "code",
   "source": [
    "board[1][2] = 'X'\n",
    "board"
   ],
   "id": "954f1b689684aae8",
   "outputs": [
    {
     "data": {
      "text/plain": [
       "[['_', '_', '_'], ['_', '_', 'X'], ['_', '_', '_']]"
      ]
     },
     "execution_count": 87,
     "metadata": {},
     "output_type": "execute_result"
    }
   ],
   "execution_count": 87
  },
  {
   "metadata": {
    "ExecuteTime": {
     "end_time": "2024-11-17T06:28:19.936154Z",
     "start_time": "2024-11-17T06:28:19.931502Z"
    }
   },
   "cell_type": "code",
   "source": [
    "weird_board = [['_'] * 3] * 3\n",
    "weird_board"
   ],
   "id": "e961b533cda1b99d",
   "outputs": [
    {
     "data": {
      "text/plain": [
       "[['_', '_', '_'], ['_', '_', '_'], ['_', '_', '_']]"
      ]
     },
     "execution_count": 88,
     "metadata": {},
     "output_type": "execute_result"
    }
   ],
   "execution_count": 88
  },
  {
   "metadata": {
    "ExecuteTime": {
     "end_time": "2024-11-17T06:29:03.453230Z",
     "start_time": "2024-11-17T06:29:03.447642Z"
    }
   },
   "cell_type": "code",
   "source": [
    "weird_board[1][2] = '0'\n",
    "weird_board"
   ],
   "id": "487b1ffb2dc6d04f",
   "outputs": [
    {
     "data": {
      "text/plain": [
       "[['_', '_', '0'], ['_', '_', '0'], ['_', '_', '0']]"
      ]
     },
     "execution_count": 90,
     "metadata": {},
     "output_type": "execute_result"
    }
   ],
   "execution_count": 90
  },
  {
   "metadata": {
    "ExecuteTime": {
     "end_time": "2024-11-17T06:36:23.275471Z",
     "start_time": "2024-11-17T06:36:23.246625Z"
    }
   },
   "cell_type": "code",
   "source": [
    "#Augmented assignment with Sequences\n",
    "l = [1,2,3]\n",
    "id(l)"
   ],
   "id": "231f8336b63a7caa",
   "outputs": [
    {
     "data": {
      "text/plain": [
       "4634005376"
      ]
     },
     "execution_count": 91,
     "metadata": {},
     "output_type": "execute_result"
    }
   ],
   "execution_count": 91
  },
  {
   "metadata": {
    "ExecuteTime": {
     "end_time": "2024-11-17T06:36:30.734647Z",
     "start_time": "2024-11-17T06:36:30.725038Z"
    }
   },
   "cell_type": "code",
   "source": [
    "l *= 2\n",
    "l"
   ],
   "id": "8a29ac5da4a0f44f",
   "outputs": [
    {
     "data": {
      "text/plain": [
       "[1, 2, 3, 1, 2, 3]"
      ]
     },
     "execution_count": 92,
     "metadata": {},
     "output_type": "execute_result"
    }
   ],
   "execution_count": 92
  },
  {
   "metadata": {
    "ExecuteTime": {
     "end_time": "2024-11-17T06:36:37.422679Z",
     "start_time": "2024-11-17T06:36:37.418720Z"
    }
   },
   "cell_type": "code",
   "source": "id(l)",
   "id": "1b7272ba61801d65",
   "outputs": [
    {
     "data": {
      "text/plain": [
       "4634005376"
      ]
     },
     "execution_count": 93,
     "metadata": {},
     "output_type": "execute_result"
    }
   ],
   "execution_count": 93
  },
  {
   "metadata": {
    "ExecuteTime": {
     "end_time": "2024-11-17T06:37:03.881957Z",
     "start_time": "2024-11-17T06:37:03.877339Z"
    }
   },
   "cell_type": "code",
   "source": [
    "t = (1, 2, 3)\n",
    "id(t)"
   ],
   "id": "47c39afaddc03b2a",
   "outputs": [
    {
     "data": {
      "text/plain": [
       "4633882048"
      ]
     },
     "execution_count": 94,
     "metadata": {},
     "output_type": "execute_result"
    }
   ],
   "execution_count": 94
  },
  {
   "metadata": {
    "ExecuteTime": {
     "end_time": "2024-11-17T06:37:23.777882Z",
     "start_time": "2024-11-17T06:37:23.769963Z"
    }
   },
   "cell_type": "code",
   "source": [
    "t *= 2\n",
    "id(t) #new tuple created"
   ],
   "id": "5347de71dac1dd21",
   "outputs": [
    {
     "data": {
      "text/plain": [
       "4634616992"
      ]
     },
     "execution_count": 95,
     "metadata": {},
     "output_type": "execute_result"
    }
   ],
   "execution_count": 95
  },
  {
   "metadata": {
    "ExecuteTime": {
     "end_time": "2024-11-17T06:39:06.892944Z",
     "start_time": "2024-11-17T06:39:06.846033Z"
    }
   },
   "cell_type": "code",
   "source": [
    "# A+= Assignment Puzzler\n",
    "t = (1,2, [30,40])\n",
    "t[2] += [50, 60]"
   ],
   "id": "2eb05e53f2b5634b",
   "outputs": [
    {
     "ename": "TypeError",
     "evalue": "'tuple' object does not support item assignment",
     "output_type": "error",
     "traceback": [
      "\u001B[0;31m---------------------------------------------------------------------------\u001B[0m",
      "\u001B[0;31mTypeError\u001B[0m                                 Traceback (most recent call last)",
      "Cell \u001B[0;32mIn[96], line 3\u001B[0m\n\u001B[1;32m      1\u001B[0m \u001B[38;5;66;03m# A+= Assignment Puzzler\u001B[39;00m\n\u001B[1;32m      2\u001B[0m t \u001B[38;5;241m=\u001B[39m (\u001B[38;5;241m1\u001B[39m,\u001B[38;5;241m2\u001B[39m, [\u001B[38;5;241m30\u001B[39m,\u001B[38;5;241m40\u001B[39m])\n\u001B[0;32m----> 3\u001B[0m \u001B[43mt\u001B[49m\u001B[43m[\u001B[49m\u001B[38;5;241;43m2\u001B[39;49m\u001B[43m]\u001B[49m \u001B[38;5;241m+\u001B[39m\u001B[38;5;241m=\u001B[39m [\u001B[38;5;241m50\u001B[39m, \u001B[38;5;241m60\u001B[39m]\n",
      "\u001B[0;31mTypeError\u001B[0m: 'tuple' object does not support item assignment"
     ]
    }
   ],
   "execution_count": 96
  },
  {
   "metadata": {
    "ExecuteTime": {
     "end_time": "2024-11-17T06:39:33.151735Z",
     "start_time": "2024-11-17T06:39:33.147213Z"
    }
   },
   "cell_type": "code",
   "source": "t",
   "id": "bb29a6b8eec5a9b3",
   "outputs": [
    {
     "data": {
      "text/plain": [
       "(1, 2, [30, 40, 50, 60])"
      ]
     },
     "execution_count": 97,
     "metadata": {},
     "output_type": "execute_result"
    }
   ],
   "execution_count": 97
  },
  {
   "metadata": {
    "ExecuteTime": {
     "end_time": "2024-11-17T06:52:32.822714Z",
     "start_time": "2024-11-17T06:52:32.814694Z"
    }
   },
   "cell_type": "code",
   "source": [
    "#list.sort Versus the sorted Built-In\n",
    "fruits = ['grape', 'raspberry', 'apple', 'banana']\n",
    "sorted(fruits)"
   ],
   "id": "3740a7e08ab30b81",
   "outputs": [
    {
     "data": {
      "text/plain": [
       "['apple', 'banana', 'grape', 'raspberry']"
      ]
     },
     "execution_count": 105,
     "metadata": {},
     "output_type": "execute_result"
    }
   ],
   "execution_count": 105
  },
  {
   "metadata": {
    "ExecuteTime": {
     "end_time": "2024-11-17T06:51:07.344078Z",
     "start_time": "2024-11-17T06:51:07.332038Z"
    }
   },
   "cell_type": "code",
   "source": "sorted(fruits, reverse=True)",
   "id": "31c2422ac3abaac2",
   "outputs": [
    {
     "data": {
      "text/plain": [
       "['raspberry', 'grape', 'banana', 'apple']"
      ]
     },
     "execution_count": 99,
     "metadata": {},
     "output_type": "execute_result"
    }
   ],
   "execution_count": 99
  },
  {
   "metadata": {
    "ExecuteTime": {
     "end_time": "2024-11-17T06:51:19.749317Z",
     "start_time": "2024-11-17T06:51:19.733826Z"
    }
   },
   "cell_type": "code",
   "source": "sorted(fruits, key=len)",
   "id": "c5a70afddf3fcfef",
   "outputs": [
    {
     "data": {
      "text/plain": [
       "['grape', 'apple', 'banana', 'raspberry']"
      ]
     },
     "execution_count": 100,
     "metadata": {},
     "output_type": "execute_result"
    }
   ],
   "execution_count": 100
  },
  {
   "metadata": {
    "ExecuteTime": {
     "end_time": "2024-11-17T06:51:40.272922Z",
     "start_time": "2024-11-17T06:51:40.262507Z"
    }
   },
   "cell_type": "code",
   "source": "sorted(fruits, key=len, reverse= True)",
   "id": "e11f138e29db66a0",
   "outputs": [
    {
     "data": {
      "text/plain": [
       "['raspberry', 'banana', 'grape', 'apple']"
      ]
     },
     "execution_count": 101,
     "metadata": {},
     "output_type": "execute_result"
    }
   ],
   "execution_count": 101
  },
  {
   "metadata": {
    "ExecuteTime": {
     "end_time": "2024-11-17T06:52:37.831525Z",
     "start_time": "2024-11-17T06:52:37.824467Z"
    }
   },
   "cell_type": "code",
   "source": "fruits #ordering is still preserved",
   "id": "dfa110807ec8cb40",
   "outputs": [
    {
     "data": {
      "text/plain": [
       "['grape', 'raspberry', 'apple', 'banana']"
      ]
     },
     "execution_count": 106,
     "metadata": {},
     "output_type": "execute_result"
    }
   ],
   "execution_count": 106
  },
  {
   "metadata": {
    "ExecuteTime": {
     "end_time": "2024-11-17T06:51:51.439543Z",
     "start_time": "2024-11-17T06:51:51.428263Z"
    }
   },
   "cell_type": "code",
   "source": [
    "fruits.sort()\n",
    "fruits"
   ],
   "id": "de97a7b8865f4ad5",
   "outputs": [
    {
     "data": {
      "text/plain": [
       "['apple', 'banana', 'grape', 'raspberry']"
      ]
     },
     "execution_count": 103,
     "metadata": {},
     "output_type": "execute_result"
    }
   ],
   "execution_count": 103
  },
  {
   "metadata": {
    "ExecuteTime": {
     "end_time": "2024-11-17T06:57:01.980372Z",
     "start_time": "2024-11-17T06:57:01.145522Z"
    }
   },
   "cell_type": "code",
   "source": [
    "#Arrays\n",
    "from array import array\n",
    "from random import random\n",
    "\n",
    "\n",
    "floats = array('d', (random() for i in range(10**7)))\n",
    "floats[-1]"
   ],
   "id": "846224bf76639ef6",
   "outputs": [
    {
     "data": {
      "text/plain": [
       "0.9955887571284645"
      ]
     },
     "execution_count": 108,
     "metadata": {},
     "output_type": "execute_result"
    }
   ],
   "execution_count": 108
  },
  {
   "metadata": {
    "ExecuteTime": {
     "end_time": "2024-11-17T06:58:32.962145Z",
     "start_time": "2024-11-17T06:58:32.766511Z"
    }
   },
   "cell_type": "code",
   "source": [
    "fp = open('floats.bin', 'wb')\n",
    "floats.tofile(fp)\n",
    "fp.close()\n",
    "floats2 = array('d')\n",
    "fp = open('floats.bin', 'rb')\n",
    "floats2.fromfile(fp, 10**7)\n",
    "fp.close()\n",
    "floats2[-1]"
   ],
   "id": "bf3a4d83cd25fb8e",
   "outputs": [
    {
     "data": {
      "text/plain": [
       "0.9955887571284645"
      ]
     },
     "execution_count": 109,
     "metadata": {},
     "output_type": "execute_result"
    }
   ],
   "execution_count": 109
  },
  {
   "metadata": {
    "ExecuteTime": {
     "end_time": "2024-11-17T06:58:45.606578Z",
     "start_time": "2024-11-17T06:58:45.374546Z"
    }
   },
   "cell_type": "code",
   "source": "floats2 == floats",
   "id": "8fae3f1c88981872",
   "outputs": [
    {
     "data": {
      "text/plain": [
       "True"
      ]
     },
     "execution_count": 110,
     "metadata": {},
     "output_type": "execute_result"
    }
   ],
   "execution_count": 110
  },
  {
   "metadata": {
    "ExecuteTime": {
     "end_time": "2024-11-17T07:06:01.978682Z",
     "start_time": "2024-11-17T07:06:01.957645Z"
    }
   },
   "cell_type": "code",
   "source": [
    "#Memory Views\n",
    "#Share memory between data structures without first copying\n",
    "\n",
    "octets = array('B', range(6))\n",
    "m1 = memoryview(octets)\n",
    "m1.tolist()"
   ],
   "id": "3ba0129e6b30d0c3",
   "outputs": [
    {
     "data": {
      "text/plain": [
       "[0, 1, 2, 3, 4, 5]"
      ]
     },
     "execution_count": 111,
     "metadata": {},
     "output_type": "execute_result"
    }
   ],
   "execution_count": 111
  },
  {
   "metadata": {
    "ExecuteTime": {
     "end_time": "2024-11-17T07:06:35.171012Z",
     "start_time": "2024-11-17T07:06:35.162778Z"
    }
   },
   "cell_type": "code",
   "source": [
    "m2 = m1.cast('B', [2,3])\n",
    "m2.tolist()"
   ],
   "id": "feb24e0471fb250",
   "outputs": [
    {
     "data": {
      "text/plain": [
       "[[0, 1, 2], [3, 4, 5]]"
      ]
     },
     "execution_count": 112,
     "metadata": {},
     "output_type": "execute_result"
    }
   ],
   "execution_count": 112
  },
  {
   "metadata": {
    "ExecuteTime": {
     "end_time": "2024-11-17T07:06:59.840349Z",
     "start_time": "2024-11-17T07:06:59.832926Z"
    }
   },
   "cell_type": "code",
   "source": [
    "m3 = m1.cast('B', [3,2])\n",
    "m3.tolist()"
   ],
   "id": "4a30a8262cef48ce",
   "outputs": [
    {
     "data": {
      "text/plain": [
       "[[0, 1], [2, 3], [4, 5]]"
      ]
     },
     "execution_count": 114,
     "metadata": {},
     "output_type": "execute_result"
    }
   ],
   "execution_count": 114
  },
  {
   "metadata": {
    "ExecuteTime": {
     "end_time": "2024-11-17T07:07:31.634976Z",
     "start_time": "2024-11-17T07:07:31.625599Z"
    }
   },
   "cell_type": "code",
   "source": [
    "m2[1,1] = 22\n",
    "m3[1,1] = 33\n",
    "octets"
   ],
   "id": "454b4ddb7a130f23",
   "outputs": [
    {
     "data": {
      "text/plain": [
       "array('B', [0, 1, 2, 33, 22, 5])"
      ]
     },
     "execution_count": 115,
     "metadata": {},
     "output_type": "execute_result"
    }
   ],
   "execution_count": 115
  },
  {
   "metadata": {
    "ExecuteTime": {
     "end_time": "2024-11-17T07:10:03.284776Z",
     "start_time": "2024-11-17T07:10:01.477301Z"
    }
   },
   "cell_type": "code",
   "source": [
    "import numpy as np\n",
    "a = np.arange(12)\n",
    "a"
   ],
   "id": "ccb1a935042e2494",
   "outputs": [
    {
     "data": {
      "text/plain": [
       "array([ 0,  1,  2,  3,  4,  5,  6,  7,  8,  9, 10, 11])"
      ]
     },
     "execution_count": 116,
     "metadata": {},
     "output_type": "execute_result"
    }
   ],
   "execution_count": 116
  },
  {
   "metadata": {
    "ExecuteTime": {
     "end_time": "2024-11-17T07:10:07.835910Z",
     "start_time": "2024-11-17T07:10:07.831012Z"
    }
   },
   "cell_type": "code",
   "source": "type(a)",
   "id": "20112d2783767ec1",
   "outputs": [
    {
     "data": {
      "text/plain": [
       "numpy.ndarray"
      ]
     },
     "execution_count": 117,
     "metadata": {},
     "output_type": "execute_result"
    }
   ],
   "execution_count": 117
  },
  {
   "metadata": {
    "ExecuteTime": {
     "end_time": "2024-11-17T07:10:14.022512Z",
     "start_time": "2024-11-17T07:10:14.011175Z"
    }
   },
   "cell_type": "code",
   "source": "a.shape",
   "id": "31f299a265576a0f",
   "outputs": [
    {
     "data": {
      "text/plain": [
       "(12,)"
      ]
     },
     "execution_count": 118,
     "metadata": {},
     "output_type": "execute_result"
    }
   ],
   "execution_count": 118
  },
  {
   "metadata": {
    "ExecuteTime": {
     "end_time": "2024-11-17T07:10:33.565613Z",
     "start_time": "2024-11-17T07:10:33.550951Z"
    }
   },
   "cell_type": "code",
   "source": [
    "a.shape = 3, 4\n",
    "a"
   ],
   "id": "2fd2bd9bb1c2e4be",
   "outputs": [
    {
     "data": {
      "text/plain": [
       "array([[ 0,  1,  2,  3],\n",
       "       [ 4,  5,  6,  7],\n",
       "       [ 8,  9, 10, 11]])"
      ]
     },
     "execution_count": 121,
     "metadata": {},
     "output_type": "execute_result"
    }
   ],
   "execution_count": 121
  },
  {
   "metadata": {
    "ExecuteTime": {
     "end_time": "2024-11-17T07:10:41.873774Z",
     "start_time": "2024-11-17T07:10:41.859515Z"
    }
   },
   "cell_type": "code",
   "source": "a[2]",
   "id": "99a3d91ec98a2329",
   "outputs": [
    {
     "data": {
      "text/plain": [
       "array([ 8,  9, 10, 11])"
      ]
     },
     "execution_count": 122,
     "metadata": {},
     "output_type": "execute_result"
    }
   ],
   "execution_count": 122
  },
  {
   "metadata": {
    "ExecuteTime": {
     "end_time": "2024-11-17T07:10:58.551751Z",
     "start_time": "2024-11-17T07:10:58.542650Z"
    }
   },
   "cell_type": "code",
   "source": "a[2,1]",
   "id": "bb1117f49eff76b7",
   "outputs": [
    {
     "data": {
      "text/plain": [
       "np.int64(9)"
      ]
     },
     "execution_count": 123,
     "metadata": {},
     "output_type": "execute_result"
    }
   ],
   "execution_count": 123
  },
  {
   "metadata": {
    "ExecuteTime": {
     "end_time": "2024-11-17T07:11:14.207929Z",
     "start_time": "2024-11-17T07:11:14.195982Z"
    }
   },
   "cell_type": "code",
   "source": "a[:, 1] #Get column at index 1",
   "id": "784910f4dd3507d7",
   "outputs": [
    {
     "data": {
      "text/plain": [
       "array([1, 5, 9])"
      ]
     },
     "execution_count": 124,
     "metadata": {},
     "output_type": "execute_result"
    }
   ],
   "execution_count": 124
  },
  {
   "metadata": {
    "ExecuteTime": {
     "end_time": "2024-11-17T07:12:12.525347Z",
     "start_time": "2024-11-17T07:12:12.520112Z"
    }
   },
   "cell_type": "code",
   "source": "a.transpose()",
   "id": "f0c34fb739cc1caf",
   "outputs": [
    {
     "data": {
      "text/plain": [
       "array([[ 0,  4,  8],\n",
       "       [ 1,  5,  9],\n",
       "       [ 2,  6, 10],\n",
       "       [ 3,  7, 11]])"
      ]
     },
     "execution_count": 125,
     "metadata": {},
     "output_type": "execute_result"
    }
   ],
   "execution_count": 125
  },
  {
   "metadata": {
    "ExecuteTime": {
     "end_time": "2024-11-17T07:20:06.578180Z",
     "start_time": "2024-11-17T07:20:06.558590Z"
    }
   },
   "cell_type": "code",
   "source": [
    "from collections import deque\n",
    "dq = deque(range(10), maxlen=10)\n",
    "dq"
   ],
   "id": "23bd3bfb3a911d68",
   "outputs": [
    {
     "data": {
      "text/plain": [
       "deque([0, 1, 2, 3, 4, 5, 6, 7, 8, 9], maxlen=10)"
      ]
     },
     "execution_count": 127,
     "metadata": {},
     "output_type": "execute_result"
    }
   ],
   "execution_count": 127
  },
  {
   "metadata": {
    "ExecuteTime": {
     "end_time": "2024-11-17T07:20:26.966208Z",
     "start_time": "2024-11-17T07:20:26.960407Z"
    }
   },
   "cell_type": "code",
   "source": [
    "dq.rotate(3)\n",
    "dq"
   ],
   "id": "88d845fb20ab4d15",
   "outputs": [
    {
     "data": {
      "text/plain": [
       "deque([7, 8, 9, 0, 1, 2, 3, 4, 5, 6], maxlen=10)"
      ]
     },
     "execution_count": 128,
     "metadata": {},
     "output_type": "execute_result"
    }
   ],
   "execution_count": 128
  },
  {
   "metadata": {
    "ExecuteTime": {
     "end_time": "2024-11-17T07:20:41.379553Z",
     "start_time": "2024-11-17T07:20:41.373995Z"
    }
   },
   "cell_type": "code",
   "source": [
    "dq.rotate(-4)\n",
    "dq"
   ],
   "id": "3306dd5c5544907c",
   "outputs": [
    {
     "data": {
      "text/plain": [
       "deque([5, 6, 7, 8, 9, 0, 1, 2, 3, 4], maxlen=10)"
      ]
     },
     "execution_count": 130,
     "metadata": {},
     "output_type": "execute_result"
    }
   ],
   "execution_count": 130
  },
  {
   "metadata": {
    "ExecuteTime": {
     "end_time": "2024-11-17T07:21:03.139653Z",
     "start_time": "2024-11-17T07:21:03.132316Z"
    }
   },
   "cell_type": "code",
   "source": [
    "dq.appendleft(-1)\n",
    "dq"
   ],
   "id": "e756848954a71ab1",
   "outputs": [
    {
     "data": {
      "text/plain": [
       "deque([-1, -1, 5, 6, 7, 8, 9, 0, 1, 2], maxlen=10)"
      ]
     },
     "execution_count": 132,
     "metadata": {},
     "output_type": "execute_result"
    }
   ],
   "execution_count": 132
  },
  {
   "metadata": {
    "ExecuteTime": {
     "end_time": "2024-11-17T07:21:28.449912Z",
     "start_time": "2024-11-17T07:21:28.443010Z"
    }
   },
   "cell_type": "code",
   "source": [
    "dq.extend([11,22,33])\n",
    "dq"
   ],
   "id": "2d9699b1882b1d6a",
   "outputs": [
    {
     "data": {
      "text/plain": [
       "deque([6, 7, 8, 9, 0, 1, 2, 11, 22, 33], maxlen=10)"
      ]
     },
     "execution_count": 133,
     "metadata": {},
     "output_type": "execute_result"
    }
   ],
   "execution_count": 133
  },
  {
   "metadata": {
    "ExecuteTime": {
     "end_time": "2024-11-17T07:22:17.340265Z",
     "start_time": "2024-11-17T07:22:17.334876Z"
    }
   },
   "cell_type": "code",
   "source": [
    "dq.extendleft([10, 20, 30, 40])\n",
    "dq"
   ],
   "id": "d676014e165bb7c0",
   "outputs": [
    {
     "data": {
      "text/plain": [
       "deque([40, 30, 20, 10, 6, 7, 8, 9, 0, 1], maxlen=10)"
      ]
     },
     "execution_count": 134,
     "metadata": {},
     "output_type": "execute_result"
    }
   ],
   "execution_count": 134
  },
  {
   "metadata": {},
   "cell_type": "code",
   "outputs": [],
   "execution_count": null,
   "source": "",
   "id": "9091bcfa8238a498"
  }
 ],
 "metadata": {
  "kernelspec": {
   "display_name": "Python 3",
   "language": "python",
   "name": "python3"
  },
  "language_info": {
   "codemirror_mode": {
    "name": "ipython",
    "version": 2
   },
   "file_extension": ".py",
   "mimetype": "text/x-python",
   "name": "python",
   "nbconvert_exporter": "python",
   "pygments_lexer": "ipython2",
   "version": "2.7.6"
  }
 },
 "nbformat": 4,
 "nbformat_minor": 5
}
