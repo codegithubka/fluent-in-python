{
 "cells": [
  {
   "cell_type": "code",
   "id": "initial_id",
   "metadata": {
    "collapsed": true,
    "ExecuteTime": {
     "end_time": "2024-11-17T07:33:09.088884Z",
     "start_time": "2024-11-17T07:33:09.083665Z"
    }
   },
   "source": [
    "#Modern dict syntax\n",
    "\n",
    "dial_codes = [                                                  \n",
    "    (880, 'Bangladesh'),\n",
    "    (55,  'Brazil'),\n",
    "    (86,  'China'),\n",
    "    (91,  'India'),\n",
    "    (62,  'Indonesia'),\n",
    "    (81,  'Japan'),\n",
    "    (234, 'Nigeria'),\n",
    "    (92,  'Pakistan'),\n",
    "    (7,   'Russia'),\n",
    "    (1,   'United States'),\n",
    "]\n",
    "\n",
    "country_dial = {country:code for code, country in dial_codes}\n",
    "country_dial"
   ],
   "outputs": [
    {
     "data": {
      "text/plain": [
       "{'Bangladesh': 880,\n",
       " 'Brazil': 55,\n",
       " 'China': 86,\n",
       " 'India': 91,\n",
       " 'Indonesia': 62,\n",
       " 'Japan': 81,\n",
       " 'Nigeria': 234,\n",
       " 'Pakistan': 92,\n",
       " 'Russia': 7,\n",
       " 'United States': 1}"
      ]
     },
     "execution_count": 1,
     "metadata": {},
     "output_type": "execute_result"
    }
   ],
   "execution_count": 1
  },
  {
   "metadata": {
    "ExecuteTime": {
     "end_time": "2024-11-17T07:34:55.533350Z",
     "start_time": "2024-11-17T07:34:55.525852Z"
    }
   },
   "cell_type": "code",
   "source": [
    "{code: country.upper()\n",
    " for country, code, in sorted(country_dial.items())\n",
    " if code < 70}"
   ],
   "id": "2fa85792c7dc92ea",
   "outputs": [
    {
     "data": {
      "text/plain": [
       "{55: 'BRAZIL', 62: 'INDONESIA', 7: 'RUSSIA', 1: 'UNITED STATES'}"
      ]
     },
     "execution_count": 2,
     "metadata": {},
     "output_type": "execute_result"
    }
   ],
   "execution_count": 2
  },
  {
   "metadata": {
    "ExecuteTime": {
     "end_time": "2024-11-17T07:36:44.110385Z",
     "start_time": "2024-11-17T07:36:44.102394Z"
    }
   },
   "cell_type": "code",
   "source": [
    "#Unpcacking mappings\n",
    "def dump(**kwargs):\n",
    "    return kwargs\n",
    "\n",
    "dump(**{'x': 1}, y=2, **{'z': 3})"
   ],
   "id": "c486a2b1654f1c86",
   "outputs": [
    {
     "data": {
      "text/plain": [
       "{'x': 1, 'y': 2, 'z': 3}"
      ]
     },
     "execution_count": 3,
     "metadata": {},
     "output_type": "execute_result"
    }
   ],
   "execution_count": 3
  },
  {
   "metadata": {
    "ExecuteTime": {
     "end_time": "2024-11-17T07:37:45.601569Z",
     "start_time": "2024-11-17T07:37:45.593710Z"
    }
   },
   "cell_type": "code",
   "source": "{'a': 0, **{'x': 1}, 'y': 2, **{'z': 3, 'x': 4}}",
   "id": "540802b9f3b425a1",
   "outputs": [
    {
     "data": {
      "text/plain": [
       "{'a': 0, 'x': 4, 'y': 2, 'z': 3}"
      ]
     },
     "execution_count": 4,
     "metadata": {},
     "output_type": "execute_result"
    }
   ],
   "execution_count": 4
  },
  {
   "metadata": {
    "ExecuteTime": {
     "end_time": "2024-11-17T07:38:44.489627Z",
     "start_time": "2024-11-17T07:38:44.476038Z"
    }
   },
   "cell_type": "code",
   "source": [
    "d1 = {'a': 1, 'b': 3}\n",
    "d2 = {'a': 2, 'b': 4, 'c': 6}\n",
    "d1 | d2"
   ],
   "id": "b2c1736d941ebe21",
   "outputs": [
    {
     "data": {
      "text/plain": [
       "{'a': 2, 'b': 4, 'c': 6}"
      ]
     },
     "execution_count": 5,
     "metadata": {},
     "output_type": "execute_result"
    }
   ],
   "execution_count": 5
  },
  {
   "metadata": {
    "ExecuteTime": {
     "end_time": "2024-11-17T07:39:18.403201Z",
     "start_time": "2024-11-17T07:39:18.396566Z"
    }
   },
   "cell_type": "code",
   "source": "d1",
   "id": "e0c779c36e1346a9",
   "outputs": [
    {
     "data": {
      "text/plain": [
       "{'a': 1, 'b': 3}"
      ]
     },
     "execution_count": 6,
     "metadata": {},
     "output_type": "execute_result"
    }
   ],
   "execution_count": 6
  },
  {
   "metadata": {
    "ExecuteTime": {
     "end_time": "2024-11-17T07:39:42.267562Z",
     "start_time": "2024-11-17T07:39:42.258786Z"
    }
   },
   "cell_type": "code",
   "source": [
    "d1 |= d2\n",
    "d1 #overwrite"
   ],
   "id": "eb02ecf0c9e2693f",
   "outputs": [
    {
     "data": {
      "text/plain": [
       "{'a': 2, 'b': 4, 'c': 6}"
      ]
     },
     "execution_count": 8,
     "metadata": {},
     "output_type": "execute_result"
    }
   ],
   "execution_count": 8
  },
  {
   "metadata": {
    "ExecuteTime": {
     "end_time": "2024-11-17T07:44:03.848950Z",
     "start_time": "2024-11-17T07:44:03.839438Z"
    }
   },
   "cell_type": "code",
   "source": [
    "#Pattern Matching with Mappings\n",
    "def get_creators(record: dict)->list:\n",
    "    match record:\n",
    "        case {'type': 'book', 'api': 2, 'authors': [*names]}:  \n",
    "            return names\n",
    "        case {'type': 'book', 'api': 1, 'author': name}:  \n",
    "            return [name]\n",
    "        case {'type': 'book'}:  \n",
    "            raise ValueError(f\"Invalid 'book' record: {record!r}\")\n",
    "        case {'type': 'movie', 'director': name}:  \n",
    "            return [name]\n",
    "        case _:  \n",
    "            raise ValueError(f'Invalid record: {record!r}') "
   ],
   "id": "53f1df56b4d108f",
   "outputs": [],
   "execution_count": 9
  },
  {
   "metadata": {
    "ExecuteTime": {
     "end_time": "2024-11-17T07:45:49.221325Z",
     "start_time": "2024-11-17T07:45:49.212614Z"
    }
   },
   "cell_type": "code",
   "source": [
    "b1 = dict(api=1, author='Douglas', type='book', title='X')\n",
    "get_creators(b1)"
   ],
   "id": "443362804ed95313",
   "outputs": [
    {
     "data": {
      "text/plain": [
       "['Douglas']"
      ]
     },
     "execution_count": 10,
     "metadata": {},
     "output_type": "execute_result"
    }
   ],
   "execution_count": 10
  },
  {
   "metadata": {
    "ExecuteTime": {
     "end_time": "2024-11-17T07:46:41.332527Z",
     "start_time": "2024-11-17T07:46:41.325085Z"
    }
   },
   "cell_type": "code",
   "source": [
    "from collections import OrderedDict\n",
    "b2 = OrderedDict(api=2, type='book',\n",
    "        title='Python in a Nutshell',\n",
    "        authors='Martelli Ravenscroft Holden'.split())\n",
    "get_creators(b2)"
   ],
   "id": "93acbfe78fbc1168",
   "outputs": [
    {
     "data": {
      "text/plain": [
       "['Martelli', 'Ravenscroft', 'Holden']"
      ]
     },
     "execution_count": 11,
     "metadata": {},
     "output_type": "execute_result"
    }
   ],
   "execution_count": 11
  },
  {
   "metadata": {
    "ExecuteTime": {
     "end_time": "2024-11-17T07:47:28.556020Z",
     "start_time": "2024-11-17T07:47:28.439625Z"
    }
   },
   "cell_type": "code",
   "source": "get_creators('spam, spam, spam')",
   "id": "42c360dcdaa24938",
   "outputs": [
    {
     "ename": "ValueError",
     "evalue": "Invalid record: 'spam, spam, spam'",
     "output_type": "error",
     "traceback": [
      "\u001B[0;31m---------------------------------------------------------------------------\u001B[0m",
      "\u001B[0;31mValueError\u001B[0m                                Traceback (most recent call last)",
      "Cell \u001B[0;32mIn[12], line 1\u001B[0m\n\u001B[0;32m----> 1\u001B[0m \u001B[43mget_creators\u001B[49m\u001B[43m(\u001B[49m\u001B[38;5;124;43m'\u001B[39;49m\u001B[38;5;124;43mspam, spam, spam\u001B[39;49m\u001B[38;5;124;43m'\u001B[39;49m\u001B[43m)\u001B[49m\n",
      "Cell \u001B[0;32mIn[9], line 13\u001B[0m, in \u001B[0;36mget_creators\u001B[0;34m(record)\u001B[0m\n\u001B[1;32m     11\u001B[0m     \u001B[38;5;28;01mreturn\u001B[39;00m [name]\n\u001B[1;32m     12\u001B[0m \u001B[38;5;28;01mcase\u001B[39;00m\u001B[38;5;250m \u001B[39m\u001B[38;5;28;01m_\u001B[39;00m:  \n\u001B[0;32m---> 13\u001B[0m     \u001B[38;5;28;01mraise\u001B[39;00m \u001B[38;5;167;01mValueError\u001B[39;00m(\u001B[38;5;124mf\u001B[39m\u001B[38;5;124m'\u001B[39m\u001B[38;5;124mInvalid record: \u001B[39m\u001B[38;5;132;01m{\u001B[39;00mrecord\u001B[38;5;132;01m!r}\u001B[39;00m\u001B[38;5;124m'\u001B[39m)\n",
      "\u001B[0;31mValueError\u001B[0m: Invalid record: 'spam, spam, spam'"
     ]
    }
   ],
   "execution_count": 12
  },
  {
   "metadata": {
    "ExecuteTime": {
     "end_time": "2024-11-17T07:54:02.600811Z",
     "start_time": "2024-11-17T07:54:02.592144Z"
    }
   },
   "cell_type": "code",
   "source": [
    "#Standard API of Mapping Types\n",
    "from collections import abc\n",
    "my_dict = {}\n",
    "isinstance(my_dict, abc.Mapping)"
   ],
   "id": "e6575a39786de415",
   "outputs": [
    {
     "data": {
      "text/plain": [
       "True"
      ]
     },
     "execution_count": 13,
     "metadata": {},
     "output_type": "execute_result"
    }
   ],
   "execution_count": 13
  },
  {
   "metadata": {
    "ExecuteTime": {
     "end_time": "2024-11-17T07:54:13.184210Z",
     "start_time": "2024-11-17T07:54:13.178586Z"
    }
   },
   "cell_type": "code",
   "source": "isinstance(my_dict, abc.MutableMapping)",
   "id": "3368ad23c8e5bb8b",
   "outputs": [
    {
     "data": {
      "text/plain": [
       "True"
      ]
     },
     "execution_count": 14,
     "metadata": {},
     "output_type": "execute_result"
    }
   ],
   "execution_count": 14
  },
  {
   "metadata": {
    "ExecuteTime": {
     "end_time": "2024-11-17T07:59:06.820149Z",
     "start_time": "2024-11-17T07:59:06.812853Z"
    }
   },
   "cell_type": "code",
   "source": [
    "#Hashable\n",
    "tt = (1, 2, (30, 40))\n",
    "hash(tt)"
   ],
   "id": "1091daecc765c2af",
   "outputs": [
    {
     "data": {
      "text/plain": [
       "-3907003130834322577"
      ]
     },
     "execution_count": 15,
     "metadata": {},
     "output_type": "execute_result"
    }
   ],
   "execution_count": 15
  },
  {
   "metadata": {
    "ExecuteTime": {
     "end_time": "2024-11-17T07:59:47.401954Z",
     "start_time": "2024-11-17T07:59:47.369819Z"
    }
   },
   "cell_type": "code",
   "source": [
    "tl = (1, 2, [30, 40])\n",
    "hash(tl)"
   ],
   "id": "b23913f3b9ba6ec9",
   "outputs": [
    {
     "ename": "TypeError",
     "evalue": "unhashable type: 'list'",
     "output_type": "error",
     "traceback": [
      "\u001B[0;31m---------------------------------------------------------------------------\u001B[0m",
      "\u001B[0;31mTypeError\u001B[0m                                 Traceback (most recent call last)",
      "Cell \u001B[0;32mIn[17], line 2\u001B[0m\n\u001B[1;32m      1\u001B[0m tl \u001B[38;5;241m=\u001B[39m (\u001B[38;5;241m1\u001B[39m, \u001B[38;5;241m2\u001B[39m, [\u001B[38;5;241m30\u001B[39m, \u001B[38;5;241m40\u001B[39m])\n\u001B[0;32m----> 2\u001B[0m \u001B[38;5;28;43mhash\u001B[39;49m\u001B[43m(\u001B[49m\u001B[43mtl\u001B[49m\u001B[43m)\u001B[49m\n",
      "\u001B[0;31mTypeError\u001B[0m: unhashable type: 'list'"
     ]
    }
   ],
   "execution_count": 17
  },
  {
   "metadata": {
    "ExecuteTime": {
     "end_time": "2024-11-17T08:26:20.801429Z",
     "start_time": "2024-11-17T08:26:20.786161Z"
    }
   },
   "cell_type": "code",
   "source": [
    "class StrKeyDict0(dict):\n",
    "    def __missing__(self, key):\n",
    "        if isinstance(key, str):\n",
    "            raise KeyError(key)\n",
    "        return self[str(key)]\n",
    "    \n",
    "    def get(self, key, default=None):\n",
    "        try:\n",
    "            return self[key]\n",
    "        except KeyError:\n",
    "            return default\n",
    "    \n",
    "    def __contains__(self, key):\n",
    "        return key in self.keys() or str(key) in self.keys()"
   ],
   "id": "1c4406bc76823ce7",
   "outputs": [],
   "execution_count": 18
  },
  {
   "metadata": {
    "ExecuteTime": {
     "end_time": "2024-11-17T08:31:00.558029Z",
     "start_time": "2024-11-17T08:31:00.544166Z"
    }
   },
   "cell_type": "code",
   "source": [
    "#Set Theory\n",
    "\n",
    "l = ['spam', \n",
    "     'spam', 'eggs', 'spam', 'bacon', 'eggs']\n",
    "\n",
    "set(l)"
   ],
   "id": "3a99ca05d61174d9",
   "outputs": [
    {
     "data": {
      "text/plain": [
       "{'bacon', 'eggs', 'spam'}"
      ]
     },
     "execution_count": 21,
     "metadata": {},
     "output_type": "execute_result"
    }
   ],
   "execution_count": 21
  },
  {
   "metadata": {
    "ExecuteTime": {
     "end_time": "2024-11-17T08:31:04.169151Z",
     "start_time": "2024-11-17T08:31:04.157307Z"
    }
   },
   "cell_type": "code",
   "source": "list(set(l))",
   "id": "973cdbbedbd9f493",
   "outputs": [
    {
     "data": {
      "text/plain": [
       "['spam', 'bacon', 'eggs']"
      ]
     },
     "execution_count": 22,
     "metadata": {},
     "output_type": "execute_result"
    }
   ],
   "execution_count": 22
  },
  {
   "metadata": {
    "ExecuteTime": {
     "end_time": "2024-11-17T08:32:08.547202Z",
     "start_time": "2024-11-17T08:32:08.537390Z"
    }
   },
   "cell_type": "code",
   "source": "dict.fromkeys(l).keys()",
   "id": "796daf77d572a11a",
   "outputs": [
    {
     "data": {
      "text/plain": [
       "dict_keys(['spam', 'eggs', 'bacon'])"
      ]
     },
     "execution_count": 23,
     "metadata": {},
     "output_type": "execute_result"
    }
   ],
   "execution_count": 23
  },
  {
   "metadata": {
    "ExecuteTime": {
     "end_time": "2024-11-17T08:32:26.698391Z",
     "start_time": "2024-11-17T08:32:26.683285Z"
    }
   },
   "cell_type": "code",
   "source": "list(dict.fromkeys(l).keys())",
   "id": "dba1d0f067f3b33c",
   "outputs": [
    {
     "data": {
      "text/plain": [
       "['spam', 'eggs', 'bacon']"
      ]
     },
     "execution_count": 24,
     "metadata": {},
     "output_type": "execute_result"
    }
   ],
   "execution_count": 24
  },
  {
   "metadata": {
    "ExecuteTime": {
     "end_time": "2024-11-17T08:36:15.478713Z",
     "start_time": "2024-11-17T08:36:15.473104Z"
    }
   },
   "cell_type": "code",
   "source": [
    "#Set Literals\n",
    "s = {1}\n",
    "type(s)"
   ],
   "id": "22a2322309893f0a",
   "outputs": [
    {
     "data": {
      "text/plain": [
       "set"
      ]
     },
     "execution_count": 25,
     "metadata": {},
     "output_type": "execute_result"
    }
   ],
   "execution_count": 25
  },
  {
   "metadata": {
    "ExecuteTime": {
     "end_time": "2024-11-17T08:36:23.501855Z",
     "start_time": "2024-11-17T08:36:23.488910Z"
    }
   },
   "cell_type": "code",
   "source": "s",
   "id": "65b9363652b8a7d3",
   "outputs": [
    {
     "data": {
      "text/plain": [
       "{1}"
      ]
     },
     "execution_count": 26,
     "metadata": {},
     "output_type": "execute_result"
    }
   ],
   "execution_count": 26
  },
  {
   "metadata": {
    "ExecuteTime": {
     "end_time": "2024-11-17T08:36:30.188886Z",
     "start_time": "2024-11-17T08:36:30.184331Z"
    }
   },
   "cell_type": "code",
   "source": "s.pop()",
   "id": "4ee292109f35780",
   "outputs": [
    {
     "data": {
      "text/plain": [
       "1"
      ]
     },
     "execution_count": 27,
     "metadata": {},
     "output_type": "execute_result"
    }
   ],
   "execution_count": 27
  },
  {
   "metadata": {
    "ExecuteTime": {
     "end_time": "2024-11-17T08:36:38.537652Z",
     "start_time": "2024-11-17T08:36:38.527961Z"
    }
   },
   "cell_type": "code",
   "source": "s",
   "id": "e3264bfca6fec3be",
   "outputs": [
    {
     "data": {
      "text/plain": [
       "set()"
      ]
     },
     "execution_count": 28,
     "metadata": {},
     "output_type": "execute_result"
    }
   ],
   "execution_count": 28
  },
  {
   "metadata": {
    "ExecuteTime": {
     "end_time": "2024-11-17T08:37:20.566017Z",
     "start_time": "2024-11-17T08:37:20.551765Z"
    }
   },
   "cell_type": "code",
   "source": "frozenset(range(10))",
   "id": "65c2b3ddbce19846",
   "outputs": [
    {
     "data": {
      "text/plain": [
       "frozenset({0, 1, 2, 3, 4, 5, 6, 7, 8, 9})"
      ]
     },
     "execution_count": 29,
     "metadata": {},
     "output_type": "execute_result"
    }
   ],
   "execution_count": 29
  },
  {
   "metadata": {
    "ExecuteTime": {
     "end_time": "2024-11-17T08:39:28.773204Z",
     "start_time": "2024-11-17T08:39:28.740099Z"
    }
   },
   "cell_type": "code",
   "source": [
    "#Set Comprehensions\n",
    "from unicodedata import name\n",
    "{chr(i) for i in range (32, 256) if 'SIGN' in name(chr(i), '')}"
   ],
   "id": "77472f63f0aaaec",
   "outputs": [
    {
     "data": {
      "text/plain": [
       "{'#',\n",
       " '$',\n",
       " '%',\n",
       " '+',\n",
       " '<',\n",
       " '=',\n",
       " '>',\n",
       " '¢',\n",
       " '£',\n",
       " '¤',\n",
       " '¥',\n",
       " '§',\n",
       " '©',\n",
       " '¬',\n",
       " '®',\n",
       " '°',\n",
       " '±',\n",
       " 'µ',\n",
       " '¶',\n",
       " '×',\n",
       " '÷'}"
      ]
     },
     "execution_count": 31,
     "metadata": {},
     "output_type": "execute_result"
    }
   ],
   "execution_count": 31
  }
 ],
 "metadata": {
  "kernelspec": {
   "display_name": "Python 3",
   "language": "python",
   "name": "python3"
  },
  "language_info": {
   "codemirror_mode": {
    "name": "ipython",
    "version": 2
   },
   "file_extension": ".py",
   "mimetype": "text/x-python",
   "name": "python",
   "nbconvert_exporter": "python",
   "pygments_lexer": "ipython2",
   "version": "2.7.6"
  }
 },
 "nbformat": 4,
 "nbformat_minor": 5
}
