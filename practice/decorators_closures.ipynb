{
 "cells": [
  {
   "cell_type": "code",
   "id": "initial_id",
   "metadata": {
    "collapsed": true,
    "ExecuteTime": {
     "end_time": "2024-11-18T06:09:05.899340Z",
     "start_time": "2024-11-18T06:09:05.895799Z"
    }
   },
   "source": [
    "#Decorators 101\n",
    "\n",
    "def deco(func):\n",
    "    def inner():\n",
    "        print('running inner()')\n",
    "    return inner\n",
    "\n",
    "@deco\n",
    "def target():\n",
    "    print('running target()')"
   ],
   "outputs": [],
   "execution_count": 1
  },
  {
   "metadata": {
    "ExecuteTime": {
     "end_time": "2024-11-18T06:09:10.565696Z",
     "start_time": "2024-11-18T06:09:10.562191Z"
    }
   },
   "cell_type": "code",
   "source": "target()",
   "id": "ea5a99617c175853",
   "outputs": [
    {
     "name": "stdout",
     "output_type": "stream",
     "text": [
      "running inner()\n"
     ]
    }
   ],
   "execution_count": 2
  },
  {
   "metadata": {
    "ExecuteTime": {
     "end_time": "2024-11-18T06:09:22.342813Z",
     "start_time": "2024-11-18T06:09:22.334261Z"
    }
   },
   "cell_type": "code",
   "source": "target",
   "id": "7899265ab51c3d01",
   "outputs": [
    {
     "data": {
      "text/plain": [
       "<function __main__.deco.<locals>.inner()>"
      ]
     },
     "execution_count": 3,
     "metadata": {},
     "output_type": "execute_result"
    }
   ],
   "execution_count": 3
  },
  {
   "metadata": {
    "ExecuteTime": {
     "end_time": "2024-11-18T07:42:11.388581Z",
     "start_time": "2024-11-18T07:42:11.351731Z"
    }
   },
   "cell_type": "code",
   "source": [
    "#When Python executes decorators\n",
    "\n",
    "registry = []\n",
    "def register(func):\n",
    "    print(f'running register({func}')\n",
    "    registry.append(func)\n",
    "    return func\n",
    "@register\n",
    "def f1():\n",
    "    print('running f1()')\n",
    "    \n",
    "@register\n",
    "def f2():\n",
    "    print('running f2()')\n",
    "\n",
    "def f3():\n",
    "    print('running f3()') #decorated\n",
    "\n",
    "def main():\n",
    "    print('running main()')\n",
    "    print('registry->', registry)\n",
    "    f1()\n",
    "    f2()\n",
    "    f3()\n",
    "if __name__ == '__main__':\n",
    "    main()"
   ],
   "id": "1db600a0f9f6e94d",
   "outputs": [
    {
     "name": "stdout",
     "output_type": "stream",
     "text": [
      "running register(<function f1 at 0x1052fdd00>\n",
      "running register(<function f2 at 0x1052fe160>\n",
      "running main()\n",
      "registry-> [<function f1 at 0x1052fdd00>, <function f2 at 0x1052fe160>]\n",
      "running f1()\n",
      "running f2()\n",
      "running f3()\n"
     ]
    }
   ],
   "execution_count": 4
  },
  {
   "metadata": {
    "ExecuteTime": {
     "end_time": "2024-11-18T07:51:16.330341Z",
     "start_time": "2024-11-18T07:51:16.310820Z"
    }
   },
   "cell_type": "code",
   "source": [
    "#Closures\n",
    "class Averager:\n",
    "    \n",
    "    def __init__(self):\n",
    "        self.series = []\n",
    "        \n",
    "    def __call__(self, new_values):\n",
    "        self.series.append(new_values)\n",
    "        total = sum(self.series)\n",
    "        return total / len(self.series)"
   ],
   "id": "2d9675b5e16cf470",
   "outputs": [],
   "execution_count": 5
  },
  {
   "metadata": {
    "ExecuteTime": {
     "end_time": "2024-11-18T07:51:30.065232Z",
     "start_time": "2024-11-18T07:51:30.045077Z"
    }
   },
   "cell_type": "code",
   "source": [
    "avg = Averager()\n",
    "avg(10)"
   ],
   "id": "304a04b557d99563",
   "outputs": [
    {
     "data": {
      "text/plain": [
       "10.0"
      ]
     },
     "execution_count": 6,
     "metadata": {},
     "output_type": "execute_result"
    }
   ],
   "execution_count": 6
  },
  {
   "metadata": {
    "ExecuteTime": {
     "end_time": "2024-11-18T07:51:34.337262Z",
     "start_time": "2024-11-18T07:51:34.321276Z"
    }
   },
   "cell_type": "code",
   "source": "avg(11)",
   "id": "dddd43c625ac2cd",
   "outputs": [
    {
     "data": {
      "text/plain": [
       "10.5"
      ]
     },
     "execution_count": 7,
     "metadata": {},
     "output_type": "execute_result"
    }
   ],
   "execution_count": 7
  },
  {
   "metadata": {
    "ExecuteTime": {
     "end_time": "2024-11-18T07:52:49.895209Z",
     "start_time": "2024-11-18T07:52:49.880848Z"
    }
   },
   "cell_type": "code",
   "source": [
    "def make_averager():\n",
    "    series = [] #free variable\n",
    "    \n",
    "    def averager(new_value):\n",
    "        series.append(new_value)\n",
    "        total = sum(series)\n",
    "        return total / len(series)\n",
    "    \n",
    "    return averager"
   ],
   "id": "c495fd4f5c0fe0db",
   "outputs": [],
   "execution_count": 8
  },
  {
   "metadata": {
    "ExecuteTime": {
     "end_time": "2024-11-18T07:52:57.902112Z",
     "start_time": "2024-11-18T07:52:57.891996Z"
    }
   },
   "cell_type": "code",
   "source": [
    "avg = make_averager()\n",
    "avg(10)"
   ],
   "id": "10e7aad479db4c7c",
   "outputs": [
    {
     "data": {
      "text/plain": [
       "10.0"
      ]
     },
     "execution_count": 9,
     "metadata": {},
     "output_type": "execute_result"
    }
   ],
   "execution_count": 9
  },
  {
   "metadata": {
    "ExecuteTime": {
     "end_time": "2024-11-18T07:53:00.523173Z",
     "start_time": "2024-11-18T07:53:00.519567Z"
    }
   },
   "cell_type": "code",
   "source": "avg(11)",
   "id": "850b2c297f863d8b",
   "outputs": [
    {
     "data": {
      "text/plain": [
       "10.5"
      ]
     },
     "execution_count": 10,
     "metadata": {},
     "output_type": "execute_result"
    }
   ],
   "execution_count": 10
  },
  {
   "metadata": {
    "ExecuteTime": {
     "end_time": "2024-11-18T07:54:46.735625Z",
     "start_time": "2024-11-18T07:54:46.726777Z"
    }
   },
   "cell_type": "code",
   "source": "avg.__code__.co_varnames",
   "id": "c80fb51a24d1a553",
   "outputs": [
    {
     "data": {
      "text/plain": [
       "('new_value', 'total')"
      ]
     },
     "execution_count": 11,
     "metadata": {},
     "output_type": "execute_result"
    }
   ],
   "execution_count": 11
  },
  {
   "metadata": {
    "ExecuteTime": {
     "end_time": "2024-11-18T07:54:57.526921Z",
     "start_time": "2024-11-18T07:54:57.518977Z"
    }
   },
   "cell_type": "code",
   "source": "avg.__code__.co_freevars",
   "id": "5d56432a62aa0ae6",
   "outputs": [
    {
     "data": {
      "text/plain": [
       "('series',)"
      ]
     },
     "execution_count": 12,
     "metadata": {},
     "output_type": "execute_result"
    }
   ],
   "execution_count": 12
  },
  {
   "metadata": {
    "ExecuteTime": {
     "end_time": "2024-11-18T07:55:39.463773Z",
     "start_time": "2024-11-18T07:55:39.457266Z"
    }
   },
   "cell_type": "code",
   "source": "avg.__closure__",
   "id": "527701cfc51770d7",
   "outputs": [
    {
     "data": {
      "text/plain": [
       "(<cell at 0x105249480: list object at 0x1052d4140>,)"
      ]
     },
     "execution_count": 13,
     "metadata": {},
     "output_type": "execute_result"
    }
   ],
   "execution_count": 13
  },
  {
   "metadata": {
    "ExecuteTime": {
     "end_time": "2024-11-18T07:59:09.396093Z",
     "start_time": "2024-11-18T07:59:09.390598Z"
    }
   },
   "cell_type": "code",
   "source": [
    "#nonlocal Declaration\n",
    "\n",
    "#broken example\n",
    "def make_averager():\n",
    "    count = 0\n",
    "    total = 0\n",
    "\n",
    "    def averager(new_value):\n",
    "        count += 1 #makes it a local var\n",
    "        total += new_value\n",
    "        return total / count\n",
    "\n",
    "    return averager"
   ],
   "id": "da09e241e9ce111e",
   "outputs": [],
   "execution_count": 15
  },
  {
   "metadata": {
    "ExecuteTime": {
     "end_time": "2024-11-18T07:59:20.652361Z",
     "start_time": "2024-11-18T07:59:20.626198Z"
    }
   },
   "cell_type": "code",
   "source": [
    "avg = make_averager()\n",
    "avg(10)"
   ],
   "id": "7cfcc9e4b64ec03d",
   "outputs": [
    {
     "ename": "UnboundLocalError",
     "evalue": "cannot access local variable 'count' where it is not associated with a value",
     "output_type": "error",
     "traceback": [
      "\u001B[0;31m---------------------------------------------------------------------------\u001B[0m",
      "\u001B[0;31mUnboundLocalError\u001B[0m                         Traceback (most recent call last)",
      "Cell \u001B[0;32mIn[16], line 2\u001B[0m\n\u001B[1;32m      1\u001B[0m avg \u001B[38;5;241m=\u001B[39m make_averager()\n\u001B[0;32m----> 2\u001B[0m \u001B[43mavg\u001B[49m\u001B[43m(\u001B[49m\u001B[38;5;241;43m10\u001B[39;49m\u001B[43m)\u001B[49m\n",
      "Cell \u001B[0;32mIn[15], line 9\u001B[0m, in \u001B[0;36mmake_averager.<locals>.averager\u001B[0;34m(new_value)\u001B[0m\n\u001B[1;32m      8\u001B[0m \u001B[38;5;28;01mdef\u001B[39;00m \u001B[38;5;21maverager\u001B[39m(new_value):\n\u001B[0;32m----> 9\u001B[0m     \u001B[43mcount\u001B[49m \u001B[38;5;241m+\u001B[39m\u001B[38;5;241m=\u001B[39m \u001B[38;5;241m1\u001B[39m \u001B[38;5;66;03m#makes it a local var\u001B[39;00m\n\u001B[1;32m     10\u001B[0m     total \u001B[38;5;241m+\u001B[39m\u001B[38;5;241m=\u001B[39m new_value\n\u001B[1;32m     11\u001B[0m     \u001B[38;5;28;01mreturn\u001B[39;00m total \u001B[38;5;241m/\u001B[39m count\n",
      "\u001B[0;31mUnboundLocalError\u001B[0m: cannot access local variable 'count' where it is not associated with a value"
     ]
    }
   ],
   "execution_count": 16
  },
  {
   "metadata": {
    "ExecuteTime": {
     "end_time": "2024-11-18T08:00:47.549237Z",
     "start_time": "2024-11-18T08:00:47.542676Z"
    }
   },
   "cell_type": "code",
   "source": [
    "def  make_averager():\n",
    "    count , total = 0, 0\n",
    "    \n",
    "    def averager(new_value):\n",
    "        nonlocal count, total\n",
    "        count += 1\n",
    "        total += new_value\n",
    "        return total / count\n",
    "    return averager()"
   ],
   "id": "5c42b4592fd11988",
   "outputs": [],
   "execution_count": 17
  },
  {
   "metadata": {
    "ExecuteTime": {
     "end_time": "2024-11-18T08:04:18.521117Z",
     "start_time": "2024-11-18T08:04:18.514304Z"
    }
   },
   "cell_type": "code",
   "source": [
    "#Implementing simple decorator\n",
    "\n",
    "import time\n",
    "\n",
    "def clock(func):\n",
    "    def clocked(*args):\n",
    "        t0 = time.perf_counter()\n",
    "        result = func(*args)\n",
    "        elapsed = time.perf_counter() - t0\n",
    "        name = func.__name__\n",
    "        arg_str = ', '.join(repr(arg) for arg in args)\n",
    "        print(f'[{name}] {elapsed:0.3f}s | {arg_str}')\n",
    "        return result\n",
    "    return clocked"
   ],
   "id": "c279a8cad0d4bec5",
   "outputs": [],
   "execution_count": 18
  },
  {
   "metadata": {
    "ExecuteTime": {
     "end_time": "2024-11-18T08:07:01.828841Z",
     "start_time": "2024-11-18T08:07:01.696596Z"
    }
   },
   "cell_type": "code",
   "source": [
    "@clock\n",
    "def snooze(seconds):\n",
    "    time.sleep(seconds)\n",
    "\n",
    "@clock\n",
    "def factorial(n):\n",
    "    return 1 if n  < 2 else n * factorial(n - 1)\n",
    "\n",
    "if __name__ == '__main__':\n",
    "    print('*' * 40, 'Calling snooze(.123)')\n",
    "    snooze(.123)\n",
    "    print('*' * 40, 'Calling factorial(6)')\n",
    "    print('6! =', factorial(6))"
   ],
   "id": "3a5d7a540121af02",
   "outputs": [
    {
     "name": "stdout",
     "output_type": "stream",
     "text": [
      "**************************************** Calling snooze(.123)\n",
      "[snooze] 0.125s | 0.123\n",
      "**************************************** Calling factorial(6)\n",
      "[factorial] 0.000s | 1\n",
      "[factorial] 0.000s | 2\n",
      "[factorial] 0.000s | 3\n",
      "[factorial] 0.000s | 4\n",
      "[factorial] 0.000s | 5\n",
      "[factorial] 0.000s | 6\n",
      "6! = 720\n"
     ]
    }
   ],
   "execution_count": 19
  },
  {
   "metadata": {
    "ExecuteTime": {
     "end_time": "2024-11-18T08:13:03.465760Z",
     "start_time": "2024-11-18T08:13:03.460088Z"
    }
   },
   "cell_type": "code",
   "source": [
    "#standard library decorators\n",
    "import functools\n",
    "def clock(func):\n",
    "    @functools.wraps(func)\n",
    "    def clocked(*args, **kwargs):\n",
    "        t0 = time.perf_counter()\n",
    "        result = func(*args, **kwargs)\n",
    "        elapsed = time.perf_counter() - t0\n",
    "        name = func.__name__\n",
    "        arg_lst = [repr(arg) for arg in args]\n",
    "        arg_lst.extend(f'{k}={v!r}' for k, v in kwargs.items())\n",
    "        arg_str = ', '.join(arg_lst)\n",
    "        print(f'[{elapsed:0.8f}s] {name}({arg_str}) -> {result!r}')\n",
    "        return result\n",
    "    return clocked"
   ],
   "id": "250b7e4941450cd0",
   "outputs": [],
   "execution_count": 21
  },
  {
   "metadata": {
    "ExecuteTime": {
     "end_time": "2024-11-18T08:13:28.488361Z",
     "start_time": "2024-11-18T08:13:28.480551Z"
    }
   },
   "cell_type": "code",
   "source": "clock.__name__",
   "id": "14cede38247fa96d",
   "outputs": [
    {
     "data": {
      "text/plain": [
       "'clock'"
      ]
     },
     "execution_count": 22,
     "metadata": {},
     "output_type": "execute_result"
    }
   ],
   "execution_count": 22
  },
  {
   "metadata": {
    "ExecuteTime": {
     "end_time": "2024-11-18T08:16:45.327054Z",
     "start_time": "2024-11-18T08:16:45.318513Z"
    }
   },
   "cell_type": "code",
   "source": [
    "#Decorators in standard library\n",
    "@clock\n",
    "def fibonacci(n):\n",
    "    if n < 2:\n",
    "        return n\n",
    "    return fibonacci(n-2) + fibonacci(n-1)\n",
    "\n",
    "if __name__ == '__main__':\n",
    "    print(fibonacci(6))"
   ],
   "id": "7f01fdd850572131",
   "outputs": [
    {
     "name": "stdout",
     "output_type": "stream",
     "text": [
      "[0.00000025s] fibonacci(0) -> 0\n",
      "[0.00000071s] fibonacci(1) -> 1\n",
      "[0.00026904s] fibonacci(2) -> 1\n",
      "[0.00000017s] fibonacci(1) -> 1\n",
      "[0.00000021s] fibonacci(0) -> 0\n",
      "[0.00000017s] fibonacci(1) -> 1\n",
      "[0.00001988s] fibonacci(2) -> 1\n",
      "[0.00002913s] fibonacci(3) -> 2\n",
      "[0.00033533s] fibonacci(4) -> 3\n",
      "[0.00000029s] fibonacci(1) -> 1\n",
      "[0.00000017s] fibonacci(0) -> 0\n",
      "[0.00000013s] fibonacci(1) -> 1\n",
      "[0.00055163s] fibonacci(2) -> 1\n",
      "[0.00056675s] fibonacci(3) -> 2\n",
      "[0.00000017s] fibonacci(0) -> 0\n",
      "[0.00000025s] fibonacci(1) -> 1\n",
      "[0.00023546s] fibonacci(2) -> 1\n",
      "[0.00000013s] fibonacci(1) -> 1\n",
      "[0.00000013s] fibonacci(0) -> 0\n",
      "[0.00000017s] fibonacci(1) -> 1\n",
      "[0.00000883s] fibonacci(2) -> 1\n",
      "[0.00001679s] fibonacci(3) -> 2\n",
      "[0.00026033s] fibonacci(4) -> 3\n",
      "[0.00083633s] fibonacci(5) -> 5\n",
      "[0.00119292s] fibonacci(6) -> 8\n",
      "8\n"
     ]
    }
   ],
   "execution_count": 26
  },
  {
   "metadata": {
    "ExecuteTime": {
     "end_time": "2024-11-18T08:18:14.895306Z",
     "start_time": "2024-11-18T08:18:14.888119Z"
    }
   },
   "cell_type": "code",
   "source": [
    "@functools.cache #improve performance\n",
    "@clock\n",
    "def fibonacci(n):\n",
    "    if n < 2:\n",
    "        return n\n",
    "    return fibonacci(n-2) + fibonacci(n-1)\n",
    "\n",
    "if __name__ == '__main__':\n",
    "    print(fibonacci(6))"
   ],
   "id": "3416fc01e942c976",
   "outputs": [
    {
     "name": "stdout",
     "output_type": "stream",
     "text": [
      "[0.00000042s] fibonacci(0) -> 0\n",
      "[0.00000083s] fibonacci(1) -> 1\n",
      "[0.00039829s] fibonacci(2) -> 1\n",
      "[0.00000079s] fibonacci(3) -> 2\n",
      "[0.00041487s] fibonacci(4) -> 3\n",
      "[0.00000046s] fibonacci(5) -> 5\n",
      "[0.00042929s] fibonacci(6) -> 8\n",
      "8\n"
     ]
    }
   ],
   "execution_count": 28
  },
  {
   "metadata": {
    "ExecuteTime": {
     "end_time": "2024-11-18T08:24:36.797796Z",
     "start_time": "2024-11-18T08:24:36.790075Z"
    }
   },
   "cell_type": "code",
   "source": [
    "#Parametrized Decorators\n",
    "registry = []\n",
    "\n",
    "def register(func):\n",
    "    print(f'running register({func})')\n",
    "    registry.append(func)\n",
    "    return func\n",
    "\n",
    "@register\n",
    "def f1():\n",
    "    print('running f1()')\n",
    "    \n",
    "print('running main()')\n",
    "print('registry->', registry)\n",
    "f1()\n"
   ],
   "id": "2f18eee6f294e598",
   "outputs": [
    {
     "name": "stdout",
     "output_type": "stream",
     "text": [
      "running register(<function f1 at 0x1052fd9e0>)\n",
      "running main()\n",
      "registry-> [<function f1 at 0x1052fd9e0>]\n",
      "running f1()\n"
     ]
    }
   ],
   "execution_count": 29
  },
  {
   "metadata": {
    "ExecuteTime": {
     "end_time": "2024-11-18T08:27:15.631655Z",
     "start_time": "2024-11-18T08:27:15.620983Z"
    }
   },
   "cell_type": "code",
   "source": [
    "registry = set()\n",
    "\n",
    "def register(active=True):\n",
    "    def decorate(func):\n",
    "        print(f'running register({func})')\n",
    "        if active:\n",
    "            registry.add(func)\n",
    "        else:\n",
    "            registry.discard(func)\n",
    "        \n",
    "        return func\n",
    "    return decorate\n"
   ],
   "id": "876061066cee5b2b",
   "outputs": [],
   "execution_count": 30
  },
  {
   "metadata": {
    "ExecuteTime": {
     "end_time": "2024-11-18T08:29:34.824514Z",
     "start_time": "2024-11-18T08:29:34.809080Z"
    }
   },
   "cell_type": "code",
   "source": [
    "@register(active = False)\n",
    "def f1():\n",
    "    print('running f1()')\n",
    "    \n",
    "@register()\n",
    "def f2():\n",
    "    print('running f2()')\n",
    "    \n",
    "registry"
   ],
   "id": "617c119d976faa4e",
   "outputs": [
    {
     "name": "stdout",
     "output_type": "stream",
     "text": [
      "running register(<function f1 at 0x107225120>)\n",
      "running register(<function f2 at 0x105313420>)\n"
     ]
    },
    {
     "data": {
      "text/plain": [
       "{<function __main__.f2()>}"
      ]
     },
     "execution_count": 31,
     "metadata": {},
     "output_type": "execute_result"
    }
   ],
   "execution_count": 31
  },
  {
   "metadata": {
    "ExecuteTime": {
     "end_time": "2024-11-18T08:31:35.764873Z",
     "start_time": "2024-11-18T08:31:35.758713Z"
    }
   },
   "cell_type": "code",
   "source": [
    "import time\n",
    "\n",
    "DEFAULT_FMT = '[{elapsed:0.8f}s] {name}({args}) -> {result}'\n",
    "\n",
    "class Clock:  \n",
    "\n",
    "    def __init__(self, fmt=DEFAULT_FMT):  \n",
    "        self.fmt = fmt\n",
    "\n",
    "    def __call__(self, func):  \n",
    "        def clocked(*_args):\n",
    "            t0 = time.perf_counter()\n",
    "            _result = func(*_args)  \n",
    "            elapsed = time.perf_counter() - t0\n",
    "            name = func.__name__\n",
    "            args = ', '.join(repr(arg) for arg in _args)\n",
    "            result = repr(_result)\n",
    "            print(self.fmt.format(**locals()))\n",
    "            return _result\n",
    "        return clocked"
   ],
   "id": "3de3707fb5a1a118",
   "outputs": [],
   "execution_count": 32
  },
  {
   "metadata": {},
   "cell_type": "code",
   "outputs": [],
   "execution_count": null,
   "source": "",
   "id": "380432e12028c929"
  }
 ],
 "metadata": {
  "kernelspec": {
   "display_name": "Python 3",
   "language": "python",
   "name": "python3"
  },
  "language_info": {
   "codemirror_mode": {
    "name": "ipython",
    "version": 2
   },
   "file_extension": ".py",
   "mimetype": "text/x-python",
   "name": "python",
   "nbconvert_exporter": "python",
   "pygments_lexer": "ipython2",
   "version": "2.7.6"
  }
 },
 "nbformat": 4,
 "nbformat_minor": 5
}
