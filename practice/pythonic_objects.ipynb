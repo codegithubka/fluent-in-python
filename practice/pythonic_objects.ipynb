{
 "cells": [
  {
   "metadata": {},
   "cell_type": "code",
   "outputs": [],
   "execution_count": null,
   "source": [
    "#Vector class Redux\n",
    "\n",
    "from array import array\n",
    "import math\n",
    "\n",
    "class Vector2d:\n",
    "    typecode = 'd' #to/from bytes\n",
    "    \n",
    "    def __init__(self, x, y):\n",
    "        self.x = float(x)\n",
    "        self.y = float(y)\n",
    "        \n",
    "    def __iter__(self):\n",
    "        return (i for i in (self.x, self.y))\n",
    "    \n",
    "    def __repr__(self):\n",
    "        class_name = type(self).__name__\n",
    "        return '{}({!r}, {!r})'.format(class_name, *self)\n",
    "    \n",
    "    def __str(self):\n",
    "        return str(tuple(self))\n",
    "    \n",
    "    def __bytes__(self):\n",
    "        return (bytes([ord(self.typecode)]) +\n",
    "                bytes(array(self.typecode, self)))\n",
    "    \n",
    "    def __eq__(self, other):\n",
    "        return tuple(self) == tuple(other)\n",
    "    \n",
    "    def __abs__(self):\n",
    "        return math.hypot(self.x, self.y)\n",
    "    \n",
    "    def __bool__(self):\n",
    "        return bool(abs(self))"
   ],
   "id": "d12b07779dcc5f82"
  },
  {
   "metadata": {},
   "cell_type": "code",
   "outputs": [],
   "execution_count": null,
   "source": [
    "#Alternative Constructor\n",
    "@classmethod\n",
    "def frombytes(cls, octets):\n",
    "    typecode = chr(octets[0])\n",
    "    memv = memoryview(octets[1:]).cast(typecode)\n",
    "    return cls(*memv)\n"
   ],
   "id": "1fd36126d875905c"
  },
  {
   "metadata": {},
   "cell_type": "code",
   "outputs": [],
   "execution_count": null,
   "source": [
    "#classmethod Versus staticmethod\n",
    "class Demo:\n",
    "    @classmethod\n",
    "    def klassmethod(*args):\n",
    "        return args\n",
    "    def statmeth(*args):\n",
    "        return args"
   ],
   "id": "a9a40bd2110f5ba8"
  },
  {
   "metadata": {},
   "cell_type": "code",
   "outputs": [],
   "execution_count": null,
   "source": "Demo.klassmethod()",
   "id": "799755d79601e2af"
  },
  {
   "metadata": {},
   "cell_type": "code",
   "outputs": [],
   "execution_count": null,
   "source": "Demo.klassmethod('spam')",
   "id": "c5a07298700c77a3"
  },
  {
   "metadata": {},
   "cell_type": "code",
   "outputs": [],
   "execution_count": null,
   "source": "Demo.statmeth()",
   "id": "9a31df226a806f03"
  },
  {
   "metadata": {},
   "cell_type": "code",
   "outputs": [],
   "execution_count": null,
   "source": "Demo.statmeth('spam')",
   "id": "ae3a9c85aefa15b1"
  },
  {
   "metadata": {},
   "cell_type": "code",
   "outputs": [],
   "execution_count": null,
   "source": [
    "#hasable vector2d\n",
    "\n",
    "class Vector2d:\n",
    "    typecode = 'd'\n",
    "    \n",
    "    def __init__(self, x, y):\n",
    "        self.__x = float(x)\n",
    "        self.__y = float(y)\n",
    "        \n",
    "    @property\n",
    "    def x(self):\n",
    "        return self.__x\n",
    "    \n",
    "    @property\n",
    "    def y(self):\n",
    "        return self.__y\n",
    "    \n",
    "    def __iter__(self):\n",
    "        return (i for i in (self.x, self.y))\n",
    "    \n",
    "    def __hash__(self):\n",
    "        return hash((self.x, self.y))\n",
    "    \n",
    "    def __repr__(self):\n",
    "        class_name = type(self).__name__\n",
    "        return '{}({!r}, {!r})'.format(class_name, *self)\n",
    "    \n",
    "    def __str(self):\n",
    "        return str(tuple(self))\n",
    "    \n",
    "    def __bytes__(self):\n",
    "        return (bytes([ord(self.typecode)]) +\n",
    "                bytes(array(self.typecode, self)))\n",
    "    \n",
    "    def __eq__(self, other):\n",
    "        return tuple(self) == tuple(other)\n",
    "    \n",
    "    def __abs__(self):\n",
    "        return math.hypot(self.x, self.y)\n",
    "    \n",
    "    def __bool__(self):\n",
    "        return bool(abs(self))\n",
    "    \n",
    "    __match_args__ = ('x', 'y')"
   ],
   "id": "d9ab734b74b90d89"
  },
  {
   "metadata": {},
   "cell_type": "code",
   "outputs": [],
   "execution_count": null,
   "source": [
    "v1 = Vector2d(1, 2)\n",
    "v2 = Vector2d(3, 4)\n",
    "hash(v1), hash(v2)"
   ],
   "id": "1bdb60583af9811a"
  },
  {
   "metadata": {},
   "cell_type": "code",
   "outputs": [],
   "execution_count": null,
   "source": "{v1, v2}",
   "id": "5506b839abdff660"
  },
  {
   "metadata": {},
   "cell_type": "code",
   "outputs": [],
   "execution_count": null,
   "source": [
    "#Positional Pattern Matching\n",
    "\n",
    "class Vector2d:\n",
    "    __match_args__ = ('x', 'y')"
   ],
   "id": "4a2dd51735e457c1"
  },
  {
   "metadata": {},
   "cell_type": "code",
   "outputs": [],
   "execution_count": null,
   "source": [
    "def positional_pattern_demo(v:Vector2d)->None:\n",
    "    match v:\n",
    "        case Vector2d(0, 0):\n",
    "            print(f'{v!r} is null')\n",
    "        case Vector2d(0):\n",
    "            print(f'{v!r} is vertical')\n",
    "        case Vector2d(_, 0):\n",
    "            print(f'{v!r} is horizontal')\n",
    "        case Vector2d(x, y) if x==y:\n",
    "            print(f'{v!r} is diagonal')\n",
    "        case _:\n",
    "            print(f'{v!r} is awesome')"
   ],
   "id": "b4d755b651892e24"
  },
  {
   "metadata": {
    "ExecuteTime": {
     "end_time": "2024-11-19T00:04:29.084576Z",
     "start_time": "2024-11-19T00:04:29.069344Z"
    }
   },
   "cell_type": "code",
   "source": [
    "#Private and protected attributes in python\n",
    "#name mangling\n",
    "\n",
    "v1 = Vector2d(1, 2)\n",
    "v1.__dict__"
   ],
   "id": "a387e80819de935",
   "outputs": [
    {
     "data": {
      "text/plain": [
       "{'_Vector2d__x': 1.0, '_Vector2d__y': 2.0}"
      ]
     },
     "execution_count": 21,
     "metadata": {},
     "output_type": "execute_result"
    }
   ],
   "execution_count": 21
  },
  {
   "metadata": {
    "ExecuteTime": {
     "end_time": "2024-11-19T00:04:58.795573Z",
     "start_time": "2024-11-19T00:04:58.787086Z"
    }
   },
   "cell_type": "code",
   "source": "v1._Vector2d__x",
   "id": "64e011e586b27825",
   "outputs": [
    {
     "data": {
      "text/plain": [
       "1.0"
      ]
     },
     "execution_count": 23,
     "metadata": {},
     "output_type": "execute_result"
    }
   ],
   "execution_count": 23
  },
  {
   "metadata": {
    "ExecuteTime": {
     "end_time": "2024-11-19T00:08:41.001076Z",
     "start_time": "2024-11-19T00:08:40.979496Z"
    }
   },
   "cell_type": "code",
   "source": [
    "#saving memory with __slots__\n",
    "\n",
    "class Pixel:\n",
    "    __slots__ = ('x', 'y')\n",
    "\n",
    "p = Pixel()\n",
    "p.__dict__"
   ],
   "id": "e69becdf8475fcfb",
   "outputs": [
    {
     "ename": "AttributeError",
     "evalue": "'Pixel' object has no attribute '__dict__'",
     "output_type": "error",
     "traceback": [
      "\u001B[0;31m---------------------------------------------------------------------------\u001B[0m",
      "\u001B[0;31mAttributeError\u001B[0m                            Traceback (most recent call last)",
      "Cell \u001B[0;32mIn[24], line 7\u001B[0m\n\u001B[1;32m      4\u001B[0m     \u001B[38;5;18m__slots__\u001B[39m \u001B[38;5;241m=\u001B[39m (\u001B[38;5;124m'\u001B[39m\u001B[38;5;124mx\u001B[39m\u001B[38;5;124m'\u001B[39m, \u001B[38;5;124m'\u001B[39m\u001B[38;5;124my\u001B[39m\u001B[38;5;124m'\u001B[39m)\n\u001B[1;32m      6\u001B[0m p \u001B[38;5;241m=\u001B[39m Pixel()\n\u001B[0;32m----> 7\u001B[0m \u001B[43mp\u001B[49m\u001B[38;5;241;43m.\u001B[39;49m\u001B[38;5;18;43m__dict__\u001B[39;49m\n",
      "\u001B[0;31mAttributeError\u001B[0m: 'Pixel' object has no attribute '__dict__'"
     ]
    }
   ],
   "execution_count": 24
  },
  {
   "metadata": {
    "ExecuteTime": {
     "end_time": "2024-11-19T00:09:04.624427Z",
     "start_time": "2024-11-19T00:09:04.606160Z"
    }
   },
   "cell_type": "code",
   "source": [
    "p.x = 10\n",
    "p.y = 20\n",
    "p.color = 'red'"
   ],
   "id": "e1b3d9104fa5f28f",
   "outputs": [
    {
     "ename": "AttributeError",
     "evalue": "'Pixel' object has no attribute 'color'",
     "output_type": "error",
     "traceback": [
      "\u001B[0;31m---------------------------------------------------------------------------\u001B[0m",
      "\u001B[0;31mAttributeError\u001B[0m                            Traceback (most recent call last)",
      "Cell \u001B[0;32mIn[25], line 3\u001B[0m\n\u001B[1;32m      1\u001B[0m p\u001B[38;5;241m.\u001B[39mx \u001B[38;5;241m=\u001B[39m \u001B[38;5;241m10\u001B[39m\n\u001B[1;32m      2\u001B[0m p\u001B[38;5;241m.\u001B[39my \u001B[38;5;241m=\u001B[39m \u001B[38;5;241m20\u001B[39m\n\u001B[0;32m----> 3\u001B[0m \u001B[43mp\u001B[49m\u001B[38;5;241;43m.\u001B[39;49m\u001B[43mcolor\u001B[49m \u001B[38;5;241m=\u001B[39m \u001B[38;5;124m'\u001B[39m\u001B[38;5;124mred\u001B[39m\u001B[38;5;124m'\u001B[39m\n",
      "\u001B[0;31mAttributeError\u001B[0m: 'Pixel' object has no attribute 'color'"
     ]
    }
   ],
   "execution_count": 25
  },
  {
   "metadata": {
    "ExecuteTime": {
     "end_time": "2024-11-19T00:10:20.721125Z",
     "start_time": "2024-11-19T00:10:20.715167Z"
    }
   },
   "cell_type": "code",
   "source": [
    "class OpenPixel(Pixel):\n",
    "    pass\n",
    "\n",
    "op = OpenPixel()\n",
    "op.__dict__"
   ],
   "id": "73971bed9ad978b9",
   "outputs": [
    {
     "data": {
      "text/plain": [
       "{}"
      ]
     },
     "execution_count": 26,
     "metadata": {},
     "output_type": "execute_result"
    }
   ],
   "execution_count": 26
  },
  {
   "metadata": {
    "ExecuteTime": {
     "end_time": "2024-11-19T00:10:33.032462Z",
     "start_time": "2024-11-19T00:10:33.019014Z"
    }
   },
   "cell_type": "code",
   "source": [
    "op.x = 8\n",
    "op.__dict__"
   ],
   "id": "e83d8944cf3617ca",
   "outputs": [
    {
     "data": {
      "text/plain": [
       "{}"
      ]
     },
     "execution_count": 28,
     "metadata": {},
     "output_type": "execute_result"
    }
   ],
   "execution_count": 28
  },
  {
   "metadata": {
    "ExecuteTime": {
     "end_time": "2024-11-19T00:10:47.070468Z",
     "start_time": "2024-11-19T00:10:47.063801Z"
    }
   },
   "cell_type": "code",
   "source": "op.x",
   "id": "1a1db60fcc7f7ac9",
   "outputs": [
    {
     "data": {
      "text/plain": [
       "8"
      ]
     },
     "execution_count": 29,
     "metadata": {},
     "output_type": "execute_result"
    }
   ],
   "execution_count": 29
  },
  {
   "metadata": {
    "ExecuteTime": {
     "end_time": "2024-11-19T00:11:01.779308Z",
     "start_time": "2024-11-19T00:11:01.771820Z"
    }
   },
   "cell_type": "code",
   "source": [
    "op.color = 'green'\n",
    "op.__dict__"
   ],
   "id": "5291c365ffb73a9",
   "outputs": [
    {
     "data": {
      "text/plain": [
       "{'color': 'green'}"
      ]
     },
     "execution_count": 30,
     "metadata": {},
     "output_type": "execute_result"
    }
   ],
   "execution_count": 30
  },
  {
   "metadata": {
    "ExecuteTime": {
     "end_time": "2024-11-19T00:12:36.302491Z",
     "start_time": "2024-11-19T00:12:36.277440Z"
    }
   },
   "cell_type": "code",
   "source": [
    "class ColorPixel(Pixel):\n",
    "    __slots__ = ('color',)\n",
    "\n",
    "cp = ColorPixel()\n",
    "cp.__dict__\n",
    "    "
   ],
   "id": "75f701f75ba16372",
   "outputs": [
    {
     "ename": "AttributeError",
     "evalue": "'ColorPixel' object has no attribute '__dict__'",
     "output_type": "error",
     "traceback": [
      "\u001B[0;31m---------------------------------------------------------------------------\u001B[0m",
      "\u001B[0;31mAttributeError\u001B[0m                            Traceback (most recent call last)",
      "Cell \u001B[0;32mIn[31], line 5\u001B[0m\n\u001B[1;32m      2\u001B[0m     \u001B[38;5;18m__slots__\u001B[39m \u001B[38;5;241m=\u001B[39m (\u001B[38;5;124m'\u001B[39m\u001B[38;5;124mcolor\u001B[39m\u001B[38;5;124m'\u001B[39m,)\n\u001B[1;32m      4\u001B[0m cp \u001B[38;5;241m=\u001B[39m ColorPixel()\n\u001B[0;32m----> 5\u001B[0m \u001B[43mcp\u001B[49m\u001B[38;5;241;43m.\u001B[39;49m\u001B[38;5;18;43m__dict__\u001B[39;49m\n",
      "\u001B[0;31mAttributeError\u001B[0m: 'ColorPixel' object has no attribute '__dict__'"
     ]
    }
   ],
   "execution_count": 31
  },
  {
   "metadata": {
    "ExecuteTime": {
     "end_time": "2024-11-19T00:13:36.007449Z",
     "start_time": "2024-11-19T00:13:35.987938Z"
    }
   },
   "cell_type": "code",
   "source": [
    "cp.x = 2\n",
    "cp.color = ('blue')\n",
    "cp.flavor = 'banana'"
   ],
   "id": "fef99d3113cf972b",
   "outputs": [
    {
     "ename": "AttributeError",
     "evalue": "'ColorPixel' object has no attribute 'flavor'",
     "output_type": "error",
     "traceback": [
      "\u001B[0;31m---------------------------------------------------------------------------\u001B[0m",
      "\u001B[0;31mAttributeError\u001B[0m                            Traceback (most recent call last)",
      "Cell \u001B[0;32mIn[34], line 3\u001B[0m\n\u001B[1;32m      1\u001B[0m cp\u001B[38;5;241m.\u001B[39mx \u001B[38;5;241m=\u001B[39m \u001B[38;5;241m2\u001B[39m\n\u001B[1;32m      2\u001B[0m cp\u001B[38;5;241m.\u001B[39mcolor \u001B[38;5;241m=\u001B[39m (\u001B[38;5;124m'\u001B[39m\u001B[38;5;124mblue\u001B[39m\u001B[38;5;124m'\u001B[39m)\n\u001B[0;32m----> 3\u001B[0m \u001B[43mcp\u001B[49m\u001B[38;5;241;43m.\u001B[39;49m\u001B[43mflavor\u001B[49m \u001B[38;5;241m=\u001B[39m \u001B[38;5;124m'\u001B[39m\u001B[38;5;124mbanana\u001B[39m\u001B[38;5;124m'\u001B[39m\n",
      "\u001B[0;31mAttributeError\u001B[0m: 'ColorPixel' object has no attribute 'flavor'"
     ]
    }
   ],
   "execution_count": 34
  }
 ],
 "metadata": {
  "kernelspec": {
   "display_name": "Python 3",
   "language": "python",
   "name": "python3"
  },
  "language_info": {
   "codemirror_mode": {
    "name": "ipython",
    "version": 2
   },
   "file_extension": ".py",
   "mimetype": "text/x-python",
   "name": "python",
   "nbconvert_exporter": "python",
   "pygments_lexer": "ipython2",
   "version": "2.7.6"
  }
 },
 "nbformat": 4,
 "nbformat_minor": 5
}
