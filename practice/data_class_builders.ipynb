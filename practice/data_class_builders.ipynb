{
 "cells": [
  {
   "cell_type": "code",
   "id": "initial_id",
   "metadata": {
    "collapsed": true,
    "ExecuteTime": {
     "end_time": "2024-11-18T01:00:40.158524Z",
     "start_time": "2024-11-18T01:00:40.151492Z"
    }
   },
   "source": [
    "import typing\n",
    "\n",
    "\n",
    "class Coordinates:\n",
    "    def __init__(self, lat, lon):\n",
    "        self.lat = lat\n",
    "        self.lon = lon"
   ],
   "outputs": [],
   "execution_count": 11
  },
  {
   "metadata": {
    "ExecuteTime": {
     "end_time": "2024-11-18T01:00:41.214164Z",
     "start_time": "2024-11-18T01:00:41.204950Z"
    }
   },
   "cell_type": "code",
   "source": [
    "from coordinates import Coordinate\n",
    "moscow = Coordinates(55.76, 37.62)\n",
    "moscow"
   ],
   "id": "a6c24e7498442a11",
   "outputs": [
    {
     "data": {
      "text/plain": [
       "<__main__.Coordinates at 0x1084bf590>"
      ]
     },
     "execution_count": 12,
     "metadata": {},
     "output_type": "execute_result"
    }
   ],
   "execution_count": 12
  },
  {
   "metadata": {
    "ExecuteTime": {
     "end_time": "2024-11-18T01:00:42.887366Z",
     "start_time": "2024-11-18T01:00:42.882846Z"
    }
   },
   "cell_type": "code",
   "source": [
    "location  = Coordinates(55.76, 37.62)\n",
    "location == moscow"
   ],
   "id": "7abdd69ee5b12e25",
   "outputs": [
    {
     "data": {
      "text/plain": [
       "False"
      ]
     },
     "execution_count": 13,
     "metadata": {},
     "output_type": "execute_result"
    }
   ],
   "execution_count": 13
  },
  {
   "metadata": {
    "ExecuteTime": {
     "end_time": "2024-11-18T01:00:44.310815Z",
     "start_time": "2024-11-18T01:00:44.298134Z"
    }
   },
   "cell_type": "code",
   "source": "(location.lat, location.lon) == (moscow.lat, moscow.lon)",
   "id": "2dcc75415930c6a8",
   "outputs": [
    {
     "data": {
      "text/plain": [
       "True"
      ]
     },
     "execution_count": 14,
     "metadata": {},
     "output_type": "execute_result"
    }
   ],
   "execution_count": 14
  },
  {
   "metadata": {
    "ExecuteTime": {
     "end_time": "2024-11-18T01:01:33.737115Z",
     "start_time": "2024-11-18T01:01:33.723968Z"
    }
   },
   "cell_type": "code",
   "source": [
    "from collections import namedtuple\n",
    "Coordinates = namedtuple('Coordinates', 'lat lon')\n",
    "issubclass(Coordinates, tuple)"
   ],
   "id": "a83fd1451e7d9ef7",
   "outputs": [
    {
     "data": {
      "text/plain": [
       "True"
      ]
     },
     "execution_count": 16,
     "metadata": {},
     "output_type": "execute_result"
    }
   ],
   "execution_count": 16
  },
  {
   "metadata": {
    "ExecuteTime": {
     "end_time": "2024-11-18T01:01:59.689727Z",
     "start_time": "2024-11-18T01:01:59.681361Z"
    }
   },
   "cell_type": "code",
   "source": [
    "moscow = Coordinates(55.76, 37.62)\n",
    "moscow"
   ],
   "id": "e8644d01e6ca1605",
   "outputs": [
    {
     "data": {
      "text/plain": [
       "Coordinates(lat=55.76, lon=37.62)"
      ]
     },
     "execution_count": 17,
     "metadata": {},
     "output_type": "execute_result"
    }
   ],
   "execution_count": 17
  },
  {
   "metadata": {
    "ExecuteTime": {
     "end_time": "2024-11-18T01:02:20.922813Z",
     "start_time": "2024-11-18T01:02:20.914845Z"
    }
   },
   "cell_type": "code",
   "source": "moscow == Coordinates(lat=55.76, lon=37.62)",
   "id": "c032e63c1c885ec2",
   "outputs": [
    {
     "data": {
      "text/plain": [
       "True"
      ]
     },
     "execution_count": 18,
     "metadata": {},
     "output_type": "execute_result"
    }
   ],
   "execution_count": 18
  },
  {
   "metadata": {
    "ExecuteTime": {
     "end_time": "2024-11-18T01:06:00.576771Z",
     "start_time": "2024-11-18T01:06:00.564711Z"
    }
   },
   "cell_type": "code",
   "source": [
    "from dataclasses import dataclass\n",
    "\n",
    "@dataclass(frozen=True)\n",
    "class Coordinate:\n",
    "    lat: float\n",
    "    lon: float\n",
    "    \n",
    "    def __str__(self):\n",
    "        ns = 'N' if self.lat > 0 else 'S'\n",
    "        we = 'E' if self.lat < 0 else 'W'\n",
    "        return f'{abs(self.lat):.1f}°{ns}, {abs(self.lon):.1f}°{we}'"
   ],
   "id": "bb84c23a34fbf7ad",
   "outputs": [],
   "execution_count": 20
  },
  {
   "metadata": {
    "ExecuteTime": {
     "end_time": "2024-11-18T01:07:52.535569Z",
     "start_time": "2024-11-18T01:07:52.531636Z"
    }
   },
   "cell_type": "code",
   "source": [
    "from typing import NamedTuple\n",
    "\n",
    "class Coordinate(NamedTuple):\n",
    "    lat: float\n",
    "    lon: float\n",
    "    \n",
    "    def __str__(self):\n",
    "        ns = 'N' if self.lat > 0 else 'S'\n",
    "        we = 'E' if self.lat < 0 else 'W'\n",
    "        return f'{abs(self.lat):.1f}°{ns}, {abs(self.lon):.1f}°{we}'"
   ],
   "id": "ea8093088e1c1ac4",
   "outputs": [],
   "execution_count": 23
  },
  {
   "metadata": {
    "ExecuteTime": {
     "end_time": "2024-11-18T01:08:03.818479Z",
     "start_time": "2024-11-18T01:08:03.810204Z"
    }
   },
   "cell_type": "code",
   "source": "issubclass(Coordinate, tuple)",
   "id": "b2eaaacbe8f49008",
   "outputs": [
    {
     "data": {
      "text/plain": [
       "True"
      ]
     },
     "execution_count": 25,
     "metadata": {},
     "output_type": "execute_result"
    }
   ],
   "execution_count": 25
  },
  {
   "metadata": {
    "ExecuteTime": {
     "end_time": "2024-11-18T01:13:55.439638Z",
     "start_time": "2024-11-18T01:13:55.431589Z"
    }
   },
   "cell_type": "code",
   "source": [
    "#Classic Named Tuples\n",
    "from collections import namedtuple\n",
    "City = namedtuple('City', 'name country population coordinates') #class name, field names\n",
    "tokyo = City('Tokyo', 'JP', 36.933, (35.689722, 139.691667))\n",
    "tokyo"
   ],
   "id": "c8f61f078b94f72c",
   "outputs": [
    {
     "data": {
      "text/plain": [
       "City(name='Tokyo', country='JP', population=36.933, coordinates=(35.689722, 139.691667))"
      ]
     },
     "execution_count": 26,
     "metadata": {},
     "output_type": "execute_result"
    }
   ],
   "execution_count": 26
  },
  {
   "metadata": {
    "ExecuteTime": {
     "end_time": "2024-11-18T01:14:05.732012Z",
     "start_time": "2024-11-18T01:14:05.718997Z"
    }
   },
   "cell_type": "code",
   "source": "tokyo.population",
   "id": "3f7051896db5cc25",
   "outputs": [
    {
     "data": {
      "text/plain": [
       "36.933"
      ]
     },
     "execution_count": 27,
     "metadata": {},
     "output_type": "execute_result"
    }
   ],
   "execution_count": 27
  },
  {
   "metadata": {
    "ExecuteTime": {
     "end_time": "2024-11-18T01:14:09.615709Z",
     "start_time": "2024-11-18T01:14:09.602909Z"
    }
   },
   "cell_type": "code",
   "source": "tokyo.coordinates",
   "id": "66a241426f48e7f",
   "outputs": [
    {
     "data": {
      "text/plain": [
       "(35.689722, 139.691667)"
      ]
     },
     "execution_count": 28,
     "metadata": {},
     "output_type": "execute_result"
    }
   ],
   "execution_count": 28
  },
  {
   "metadata": {
    "ExecuteTime": {
     "end_time": "2024-11-18T01:14:18.674860Z",
     "start_time": "2024-11-18T01:14:18.665397Z"
    }
   },
   "cell_type": "code",
   "source": "tokyo[1]",
   "id": "1e7eeb0ca1c93afd",
   "outputs": [
    {
     "data": {
      "text/plain": [
       "'JP'"
      ]
     },
     "execution_count": 29,
     "metadata": {},
     "output_type": "execute_result"
    }
   ],
   "execution_count": 29
  },
  {
   "metadata": {
    "ExecuteTime": {
     "end_time": "2024-11-18T01:16:53.912934Z",
     "start_time": "2024-11-18T01:16:53.899562Z"
    }
   },
   "cell_type": "code",
   "source": "City._fields",
   "id": "8db10f25ba383cda",
   "outputs": [
    {
     "data": {
      "text/plain": [
       "('name', 'country', 'population', 'coordinates')"
      ]
     },
     "execution_count": 30,
     "metadata": {},
     "output_type": "execute_result"
    }
   ],
   "execution_count": 30
  },
  {
   "metadata": {
    "ExecuteTime": {
     "end_time": "2024-11-18T01:17:26.378074Z",
     "start_time": "2024-11-18T01:17:26.360769Z"
    }
   },
   "cell_type": "code",
   "source": [
    "Coordinate = namedtuple('Coordinate', 'lat lon')\n",
    "delhi_data = ('Delhi NCR', 'IN', 21.935, Coordinate(28.613889, 77.208889))\n",
    "delhi = City._make(delhi_data)\n",
    "\n",
    "delhi._asdict()"
   ],
   "id": "3de44ad2463e9c70",
   "outputs": [
    {
     "data": {
      "text/plain": [
       "{'name': 'Delhi NCR',\n",
       " 'country': 'IN',\n",
       " 'population': 21.935,\n",
       " 'coordinates': Coordinate(lat=28.613889, lon=77.208889)}"
      ]
     },
     "execution_count": 32,
     "metadata": {},
     "output_type": "execute_result"
    }
   ],
   "execution_count": 32
  },
  {
   "metadata": {
    "ExecuteTime": {
     "end_time": "2024-11-18T01:17:48.921907Z",
     "start_time": "2024-11-18T01:17:48.915282Z"
    }
   },
   "cell_type": "code",
   "source": [
    "import json\n",
    "json.dumps(delhi._asdict())"
   ],
   "id": "ea3cc330dce0ea62",
   "outputs": [
    {
     "data": {
      "text/plain": [
       "'{\"name\": \"Delhi NCR\", \"country\": \"IN\", \"population\": 21.935, \"coordinates\": [28.613889, 77.208889]}'"
      ]
     },
     "execution_count": 33,
     "metadata": {},
     "output_type": "execute_result"
    }
   ],
   "execution_count": 33
  },
  {
   "metadata": {
    "ExecuteTime": {
     "end_time": "2024-11-18T01:19:30.687819Z",
     "start_time": "2024-11-18T01:19:30.674646Z"
    }
   },
   "cell_type": "code",
   "source": [
    "Coordinate = namedtuple('Coordinate', 'lat lon reference',defaults= ['WGS84'])\n",
    "Coordinate(0, 0)"
   ],
   "id": "4ed357e233d0a30a",
   "outputs": [
    {
     "data": {
      "text/plain": [
       "Coordinate(lat=0, lon=0, reference='WGS84')"
      ]
     },
     "execution_count": 34,
     "metadata": {},
     "output_type": "execute_result"
    }
   ],
   "execution_count": 34
  },
  {
   "metadata": {
    "ExecuteTime": {
     "end_time": "2024-11-18T01:20:04.403210Z",
     "start_time": "2024-11-18T01:20:04.394134Z"
    }
   },
   "cell_type": "code",
   "source": "Coordinate._field_defaults",
   "id": "8f403febfcc101e8",
   "outputs": [
    {
     "data": {
      "text/plain": [
       "{'reference': 'WGS84'}"
      ]
     },
     "execution_count": 35,
     "metadata": {},
     "output_type": "execute_result"
    }
   ],
   "execution_count": 35
  },
  {
   "metadata": {
    "ExecuteTime": {
     "end_time": "2024-11-18T01:23:35.986154Z",
     "start_time": "2024-11-18T01:23:35.965730Z"
    }
   },
   "cell_type": "code",
   "source": [
    "#Typing Named Tuples\n",
    "from typing import NamedTuple\n",
    "\n",
    "class Coordinate(NamedTuple):\n",
    "    lat: float\n",
    "    lon: float\n",
    "    reference: str = 'WGS84'"
   ],
   "id": "25fb069820623337",
   "outputs": [],
   "execution_count": 36
  },
  {
   "metadata": {
    "ExecuteTime": {
     "end_time": "2024-11-18T01:27:39.218732Z",
     "start_time": "2024-11-18T01:27:39.204543Z"
    }
   },
   "cell_type": "code",
   "source": [
    "#No runtime effect\n",
    "import typing\n",
    "class Coordinate(typing.NamedTuple):\n",
    "    lat: float\n",
    "    lon: float\n",
    "\n",
    "trash = Coordinate('Ni!', None)\n",
    "print(trash)"
   ],
   "id": "71cb0d97fcd6e423",
   "outputs": [
    {
     "name": "stdout",
     "output_type": "stream",
     "text": [
      "Coordinate(lat='Ni!', lon=None)\n"
     ]
    }
   ],
   "execution_count": 38
  },
  {
   "metadata": {
    "ExecuteTime": {
     "end_time": "2024-11-18T01:31:23.067100Z",
     "start_time": "2024-11-18T01:31:23.061025Z"
    }
   },
   "cell_type": "code",
   "source": [
    "#Variable Annotation Syntax\n",
    "class DemoPlainClass:\n",
    "    a: int\n",
    "    b: float = 1.1\n",
    "    c = 'spam'"
   ],
   "id": "226b2bc590f15439",
   "outputs": [],
   "execution_count": 39
  },
  {
   "metadata": {
    "ExecuteTime": {
     "end_time": "2024-11-18T01:32:25.688465Z",
     "start_time": "2024-11-18T01:32:25.675810Z"
    }
   },
   "cell_type": "code",
   "source": "DemoPlainClass.__annotations__",
   "id": "bc6767f85d7d4016",
   "outputs": [
    {
     "data": {
      "text/plain": [
       "{'a': int, 'b': float}"
      ]
     },
     "execution_count": 40,
     "metadata": {},
     "output_type": "execute_result"
    }
   ],
   "execution_count": 40
  },
  {
   "metadata": {
    "ExecuteTime": {
     "end_time": "2024-11-18T01:32:32.578229Z",
     "start_time": "2024-11-18T01:32:32.551944Z"
    }
   },
   "cell_type": "code",
   "source": "DemoPlainClass.a",
   "id": "ab1998872fcd5c0e",
   "outputs": [
    {
     "ename": "AttributeError",
     "evalue": "type object 'DemoPlainClass' has no attribute 'a'",
     "output_type": "error",
     "traceback": [
      "\u001B[0;31m---------------------------------------------------------------------------\u001B[0m",
      "\u001B[0;31mAttributeError\u001B[0m                            Traceback (most recent call last)",
      "Cell \u001B[0;32mIn[41], line 1\u001B[0m\n\u001B[0;32m----> 1\u001B[0m \u001B[43mDemoPlainClass\u001B[49m\u001B[38;5;241;43m.\u001B[39;49m\u001B[43ma\u001B[49m\n",
      "\u001B[0;31mAttributeError\u001B[0m: type object 'DemoPlainClass' has no attribute 'a'"
     ]
    }
   ],
   "execution_count": 41
  },
  {
   "metadata": {
    "ExecuteTime": {
     "end_time": "2024-11-18T01:32:51.591370Z",
     "start_time": "2024-11-18T01:32:51.579128Z"
    }
   },
   "cell_type": "code",
   "source": "DemoPlainClass.b",
   "id": "92b9e94b13a2e869",
   "outputs": [
    {
     "data": {
      "text/plain": [
       "1.1"
      ]
     },
     "execution_count": 42,
     "metadata": {},
     "output_type": "execute_result"
    }
   ],
   "execution_count": 42
  },
  {
   "metadata": {
    "ExecuteTime": {
     "end_time": "2024-11-18T01:32:54.782063Z",
     "start_time": "2024-11-18T01:32:54.775666Z"
    }
   },
   "cell_type": "code",
   "source": "DemoPlainClass.c",
   "id": "4dcb178d5e950cd2",
   "outputs": [
    {
     "data": {
      "text/plain": [
       "'spam'"
      ]
     },
     "execution_count": 43,
     "metadata": {},
     "output_type": "execute_result"
    }
   ],
   "execution_count": 43
  },
  {
   "metadata": {
    "ExecuteTime": {
     "end_time": "2024-11-18T01:34:12.706295Z",
     "start_time": "2024-11-18T01:34:12.699161Z"
    }
   },
   "cell_type": "code",
   "source": [
    "class DemoNTClass(typing.NamedTuple):\n",
    "    a: int\n",
    "    b: float = 1.1\n",
    "    c = 'spam'"
   ],
   "id": "a0f4c78b52da41ec",
   "outputs": [],
   "execution_count": 44
  },
  {
   "metadata": {
    "ExecuteTime": {
     "end_time": "2024-11-18T01:34:27.098057Z",
     "start_time": "2024-11-18T01:34:27.089898Z"
    }
   },
   "cell_type": "code",
   "source": "DemoNTClass.__annotations__",
   "id": "c43262f4fd22dc4e",
   "outputs": [
    {
     "data": {
      "text/plain": [
       "{'a': int, 'b': float}"
      ]
     },
     "execution_count": 45,
     "metadata": {},
     "output_type": "execute_result"
    }
   ],
   "execution_count": 45
  },
  {
   "metadata": {
    "ExecuteTime": {
     "end_time": "2024-11-18T01:34:35.105593Z",
     "start_time": "2024-11-18T01:34:35.090794Z"
    }
   },
   "cell_type": "code",
   "source": "DemoNTClass.a",
   "id": "ea1a921e0c42d0d9",
   "outputs": [
    {
     "data": {
      "text/plain": [
       "_tuplegetter(0, 'Alias for field number 0')"
      ]
     },
     "execution_count": 46,
     "metadata": {},
     "output_type": "execute_result"
    }
   ],
   "execution_count": 46
  },
  {
   "metadata": {
    "ExecuteTime": {
     "end_time": "2024-11-18T01:34:42.084496Z",
     "start_time": "2024-11-18T01:34:42.076892Z"
    }
   },
   "cell_type": "code",
   "source": "DemoNTClass.b",
   "id": "ad3b64e2bab29253",
   "outputs": [
    {
     "data": {
      "text/plain": [
       "_tuplegetter(1, 'Alias for field number 1')"
      ]
     },
     "execution_count": 47,
     "metadata": {},
     "output_type": "execute_result"
    }
   ],
   "execution_count": 47
  },
  {
   "metadata": {
    "ExecuteTime": {
     "end_time": "2024-11-18T01:34:46.021171Z",
     "start_time": "2024-11-18T01:34:46.012655Z"
    }
   },
   "cell_type": "code",
   "source": "DemoNTClass.c",
   "id": "4a174874f870fec2",
   "outputs": [
    {
     "data": {
      "text/plain": [
       "'spam'"
      ]
     },
     "execution_count": 48,
     "metadata": {},
     "output_type": "execute_result"
    }
   ],
   "execution_count": 48
  },
  {
   "metadata": {
    "ExecuteTime": {
     "end_time": "2024-11-18T01:35:50.213272Z",
     "start_time": "2024-11-18T01:35:50.201456Z"
    }
   },
   "cell_type": "code",
   "source": "DemoNTClass.__doc__",
   "id": "89b0caa32ca1442a",
   "outputs": [
    {
     "data": {
      "text/plain": [
       "'DemoNTClass(a, b)'"
      ]
     },
     "execution_count": 49,
     "metadata": {},
     "output_type": "execute_result"
    }
   ],
   "execution_count": 49
  },
  {
   "metadata": {
    "ExecuteTime": {
     "end_time": "2024-11-18T01:36:09.217050Z",
     "start_time": "2024-11-18T01:36:09.205208Z"
    }
   },
   "cell_type": "code",
   "source": [
    "nt = DemoNTClass(8)\n",
    "nt.a"
   ],
   "id": "3028b4cf040e80a",
   "outputs": [
    {
     "data": {
      "text/plain": [
       "8"
      ]
     },
     "execution_count": 50,
     "metadata": {},
     "output_type": "execute_result"
    }
   ],
   "execution_count": 50
  },
  {
   "metadata": {
    "ExecuteTime": {
     "end_time": "2024-11-18T01:36:12.365517Z",
     "start_time": "2024-11-18T01:36:12.359909Z"
    }
   },
   "cell_type": "code",
   "source": "nt.b",
   "id": "9133bcc677df570b",
   "outputs": [
    {
     "data": {
      "text/plain": [
       "1.1"
      ]
     },
     "execution_count": 51,
     "metadata": {},
     "output_type": "execute_result"
    }
   ],
   "execution_count": 51
  },
  {
   "metadata": {
    "ExecuteTime": {
     "end_time": "2024-11-18T01:36:15.314435Z",
     "start_time": "2024-11-18T01:36:15.311230Z"
    }
   },
   "cell_type": "code",
   "source": "nt.c",
   "id": "74c912f3a8a3e6f5",
   "outputs": [
    {
     "data": {
      "text/plain": [
       "'spam'"
      ]
     },
     "execution_count": 52,
     "metadata": {},
     "output_type": "execute_result"
    }
   ],
   "execution_count": 52
  },
  {
   "metadata": {
    "ExecuteTime": {
     "end_time": "2024-11-18T01:37:25.803982Z",
     "start_time": "2024-11-18T01:37:25.789640Z"
    }
   },
   "cell_type": "code",
   "source": [
    "@dataclass\n",
    "class DemoDataClass:\n",
    "    a: int\n",
    "    b: float = 1.1\n",
    "    c = 'spam'"
   ],
   "id": "fc9979daba19a043",
   "outputs": [],
   "execution_count": 53
  },
  {
   "metadata": {
    "ExecuteTime": {
     "end_time": "2024-11-18T01:38:41.111916Z",
     "start_time": "2024-11-18T01:38:41.105098Z"
    }
   },
   "cell_type": "code",
   "source": "DemoDataClass.__annotations__",
   "id": "fa43bd09c0686dca",
   "outputs": [
    {
     "data": {
      "text/plain": [
       "{'a': int, 'b': float}"
      ]
     },
     "execution_count": 54,
     "metadata": {},
     "output_type": "execute_result"
    }
   ],
   "execution_count": 54
  },
  {
   "metadata": {
    "ExecuteTime": {
     "end_time": "2024-11-18T01:38:49.984801Z",
     "start_time": "2024-11-18T01:38:49.976317Z"
    }
   },
   "cell_type": "code",
   "source": "DemoDataClass.__doc__",
   "id": "815cdaebd18d0fc1",
   "outputs": [
    {
     "data": {
      "text/plain": [
       "'DemoDataClass(a: int, b: float = 1.1)'"
      ]
     },
     "execution_count": 55,
     "metadata": {},
     "output_type": "execute_result"
    }
   ],
   "execution_count": 55
  },
  {
   "metadata": {
    "ExecuteTime": {
     "end_time": "2024-11-18T01:39:20.023068Z",
     "start_time": "2024-11-18T01:39:19.994339Z"
    }
   },
   "cell_type": "code",
   "source": "DemoDataClass.a",
   "id": "dbf77abcb0c82b9e",
   "outputs": [
    {
     "ename": "AttributeError",
     "evalue": "type object 'DemoDataClass' has no attribute 'a'",
     "output_type": "error",
     "traceback": [
      "\u001B[0;31m---------------------------------------------------------------------------\u001B[0m",
      "\u001B[0;31mAttributeError\u001B[0m                            Traceback (most recent call last)",
      "Cell \u001B[0;32mIn[57], line 1\u001B[0m\n\u001B[0;32m----> 1\u001B[0m \u001B[43mDemoDataClass\u001B[49m\u001B[38;5;241;43m.\u001B[39;49m\u001B[43ma\u001B[49m\n",
      "\u001B[0;31mAttributeError\u001B[0m: type object 'DemoDataClass' has no attribute 'a'"
     ]
    }
   ],
   "execution_count": 57
  },
  {
   "metadata": {
    "ExecuteTime": {
     "end_time": "2024-11-18T01:39:26.614890Z",
     "start_time": "2024-11-18T01:39:26.606496Z"
    }
   },
   "cell_type": "code",
   "source": "DemoDataClass.b",
   "id": "315bebff8d00c0b",
   "outputs": [
    {
     "data": {
      "text/plain": [
       "1.1"
      ]
     },
     "execution_count": 58,
     "metadata": {},
     "output_type": "execute_result"
    }
   ],
   "execution_count": 58
  },
  {
   "metadata": {
    "ExecuteTime": {
     "end_time": "2024-11-18T01:44:48.259359Z",
     "start_time": "2024-11-18T01:44:48.178921Z"
    }
   },
   "cell_type": "code",
   "source": [
    "@dataclass\n",
    "class ClubMember:\n",
    "    name: str\n",
    "    guests: list = []"
   ],
   "id": "56c563c4e6a415aa",
   "outputs": [
    {
     "ename": "ValueError",
     "evalue": "mutable default <class 'list'> for field guests is not allowed: use default_factory",
     "output_type": "error",
     "traceback": [
      "\u001B[0;31m---------------------------------------------------------------------------\u001B[0m",
      "\u001B[0;31mValueError\u001B[0m                                Traceback (most recent call last)",
      "Cell \u001B[0;32mIn[61], line 1\u001B[0m\n\u001B[0;32m----> 1\u001B[0m \u001B[38;5;129;43m@dataclass\u001B[39;49m\n\u001B[1;32m      2\u001B[0m \u001B[38;5;28;43;01mclass\u001B[39;49;00m\u001B[43m \u001B[49m\u001B[38;5;21;43;01mClubMember\u001B[39;49;00m\u001B[43m:\u001B[49m\n\u001B[1;32m      3\u001B[0m \u001B[43m    \u001B[49m\u001B[43mname\u001B[49m\u001B[43m:\u001B[49m\u001B[43m \u001B[49m\u001B[38;5;28;43mstr\u001B[39;49m\n\u001B[1;32m      4\u001B[0m \u001B[43m    \u001B[49m\u001B[43mguests\u001B[49m\u001B[43m:\u001B[49m\u001B[43m \u001B[49m\u001B[38;5;28;43mlist\u001B[39;49m\u001B[43m \u001B[49m\u001B[38;5;241;43m=\u001B[39;49m\u001B[43m \u001B[49m\u001B[43m[\u001B[49m\u001B[43m]\u001B[49m\n",
      "File \u001B[0;32m/Library/Frameworks/Python.framework/Versions/3.12/lib/python3.12/dataclasses.py:1266\u001B[0m, in \u001B[0;36mdataclass\u001B[0;34m(cls, init, repr, eq, order, unsafe_hash, frozen, match_args, kw_only, slots, weakref_slot)\u001B[0m\n\u001B[1;32m   1263\u001B[0m     \u001B[38;5;28;01mreturn\u001B[39;00m wrap\n\u001B[1;32m   1265\u001B[0m \u001B[38;5;66;03m# We're called as @dataclass without parens.\u001B[39;00m\n\u001B[0;32m-> 1266\u001B[0m \u001B[38;5;28;01mreturn\u001B[39;00m \u001B[43mwrap\u001B[49m\u001B[43m(\u001B[49m\u001B[38;5;28;43mcls\u001B[39;49m\u001B[43m)\u001B[49m\n",
      "File \u001B[0;32m/Library/Frameworks/Python.framework/Versions/3.12/lib/python3.12/dataclasses.py:1256\u001B[0m, in \u001B[0;36mdataclass.<locals>.wrap\u001B[0;34m(cls)\u001B[0m\n\u001B[1;32m   1255\u001B[0m \u001B[38;5;28;01mdef\u001B[39;00m \u001B[38;5;21mwrap\u001B[39m(\u001B[38;5;28mcls\u001B[39m):\n\u001B[0;32m-> 1256\u001B[0m     \u001B[38;5;28;01mreturn\u001B[39;00m \u001B[43m_process_class\u001B[49m\u001B[43m(\u001B[49m\u001B[38;5;28;43mcls\u001B[39;49m\u001B[43m,\u001B[49m\u001B[43m \u001B[49m\u001B[43minit\u001B[49m\u001B[43m,\u001B[49m\u001B[43m \u001B[49m\u001B[38;5;28;43mrepr\u001B[39;49m\u001B[43m,\u001B[49m\u001B[43m \u001B[49m\u001B[43meq\u001B[49m\u001B[43m,\u001B[49m\u001B[43m \u001B[49m\u001B[43morder\u001B[49m\u001B[43m,\u001B[49m\u001B[43m \u001B[49m\u001B[43munsafe_hash\u001B[49m\u001B[43m,\u001B[49m\n\u001B[1;32m   1257\u001B[0m \u001B[43m                          \u001B[49m\u001B[43mfrozen\u001B[49m\u001B[43m,\u001B[49m\u001B[43m \u001B[49m\u001B[43mmatch_args\u001B[49m\u001B[43m,\u001B[49m\u001B[43m \u001B[49m\u001B[43mkw_only\u001B[49m\u001B[43m,\u001B[49m\u001B[43m \u001B[49m\u001B[43mslots\u001B[49m\u001B[43m,\u001B[49m\n\u001B[1;32m   1258\u001B[0m \u001B[43m                          \u001B[49m\u001B[43mweakref_slot\u001B[49m\u001B[43m)\u001B[49m\n",
      "File \u001B[0;32m/Library/Frameworks/Python.framework/Versions/3.12/lib/python3.12/dataclasses.py:994\u001B[0m, in \u001B[0;36m_process_class\u001B[0;34m(cls, init, repr, eq, order, unsafe_hash, frozen, match_args, kw_only, slots, weakref_slot)\u001B[0m\n\u001B[1;32m    991\u001B[0m         kw_only \u001B[38;5;241m=\u001B[39m \u001B[38;5;28;01mTrue\u001B[39;00m\n\u001B[1;32m    992\u001B[0m     \u001B[38;5;28;01melse\u001B[39;00m:\n\u001B[1;32m    993\u001B[0m         \u001B[38;5;66;03m# Otherwise it's a field of some type.\u001B[39;00m\n\u001B[0;32m--> 994\u001B[0m         cls_fields\u001B[38;5;241m.\u001B[39mappend(\u001B[43m_get_field\u001B[49m\u001B[43m(\u001B[49m\u001B[38;5;28;43mcls\u001B[39;49m\u001B[43m,\u001B[49m\u001B[43m \u001B[49m\u001B[43mname\u001B[49m\u001B[43m,\u001B[49m\u001B[43m \u001B[49m\u001B[38;5;28;43mtype\u001B[39;49m\u001B[43m,\u001B[49m\u001B[43m \u001B[49m\u001B[43mkw_only\u001B[49m\u001B[43m)\u001B[49m)\n\u001B[1;32m    996\u001B[0m \u001B[38;5;28;01mfor\u001B[39;00m f \u001B[38;5;129;01min\u001B[39;00m cls_fields:\n\u001B[1;32m    997\u001B[0m     fields[f\u001B[38;5;241m.\u001B[39mname] \u001B[38;5;241m=\u001B[39m f\n",
      "File \u001B[0;32m/Library/Frameworks/Python.framework/Versions/3.12/lib/python3.12/dataclasses.py:852\u001B[0m, in \u001B[0;36m_get_field\u001B[0;34m(cls, a_name, a_type, default_kw_only)\u001B[0m\n\u001B[1;32m    848\u001B[0m \u001B[38;5;66;03m# For real fields, disallow mutable defaults.  Use unhashable as a proxy\u001B[39;00m\n\u001B[1;32m    849\u001B[0m \u001B[38;5;66;03m# indicator for mutability.  Read the __hash__ attribute from the class,\u001B[39;00m\n\u001B[1;32m    850\u001B[0m \u001B[38;5;66;03m# not the instance.\u001B[39;00m\n\u001B[1;32m    851\u001B[0m \u001B[38;5;28;01mif\u001B[39;00m f\u001B[38;5;241m.\u001B[39m_field_type \u001B[38;5;129;01mis\u001B[39;00m _FIELD \u001B[38;5;129;01mand\u001B[39;00m f\u001B[38;5;241m.\u001B[39mdefault\u001B[38;5;241m.\u001B[39m\u001B[38;5;18m__class__\u001B[39m\u001B[38;5;241m.\u001B[39m\u001B[38;5;21m__hash__\u001B[39m \u001B[38;5;129;01mis\u001B[39;00m \u001B[38;5;28;01mNone\u001B[39;00m:\n\u001B[0;32m--> 852\u001B[0m     \u001B[38;5;28;01mraise\u001B[39;00m \u001B[38;5;167;01mValueError\u001B[39;00m(\u001B[38;5;124mf\u001B[39m\u001B[38;5;124m'\u001B[39m\u001B[38;5;124mmutable default \u001B[39m\u001B[38;5;132;01m{\u001B[39;00m\u001B[38;5;28mtype\u001B[39m(f\u001B[38;5;241m.\u001B[39mdefault)\u001B[38;5;132;01m}\u001B[39;00m\u001B[38;5;124m for field \u001B[39m\u001B[38;5;124m'\u001B[39m\n\u001B[1;32m    853\u001B[0m                      \u001B[38;5;124mf\u001B[39m\u001B[38;5;124m'\u001B[39m\u001B[38;5;132;01m{\u001B[39;00mf\u001B[38;5;241m.\u001B[39mname\u001B[38;5;132;01m}\u001B[39;00m\u001B[38;5;124m is not allowed: use default_factory\u001B[39m\u001B[38;5;124m'\u001B[39m)\n\u001B[1;32m    855\u001B[0m \u001B[38;5;28;01mreturn\u001B[39;00m f\n",
      "\u001B[0;31mValueError\u001B[0m: mutable default <class 'list'> for field guests is not allowed: use default_factory"
     ]
    }
   ],
   "execution_count": 61
  },
  {
   "metadata": {
    "ExecuteTime": {
     "end_time": "2024-11-18T01:49:59.987146Z",
     "start_time": "2024-11-18T01:49:59.980101Z"
    }
   },
   "cell_type": "code",
   "source": [
    "from dataclasses import field\n",
    "\n",
    "@dataclass\n",
    "class ClubMember:\n",
    "    name: str\n",
    "    guests: list = field(default_factory=list)\n",
    "    athlete: bool = field(default=False, repr=False)"
   ],
   "id": "b56f7a3bb5c9143b",
   "outputs": [],
   "execution_count": 63
  },
  {
   "metadata": {
    "ExecuteTime": {
     "end_time": "2024-11-18T01:54:03.831026Z",
     "start_time": "2024-11-18T01:54:03.819355Z"
    }
   },
   "cell_type": "code",
   "source": [
    "@dataclass \n",
    "class HackerClubMember(ClubMember):\n",
    "    all_handles = set()\n",
    "    handle: str = ''\n",
    "    \n",
    "    def __post_init__(self):\n",
    "        cls = self.__class__\n",
    "        if self.handle == '':\n",
    "            self.handle = self.name.split()[0]\n",
    "        if self.handle in cls.all_handles:\n",
    "            msg = f'Already hacked {self.handle}'\n",
    "            raise ValueError(msg)\n",
    "        cls.all_handles.add(self.handle)"
   ],
   "id": "a009a49d175a3cd7",
   "outputs": [],
   "execution_count": 64
  },
  {
   "metadata": {},
   "cell_type": "code",
   "outputs": [],
   "execution_count": null,
   "source": [
    "#Simple Class Patterns\n",
    "match x:\n",
    "    case float(): #DANGER!!\n",
    "        do_something_with(x)"
   ],
   "id": "1c1ae977e454da7f"
  },
  {
   "metadata": {},
   "cell_type": "code",
   "outputs": [],
   "execution_count": null,
   "source": [
    "#Keyword Class Patterns\n",
    "\n",
    "import typing\n",
    "\n",
    "class City(typing.NamedTuple):\n",
    "    continent: str\n",
    "    name: str\n",
    "    country: str\n",
    "    \n",
    "cities = [\n",
    "    City('Asia', 'Tokyo', 'JP'),\n",
    "    City('Asia', 'Delhi', 'IN'),\n",
    "    City('North America', 'Mexico City', 'MX'),\n",
    "    City('North America', 'New York', 'US'),\n",
    "    City('South America', 'São Paulo', 'BR'),\n",
    "]"
   ],
   "id": "8f3509eb96d9a207"
  },
  {
   "metadata": {
    "ExecuteTime": {
     "end_time": "2024-11-18T02:19:46.669773Z",
     "start_time": "2024-11-18T02:19:46.657873Z"
    }
   },
   "cell_type": "code",
   "source": [
    "def match_asian_cities():\n",
    "    results = []\n",
    "    for city in cities:\n",
    "        match city:\n",
    "            case City(continent= 'Asia'):\n",
    "                results.append(city)\n",
    "    return results"
   ],
   "id": "64b260f0f31877e",
   "outputs": [],
   "execution_count": 65
  },
  {
   "metadata": {
    "ExecuteTime": {
     "end_time": "2024-11-18T02:21:12.631627Z",
     "start_time": "2024-11-18T02:21:12.618077Z"
    }
   },
   "cell_type": "code",
   "source": [
    "def mathc_asian_countries():\n",
    "    results = []\n",
    "    for city in cities:\n",
    "        match city:\n",
    "            case City(continent = 'Asia', country=cc):\n",
    "                results.append(cc)\n",
    "    return results"
   ],
   "id": "b3f92ac4fcca8800",
   "outputs": [],
   "execution_count": 66
  },
  {
   "metadata": {
    "ExecuteTime": {
     "end_time": "2024-11-18T02:22:57.801137Z",
     "start_time": "2024-11-18T02:22:57.792147Z"
    }
   },
   "cell_type": "code",
   "source": [
    "#Positional Class Patterns\n",
    "\n",
    "def match_asian_cities_pos():\n",
    "    results = []\n",
    "    for city in cities:\n",
    "        match city:\n",
    "            case City('Asia'):\n",
    "                results.append(city)\n",
    "    return results\n",
    "            "
   ],
   "id": "e412545fadcfc277",
   "outputs": [],
   "execution_count": 67
  },
  {
   "metadata": {
    "ExecuteTime": {
     "end_time": "2024-11-18T02:24:35.932595Z",
     "start_time": "2024-11-18T02:24:35.926296Z"
    }
   },
   "cell_type": "code",
   "source": [
    "def match_asian_countries_pos():\n",
    "    results = []\n",
    "    for city in cities:\n",
    "        match city:\n",
    "            case City('Asia', _, country):\n",
    "                results.append(country)\n",
    "    return results"
   ],
   "id": "82e1b8b3acc08e04",
   "outputs": [],
   "execution_count": 68
  },
  {
   "metadata": {
    "ExecuteTime": {
     "end_time": "2024-11-18T02:24:48.427637Z",
     "start_time": "2024-11-18T02:24:48.413754Z"
    }
   },
   "cell_type": "code",
   "source": "City.__match_args__",
   "id": "3887402e23677891",
   "outputs": [
    {
     "data": {
      "text/plain": [
       "('name', 'country', 'population', 'coordinates')"
      ]
     },
     "execution_count": 69,
     "metadata": {},
     "output_type": "execute_result"
    }
   ],
   "execution_count": 69
  }
 ],
 "metadata": {
  "kernelspec": {
   "display_name": "Python 3",
   "language": "python",
   "name": "python3"
  },
  "language_info": {
   "codemirror_mode": {
    "name": "ipython",
    "version": 2
   },
   "file_extension": ".py",
   "mimetype": "text/x-python",
   "name": "python",
   "nbconvert_exporter": "python",
   "pygments_lexer": "ipython2",
   "version": "2.7.6"
  }
 },
 "nbformat": 4,
 "nbformat_minor": 5
}
